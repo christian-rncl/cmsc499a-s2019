{
 "cells": [
  {
   "cell_type": "markdown",
   "metadata": {},
   "source": [
    "# Get Uniprot IDS for influenza\n",
    "## Christian Roncal Cmsc499a Dr. Leiserson"
   ]
  },
  {
   "cell_type": "code",
   "execution_count": 1,
   "metadata": {},
   "outputs": [],
   "source": [
    "import os \n",
    "import pandas as pd\n",
    "import numpy as np\n",
    "from utils import *\n",
    "import re"
   ]
  },
  {
   "cell_type": "code",
   "execution_count": 2,
   "metadata": {},
   "outputs": [
    {
     "data": {
      "text/plain": [
       "['full_train.csv',\n",
       " 'make_matrix.py',\n",
       " 'fullmatrix_getprots.ipynb',\n",
       " 'utils.py',\n",
       " 'hepatitis_c_processing.ipynb',\n",
       " 'hepc_interactions_full.csv',\n",
       " 'dataprocessing_playground.ipynb',\n",
       " 'ebola_interactions_full.csv',\n",
       " 'makesingletasks.ipynb',\n",
       " 'classes.pkl',\n",
       " 'influenza',\n",
       " 'ebola',\n",
       " 'influenza_a_processing-Copy1.ipynb',\n",
       " 'flustrains.txt',\n",
       " '.ipynb_checkpoints',\n",
       " 'flu_interactions_full.csv',\n",
       " 'D.pkl',\n",
       " 'hepc',\n",
       " '__pycache__',\n",
       " 'hepc.fasta',\n",
       " 'uniprots',\n",
       " 'ebola_processing.ipynb',\n",
       " 'conjoint_featurizer_playground.ipynb']"
      ]
     },
     "execution_count": 2,
     "metadata": {},
     "output_type": "execute_result"
    }
   ],
   "source": [
    "os.listdir()"
   ]
  },
  {
   "cell_type": "markdown",
   "metadata": {},
   "source": [
    "# 1 load data"
   ]
  },
  {
   "cell_type": "code",
   "execution_count": 3,
   "metadata": {},
   "outputs": [],
   "source": [
    "flu_csv = './influenza/flu_phi.csv'"
   ]
  },
  {
   "cell_type": "code",
   "execution_count": 4,
   "metadata": {},
   "outputs": [],
   "source": [
    "fludf = pd.read_csv(flu_csv, index_col=0)"
   ]
  },
  {
   "cell_type": "code",
   "execution_count": 5,
   "metadata": {},
   "outputs": [
    {
     "data": {
      "text/html": [
       "<div>\n",
       "<style scoped>\n",
       "    .dataframe tbody tr th:only-of-type {\n",
       "        vertical-align: middle;\n",
       "    }\n",
       "\n",
       "    .dataframe tbody tr th {\n",
       "        vertical-align: top;\n",
       "    }\n",
       "\n",
       "    .dataframe thead th {\n",
       "        text-align: right;\n",
       "    }\n",
       "</style>\n",
       "<table border=\"1\" class=\"dataframe\">\n",
       "  <thead>\n",
       "    <tr style=\"text-align: right;\">\n",
       "      <th></th>\n",
       "      <th>Pathogen</th>\n",
       "      <th>Taxonomy ID</th>\n",
       "      <th>virusUprot</th>\n",
       "      <th>Pathogen Protein</th>\n",
       "      <th>humanUprot</th>\n",
       "      <th>Human Protein</th>\n",
       "      <th>Experimental Method</th>\n",
       "      <th>Pubmed ID</th>\n",
       "    </tr>\n",
       "  </thead>\n",
       "  <tbody>\n",
       "    <tr>\n",
       "      <th>0</th>\n",
       "      <td>Influenza A virus STRAIN A / PUERTO RICO / 8 /...</td>\n",
       "      <td>211044</td>\n",
       "      <td>P03433</td>\n",
       "      <td>PA_I34A1</td>\n",
       "      <td>P49736</td>\n",
       "      <td>MCM2_HUMAN</td>\n",
       "      <td>anti bait coimmunoprecipitation</td>\n",
       "      <td>17932485</td>\n",
       "    </tr>\n",
       "    <tr>\n",
       "      <th>1</th>\n",
       "      <td>Influenza A virus STRAIN A / PUERTO RICO / 8 /...</td>\n",
       "      <td>211044</td>\n",
       "      <td>P03466</td>\n",
       "      <td>NCAP_I34A1</td>\n",
       "      <td>P49736</td>\n",
       "      <td>MCM2_HUMAN</td>\n",
       "      <td>anti bait coimmunoprecipitation</td>\n",
       "      <td>17932485</td>\n",
       "    </tr>\n",
       "    <tr>\n",
       "      <th>2</th>\n",
       "      <td>Influenza A virus STRAIN A / PUERTO RICO / 8 /...</td>\n",
       "      <td>211044</td>\n",
       "      <td>P03428</td>\n",
       "      <td>PB2_I34A1</td>\n",
       "      <td>P49736</td>\n",
       "      <td>MCM2_HUMAN</td>\n",
       "      <td>anti bait coimmunoprecipitation</td>\n",
       "      <td>17932485</td>\n",
       "    </tr>\n",
       "    <tr>\n",
       "      <th>3</th>\n",
       "      <td>Influenza A virus STRAIN A / PUERTO RICO / 8 /...</td>\n",
       "      <td>211044</td>\n",
       "      <td>P03485</td>\n",
       "      <td>M1_I34A1</td>\n",
       "      <td>P15311</td>\n",
       "      <td>EZRI_HUMAN</td>\n",
       "      <td>anti bait coimmunoprecipitation</td>\n",
       "      <td>17022977</td>\n",
       "    </tr>\n",
       "    <tr>\n",
       "      <th>4</th>\n",
       "      <td>Influenza A virus STRAIN A / PUERTO RICO / 8 /...</td>\n",
       "      <td>211044</td>\n",
       "      <td>P03485</td>\n",
       "      <td>M1_I34A1</td>\n",
       "      <td>P11142</td>\n",
       "      <td>HSP7C_HUMAN</td>\n",
       "      <td>anti bait coimmunoprecipitation</td>\n",
       "      <td>17022977</td>\n",
       "    </tr>\n",
       "  </tbody>\n",
       "</table>\n",
       "</div>"
      ],
      "text/plain": [
       "                                            Pathogen  Taxonomy ID virusUprot  \\\n",
       "0  Influenza A virus STRAIN A / PUERTO RICO / 8 /...       211044     P03433   \n",
       "1  Influenza A virus STRAIN A / PUERTO RICO / 8 /...       211044     P03466   \n",
       "2  Influenza A virus STRAIN A / PUERTO RICO / 8 /...       211044     P03428   \n",
       "3  Influenza A virus STRAIN A / PUERTO RICO / 8 /...       211044     P03485   \n",
       "4  Influenza A virus STRAIN A / PUERTO RICO / 8 /...       211044     P03485   \n",
       "\n",
       "  Pathogen Protein humanUprot Human Protein              Experimental Method  \\\n",
       "0        PA_I34A1      P49736   MCM2_HUMAN   anti bait coimmunoprecipitation   \n",
       "1      NCAP_I34A1      P49736   MCM2_HUMAN   anti bait coimmunoprecipitation   \n",
       "2       PB2_I34A1      P49736   MCM2_HUMAN   anti bait coimmunoprecipitation   \n",
       "3        M1_I34A1      P15311   EZRI_HUMAN   anti bait coimmunoprecipitation   \n",
       "4        M1_I34A1      P11142  HSP7C_HUMAN   anti bait coimmunoprecipitation   \n",
       "\n",
       "   Pubmed ID  \n",
       "0   17932485  \n",
       "1   17932485  \n",
       "2   17932485  \n",
       "3   17022977  \n",
       "4   17022977  "
      ]
     },
     "execution_count": 5,
     "metadata": {},
     "output_type": "execute_result"
    }
   ],
   "source": [
    "fludf.head()"
   ]
  },
  {
   "cell_type": "code",
   "execution_count": 6,
   "metadata": {},
   "outputs": [
    {
     "data": {
      "text/plain": [
       "526"
      ]
     },
     "execution_count": 6,
     "metadata": {},
     "output_type": "execute_result"
    }
   ],
   "source": [
    "len(fludf['Pathogen'].unique()) #not all of this will be of interest"
   ]
  },
  {
   "cell_type": "markdown",
   "metadata": {},
   "source": [
    "# 2 Extract relevant strains\n",
    "\n",
    "Use regex to get strains we're interested in: H1N1|H3N2|H5N1|H7N3"
   ]
  },
  {
   "cell_type": "code",
   "execution_count": 7,
   "metadata": {},
   "outputs": [
    {
     "name": "stdout",
     "output_type": "stream",
     "text": [
      "Pathogen H1N1|H3N2|H5N1|H7N3\n"
     ]
    }
   ],
   "source": [
    "regex = 'H1N1|H3N2|H5N1|H7N3'\n",
    "fludf = regex_select(fludf, 'Pathogen', regex)"
   ]
  },
  {
   "cell_type": "code",
   "execution_count": 8,
   "metadata": {},
   "outputs": [
    {
     "data": {
      "text/html": [
       "<div>\n",
       "<style scoped>\n",
       "    .dataframe tbody tr th:only-of-type {\n",
       "        vertical-align: middle;\n",
       "    }\n",
       "\n",
       "    .dataframe tbody tr th {\n",
       "        vertical-align: top;\n",
       "    }\n",
       "\n",
       "    .dataframe thead th {\n",
       "        text-align: right;\n",
       "    }\n",
       "</style>\n",
       "<table border=\"1\" class=\"dataframe\">\n",
       "  <thead>\n",
       "    <tr style=\"text-align: right;\">\n",
       "      <th></th>\n",
       "      <th>Pathogen</th>\n",
       "      <th>Taxonomy ID</th>\n",
       "      <th>virusUprot</th>\n",
       "      <th>Pathogen Protein</th>\n",
       "      <th>humanUprot</th>\n",
       "      <th>Human Protein</th>\n",
       "      <th>Experimental Method</th>\n",
       "      <th>Pubmed ID</th>\n",
       "    </tr>\n",
       "  </thead>\n",
       "  <tbody>\n",
       "    <tr>\n",
       "      <th>0</th>\n",
       "      <td>Influenza A virus STRAIN A / PUERTO RICO / 8 /...</td>\n",
       "      <td>211044</td>\n",
       "      <td>P03433</td>\n",
       "      <td>PA_I34A1</td>\n",
       "      <td>P49736</td>\n",
       "      <td>MCM2_HUMAN</td>\n",
       "      <td>anti bait coimmunoprecipitation</td>\n",
       "      <td>17932485</td>\n",
       "    </tr>\n",
       "    <tr>\n",
       "      <th>1</th>\n",
       "      <td>Influenza A virus STRAIN A / PUERTO RICO / 8 /...</td>\n",
       "      <td>211044</td>\n",
       "      <td>P03466</td>\n",
       "      <td>NCAP_I34A1</td>\n",
       "      <td>P49736</td>\n",
       "      <td>MCM2_HUMAN</td>\n",
       "      <td>anti bait coimmunoprecipitation</td>\n",
       "      <td>17932485</td>\n",
       "    </tr>\n",
       "    <tr>\n",
       "      <th>2</th>\n",
       "      <td>Influenza A virus STRAIN A / PUERTO RICO / 8 /...</td>\n",
       "      <td>211044</td>\n",
       "      <td>P03428</td>\n",
       "      <td>PB2_I34A1</td>\n",
       "      <td>P49736</td>\n",
       "      <td>MCM2_HUMAN</td>\n",
       "      <td>anti bait coimmunoprecipitation</td>\n",
       "      <td>17932485</td>\n",
       "    </tr>\n",
       "    <tr>\n",
       "      <th>3</th>\n",
       "      <td>Influenza A virus STRAIN A / PUERTO RICO / 8 /...</td>\n",
       "      <td>211044</td>\n",
       "      <td>P03485</td>\n",
       "      <td>M1_I34A1</td>\n",
       "      <td>P15311</td>\n",
       "      <td>EZRI_HUMAN</td>\n",
       "      <td>anti bait coimmunoprecipitation</td>\n",
       "      <td>17022977</td>\n",
       "    </tr>\n",
       "    <tr>\n",
       "      <th>4</th>\n",
       "      <td>Influenza A virus STRAIN A / PUERTO RICO / 8 /...</td>\n",
       "      <td>211044</td>\n",
       "      <td>P03485</td>\n",
       "      <td>M1_I34A1</td>\n",
       "      <td>P11142</td>\n",
       "      <td>HSP7C_HUMAN</td>\n",
       "      <td>anti bait coimmunoprecipitation</td>\n",
       "      <td>17022977</td>\n",
       "    </tr>\n",
       "  </tbody>\n",
       "</table>\n",
       "</div>"
      ],
      "text/plain": [
       "                                            Pathogen  Taxonomy ID virusUprot  \\\n",
       "0  Influenza A virus STRAIN A / PUERTO RICO / 8 /...       211044     P03433   \n",
       "1  Influenza A virus STRAIN A / PUERTO RICO / 8 /...       211044     P03466   \n",
       "2  Influenza A virus STRAIN A / PUERTO RICO / 8 /...       211044     P03428   \n",
       "3  Influenza A virus STRAIN A / PUERTO RICO / 8 /...       211044     P03485   \n",
       "4  Influenza A virus STRAIN A / PUERTO RICO / 8 /...       211044     P03485   \n",
       "\n",
       "  Pathogen Protein humanUprot Human Protein              Experimental Method  \\\n",
       "0        PA_I34A1      P49736   MCM2_HUMAN   anti bait coimmunoprecipitation   \n",
       "1      NCAP_I34A1      P49736   MCM2_HUMAN   anti bait coimmunoprecipitation   \n",
       "2       PB2_I34A1      P49736   MCM2_HUMAN   anti bait coimmunoprecipitation   \n",
       "3        M1_I34A1      P15311   EZRI_HUMAN   anti bait coimmunoprecipitation   \n",
       "4        M1_I34A1      P11142  HSP7C_HUMAN   anti bait coimmunoprecipitation   \n",
       "\n",
       "   Pubmed ID  \n",
       "0   17932485  \n",
       "1   17932485  \n",
       "2   17932485  \n",
       "3   17022977  \n",
       "4   17022977  "
      ]
     },
     "execution_count": 8,
     "metadata": {},
     "output_type": "execute_result"
    }
   ],
   "source": [
    "fludf.head()"
   ]
  },
  {
   "cell_type": "code",
   "execution_count": 9,
   "metadata": {},
   "outputs": [
    {
     "data": {
      "text/plain": [
       "52"
      ]
     },
     "execution_count": 9,
     "metadata": {},
     "output_type": "execute_result"
    }
   ],
   "source": [
    "len(fludf['Pathogen'].unique())"
   ]
  },
  {
   "cell_type": "markdown",
   "metadata": {},
   "source": [
    "# 3 Get virus|human uniprots of interactions\n",
    "\n",
    "get a df with cols virus uniprot and human uniprot for matrix interaction processing."
   ]
  },
  {
   "cell_type": "code",
   "execution_count": 10,
   "metadata": {},
   "outputs": [],
   "source": [
    "# drop cols we don't need\n",
    "fludf = removeObsoletes(fludf[['virusUprot', 'humanUprot']])"
   ]
  },
  {
   "cell_type": "code",
   "execution_count": 11,
   "metadata": {},
   "outputs": [],
   "source": [
    "fludf = fludf.replace(to_replace='B4UPB0', value='T2AAS6')"
   ]
  },
  {
   "cell_type": "code",
   "execution_count": 12,
   "metadata": {},
   "outputs": [],
   "source": [
    "fludf = fludf.replace(to_replace='B4UPB2', value='I6TAG8')"
   ]
  },
  {
   "cell_type": "code",
   "execution_count": 13,
   "metadata": {},
   "outputs": [
    {
     "data": {
      "text/html": [
       "<div>\n",
       "<style scoped>\n",
       "    .dataframe tbody tr th:only-of-type {\n",
       "        vertical-align: middle;\n",
       "    }\n",
       "\n",
       "    .dataframe tbody tr th {\n",
       "        vertical-align: top;\n",
       "    }\n",
       "\n",
       "    .dataframe thead th {\n",
       "        text-align: right;\n",
       "    }\n",
       "</style>\n",
       "<table border=\"1\" class=\"dataframe\">\n",
       "  <thead>\n",
       "    <tr style=\"text-align: right;\">\n",
       "      <th></th>\n",
       "      <th>virusUprot</th>\n",
       "      <th>humanUprot</th>\n",
       "    </tr>\n",
       "  </thead>\n",
       "  <tbody>\n",
       "    <tr>\n",
       "      <th>0</th>\n",
       "      <td>P03433</td>\n",
       "      <td>P49736</td>\n",
       "    </tr>\n",
       "    <tr>\n",
       "      <th>1</th>\n",
       "      <td>P03466</td>\n",
       "      <td>P49736</td>\n",
       "    </tr>\n",
       "    <tr>\n",
       "      <th>2</th>\n",
       "      <td>P03428</td>\n",
       "      <td>P49736</td>\n",
       "    </tr>\n",
       "    <tr>\n",
       "      <th>3</th>\n",
       "      <td>P03485</td>\n",
       "      <td>P15311</td>\n",
       "    </tr>\n",
       "    <tr>\n",
       "      <th>4</th>\n",
       "      <td>P03485</td>\n",
       "      <td>P11142</td>\n",
       "    </tr>\n",
       "  </tbody>\n",
       "</table>\n",
       "</div>"
      ],
      "text/plain": [
       "  virusUprot humanUprot\n",
       "0     P03433     P49736\n",
       "1     P03466     P49736\n",
       "2     P03428     P49736\n",
       "3     P03485     P15311\n",
       "4     P03485     P11142"
      ]
     },
     "execution_count": 13,
     "metadata": {},
     "output_type": "execute_result"
    }
   ],
   "source": [
    "fludf.head()"
   ]
  },
  {
   "cell_type": "code",
   "execution_count": 14,
   "metadata": {},
   "outputs": [],
   "source": [
    "# save current interaction matrix\n",
    "fludf.to_csv('flu_interactions_full.csv', index=False)"
   ]
  },
  {
   "cell_type": "code",
   "execution_count": 15,
   "metadata": {},
   "outputs": [
    {
     "data": {
      "text/html": [
       "<div>\n",
       "<style scoped>\n",
       "    .dataframe tbody tr th:only-of-type {\n",
       "        vertical-align: middle;\n",
       "    }\n",
       "\n",
       "    .dataframe tbody tr th {\n",
       "        vertical-align: top;\n",
       "    }\n",
       "\n",
       "    .dataframe thead th {\n",
       "        text-align: right;\n",
       "    }\n",
       "</style>\n",
       "<table border=\"1\" class=\"dataframe\">\n",
       "  <thead>\n",
       "    <tr style=\"text-align: right;\">\n",
       "      <th></th>\n",
       "      <th>virusUprot</th>\n",
       "      <th>humanUprot</th>\n",
       "    </tr>\n",
       "  </thead>\n",
       "  <tbody>\n",
       "    <tr>\n",
       "      <th>0</th>\n",
       "      <td>P03433</td>\n",
       "      <td>P49736</td>\n",
       "    </tr>\n",
       "    <tr>\n",
       "      <th>1</th>\n",
       "      <td>P03466</td>\n",
       "      <td>P49736</td>\n",
       "    </tr>\n",
       "    <tr>\n",
       "      <th>2</th>\n",
       "      <td>P03428</td>\n",
       "      <td>P49736</td>\n",
       "    </tr>\n",
       "    <tr>\n",
       "      <th>3</th>\n",
       "      <td>P03485</td>\n",
       "      <td>P15311</td>\n",
       "    </tr>\n",
       "    <tr>\n",
       "      <th>4</th>\n",
       "      <td>P03485</td>\n",
       "      <td>P11142</td>\n",
       "    </tr>\n",
       "  </tbody>\n",
       "</table>\n",
       "</div>"
      ],
      "text/plain": [
       "  virusUprot humanUprot\n",
       "0     P03433     P49736\n",
       "1     P03466     P49736\n",
       "2     P03428     P49736\n",
       "3     P03485     P15311\n",
       "4     P03485     P11142"
      ]
     },
     "execution_count": 15,
     "metadata": {},
     "output_type": "execute_result"
    }
   ],
   "source": [
    "pd.read_csv('flu_interactions_full.csv').head()"
   ]
  },
  {
   "cell_type": "markdown",
   "metadata": {},
   "source": [
    "# rank"
   ]
  },
  {
   "cell_type": "code",
   "execution_count": 16,
   "metadata": {},
   "outputs": [],
   "source": [
    "ranked_fludf = rank_by_interactions(fludf, 20)"
   ]
  },
  {
   "cell_type": "code",
   "execution_count": 26,
   "metadata": {},
   "outputs": [
    {
     "data": {
      "text/plain": [
       "<matplotlib.axes._subplots.AxesSubplot at 0x7ff0800ff048>"
      ]
     },
     "execution_count": 26,
     "metadata": {},
     "output_type": "execute_result"
    },
    {
     "data": {
      "image/png": "[encoded data removed]",
      "text/plain": [
       "<Figure size 432x288 with 1 Axes>"
      ]
     },
     "metadata": {
      "needs_background": "light"
     },
     "output_type": "display_data"
    }
   ],
   "source": [
    "ranked_fludf['ratio'].plot.line()"
   ]
  },
  {
   "cell_type": "code",
   "execution_count": 27,
   "metadata": {},
   "outputs": [],
   "source": [
    "top28 = ranked_fludf[:28]"
   ]
  },
  {
   "cell_type": "code",
   "execution_count": 28,
   "metadata": {},
   "outputs": [
    {
     "data": {
      "text/plain": [
       "0.11396615852061397"
      ]
     },
     "execution_count": 28,
     "metadata": {},
     "output_type": "execute_result"
    }
   ],
   "source": [
    "top28['ratio'].mean()"
   ]
  },
  {
   "cell_type": "code",
   "execution_count": 29,
   "metadata": {},
   "outputs": [],
   "source": [
    "top16 = ranked_fludf[:16]"
   ]
  },
  {
   "cell_type": "code",
   "execution_count": 30,
   "metadata": {},
   "outputs": [
    {
     "data": {
      "text/plain": [
       "0.16061606160616063"
      ]
     },
     "execution_count": 30,
     "metadata": {},
     "output_type": "execute_result"
    }
   ],
   "source": [
    "top16['ratio'].mean()"
   ]
  },
  {
   "cell_type": "markdown",
   "metadata": {},
   "source": [
    "# Extract topX virus entries"
   ]
  },
  {
   "cell_type": "code",
   "execution_count": 19,
   "metadata": {},
   "outputs": [],
   "source": [
    "top28_uniprots = top28['virus'].unique()"
   ]
  },
  {
   "cell_type": "code",
   "execution_count": 20,
   "metadata": {},
   "outputs": [],
   "source": [
    "top16_uniprots = top16['virus'].unique()"
   ]
  },
  {
   "cell_type": "code",
   "execution_count": 21,
   "metadata": {},
   "outputs": [
    {
     "data": {
      "text/plain": [
       "array(['P03470', 'P05777', 'P05780', 'P15682', 'P03427', 'Q1K9H5',\n",
       "       'P03496', 'P03454', 'P15659', 'P06821', 'P03430', 'P03428',\n",
       "       'Q20MH8', 'P03431', 'B4URF7', 'P03468', 'P03508', 'P03452',\n",
       "       'Q1K9H2', 'P03433', 'P03466', 'I6T1Z2', 'Q82506', 'O56264',\n",
       "       'I6TAH8', 'Q20MH0', 'B4URE7', 'Q5EP28'], dtype=object)"
      ]
     },
     "execution_count": 21,
     "metadata": {},
     "output_type": "execute_result"
    }
   ],
   "source": [
    "top28_uniprots"
   ]
  },
  {
   "cell_type": "code",
   "execution_count": 23,
   "metadata": {},
   "outputs": [
    {
     "data": {
      "text/plain": [
       "array(['P03470', 'P05777', 'P05780', 'P15682', 'P03427', 'Q1K9H5',\n",
       "       'P03496', 'P03454', 'P15659', 'P06821', 'P03430', 'P03428',\n",
       "       'Q20MH8', 'P03431', 'B4URF7', 'P03468'], dtype=object)"
      ]
     },
     "execution_count": 23,
     "metadata": {},
     "output_type": "execute_result"
    }
   ],
   "source": [
    "top16_uniprots"
   ]
  },
  {
   "cell_type": "code",
   "execution_count": 29,
   "metadata": {},
   "outputs": [],
   "source": [
    "top28_interactions = fludf[fludf['virusUprot'].apply((lambda x: x in top28_uniprots))]"
   ]
  },
  {
   "cell_type": "code",
   "execution_count": 30,
   "metadata": {},
   "outputs": [
    {
     "data": {
      "text/plain": [
       "28"
      ]
     },
     "execution_count": 30,
     "metadata": {},
     "output_type": "execute_result"
    }
   ],
   "source": [
    "len(top28_interactions['virusUprot'].unique())"
   ]
  },
  {
   "cell_type": "code",
   "execution_count": 31,
   "metadata": {},
   "outputs": [],
   "source": [
    "top28_interactions.to_csv('flu_top28_interactions.csv')"
   ]
  },
  {
   "cell_type": "code",
   "execution_count": null,
   "metadata": {},
   "outputs": [],
   "source": [
    "### top16_interactions = fludf[fludf['virusUprot'].apply((lambda x: x in top16_uniprots))]"
   ]
  },
  {
   "cell_type": "code",
   "execution_count": 34,
   "metadata": {},
   "outputs": [
    {
     "data": {
      "text/plain": [
       "16"
      ]
     },
     "execution_count": 34,
     "metadata": {},
     "output_type": "execute_result"
    }
   ],
   "source": [
    "len(top16_interactions['virusUprot'].unique())"
   ]
  },
  {
   "cell_type": "code",
   "execution_count": 25,
   "metadata": {},
   "outputs": [
    {
     "ename": "NameError",
     "evalue": "name 'top16_interactions' is not defined",
     "output_type": "error",
     "traceback": [
      "\u001b[0;31m---------------------------------------------------------------------------\u001b[0m",
      "\u001b[0;31mNameError\u001b[0m                                 Traceback (most recent call last)",
      "\u001b[0;32m<ipython-input-25-093ba6eb9d44>\u001b[0m in \u001b[0;36m<module>\u001b[0;34m\u001b[0m\n\u001b[0;32m----> 1\u001b[0;31m \u001b[0mtop16_interactions\u001b[0m\u001b[0;34m.\u001b[0m\u001b[0mto_csv\u001b[0m\u001b[0;34m(\u001b[0m\u001b[0;34m'flu_top16_interactions.csv'\u001b[0m\u001b[0;34m)\u001b[0m\u001b[0;34m\u001b[0m\u001b[0;34m\u001b[0m\u001b[0m\n\u001b[0m",
      "\u001b[0;31mNameError\u001b[0m: name 'top16_interactions' is not defined"
     ]
    }
   ],
   "source": [
    "top16_interactions.to_csv('flu_top16_interactions.csv')"
   ]
  },
  {
   "cell_type": "code",
   "execution_count": null,
   "metadata": {},
   "outputs": [],
   "source": []
  }
 ],
 "metadata": {
  "kernelspec": {
   "display_name": "Python deeplearning",
   "language": "python",
   "name": "myenv"
  },
  "language_info": {
   "codemirror_mode": {
    "name": "ipython",
    "version": 3
   },
   "file_extension": ".py",
   "mimetype": "text/x-python",
   "name": "python",
   "nbconvert_exporter": "python",
   "pygments_lexer": "ipython3",
   "version": "3.6.8"
  }
 },
 "nbformat": 4,
 "nbformat_minor": 2
}
