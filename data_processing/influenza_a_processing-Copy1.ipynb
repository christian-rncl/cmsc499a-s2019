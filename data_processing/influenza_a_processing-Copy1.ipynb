{
 "cells": [
  {
   "cell_type": "markdown",
   "metadata": {},
   "source": [
    "# Get Uniprot IDS for influenza\n",
    "## Christian Roncal Cmsc499a Dr. Leiserson"
   ]
  },
  {
   "cell_type": "code",
   "execution_count": 1,
   "metadata": {},
   "outputs": [],
   "source": [
    "import os \n",
    "import pandas as pd\n",
    "import numpy as np\n",
    "from utils import *\n",
    "import re"
   ]
  },
  {
   "cell_type": "code",
   "execution_count": 2,
   "metadata": {},
   "outputs": [
    {
     "data": {
      "text/plain": [
       "['full_train.csv',\n",
       " 'make_matrix.py',\n",
       " 'fullmatrix_getprots.ipynb',\n",
       " 'utils.py',\n",
       " 'hepatitis_c_processing.ipynb',\n",
       " 'hepc_interactions_full.csv',\n",
       " 'dataprocessing_playground.ipynb',\n",
       " 'ebola_interactions_full.csv',\n",
       " 'classes.pkl',\n",
       " 'influenza',\n",
       " 'ebola',\n",
       " 'influenza_a_processing-Copy1.ipynb',\n",
       " 'flustrains.txt',\n",
       " '.ipynb_checkpoints',\n",
       " 'flu_interactions_full.csv',\n",
       " 'D.pkl',\n",
       " 'hepc',\n",
       " '__pycache__',\n",
       " 'hepc.fasta',\n",
       " 'uniprots',\n",
       " 'ebola_processing.ipynb',\n",
       " 'conjoint_featurizer_playground.ipynb']"
      ]
     },
     "execution_count": 2,
     "metadata": {},
     "output_type": "execute_result"
    }
   ],
   "source": [
    "os.listdir()"
   ]
  },
  {
   "cell_type": "markdown",
   "metadata": {},
   "source": [
    "# 1 load data"
   ]
  },
  {
   "cell_type": "code",
   "execution_count": 3,
   "metadata": {},
   "outputs": [],
   "source": [
    "flu_csv = './influenza/flu_phi.csv'"
   ]
  },
  {
   "cell_type": "code",
   "execution_count": 4,
   "metadata": {},
   "outputs": [],
   "source": [
    "fludf = pd.read_csv(flu_csv, index_col=0)"
   ]
  },
  {
   "cell_type": "code",
   "execution_count": 5,
   "metadata": {},
   "outputs": [
    {
     "data": {
      "text/html": [
       "<div>\n",
       "<style scoped>\n",
       "    .dataframe tbody tr th:only-of-type {\n",
       "        vertical-align: middle;\n",
       "    }\n",
       "\n",
       "    .dataframe tbody tr th {\n",
       "        vertical-align: top;\n",
       "    }\n",
       "\n",
       "    .dataframe thead th {\n",
       "        text-align: right;\n",
       "    }\n",
       "</style>\n",
       "<table border=\"1\" class=\"dataframe\">\n",
       "  <thead>\n",
       "    <tr style=\"text-align: right;\">\n",
       "      <th></th>\n",
       "      <th>Pathogen</th>\n",
       "      <th>Taxonomy ID</th>\n",
       "      <th>virusUprot</th>\n",
       "      <th>Pathogen Protein</th>\n",
       "      <th>humanUprot</th>\n",
       "      <th>Human Protein</th>\n",
       "      <th>Experimental Method</th>\n",
       "      <th>Pubmed ID</th>\n",
       "    </tr>\n",
       "  </thead>\n",
       "  <tbody>\n",
       "    <tr>\n",
       "      <th>0</th>\n",
       "      <td>Influenza A virus STRAIN A / PUERTO RICO / 8 /...</td>\n",
       "      <td>211044</td>\n",
       "      <td>P03433</td>\n",
       "      <td>PA_I34A1</td>\n",
       "      <td>P49736</td>\n",
       "      <td>MCM2_HUMAN</td>\n",
       "      <td>anti bait coimmunoprecipitation</td>\n",
       "      <td>17932485</td>\n",
       "    </tr>\n",
       "    <tr>\n",
       "      <th>1</th>\n",
       "      <td>Influenza A virus STRAIN A / PUERTO RICO / 8 /...</td>\n",
       "      <td>211044</td>\n",
       "      <td>P03466</td>\n",
       "      <td>NCAP_I34A1</td>\n",
       "      <td>P49736</td>\n",
       "      <td>MCM2_HUMAN</td>\n",
       "      <td>anti bait coimmunoprecipitation</td>\n",
       "      <td>17932485</td>\n",
       "    </tr>\n",
       "    <tr>\n",
       "      <th>2</th>\n",
       "      <td>Influenza A virus STRAIN A / PUERTO RICO / 8 /...</td>\n",
       "      <td>211044</td>\n",
       "      <td>P03428</td>\n",
       "      <td>PB2_I34A1</td>\n",
       "      <td>P49736</td>\n",
       "      <td>MCM2_HUMAN</td>\n",
       "      <td>anti bait coimmunoprecipitation</td>\n",
       "      <td>17932485</td>\n",
       "    </tr>\n",
       "    <tr>\n",
       "      <th>3</th>\n",
       "      <td>Influenza A virus STRAIN A / PUERTO RICO / 8 /...</td>\n",
       "      <td>211044</td>\n",
       "      <td>P03485</td>\n",
       "      <td>M1_I34A1</td>\n",
       "      <td>P15311</td>\n",
       "      <td>EZRI_HUMAN</td>\n",
       "      <td>anti bait coimmunoprecipitation</td>\n",
       "      <td>17022977</td>\n",
       "    </tr>\n",
       "    <tr>\n",
       "      <th>4</th>\n",
       "      <td>Influenza A virus STRAIN A / PUERTO RICO / 8 /...</td>\n",
       "      <td>211044</td>\n",
       "      <td>P03485</td>\n",
       "      <td>M1_I34A1</td>\n",
       "      <td>P11142</td>\n",
       "      <td>HSP7C_HUMAN</td>\n",
       "      <td>anti bait coimmunoprecipitation</td>\n",
       "      <td>17022977</td>\n",
       "    </tr>\n",
       "  </tbody>\n",
       "</table>\n",
       "</div>"
      ],
      "text/plain": [
       "                                            Pathogen  Taxonomy ID virusUprot  \\\n",
       "0  Influenza A virus STRAIN A / PUERTO RICO / 8 /...       211044     P03433   \n",
       "1  Influenza A virus STRAIN A / PUERTO RICO / 8 /...       211044     P03466   \n",
       "2  Influenza A virus STRAIN A / PUERTO RICO / 8 /...       211044     P03428   \n",
       "3  Influenza A virus STRAIN A / PUERTO RICO / 8 /...       211044     P03485   \n",
       "4  Influenza A virus STRAIN A / PUERTO RICO / 8 /...       211044     P03485   \n",
       "\n",
       "  Pathogen Protein humanUprot Human Protein              Experimental Method  \\\n",
       "0        PA_I34A1      P49736   MCM2_HUMAN   anti bait coimmunoprecipitation   \n",
       "1      NCAP_I34A1      P49736   MCM2_HUMAN   anti bait coimmunoprecipitation   \n",
       "2       PB2_I34A1      P49736   MCM2_HUMAN   anti bait coimmunoprecipitation   \n",
       "3        M1_I34A1      P15311   EZRI_HUMAN   anti bait coimmunoprecipitation   \n",
       "4        M1_I34A1      P11142  HSP7C_HUMAN   anti bait coimmunoprecipitation   \n",
       "\n",
       "   Pubmed ID  \n",
       "0   17932485  \n",
       "1   17932485  \n",
       "2   17932485  \n",
       "3   17022977  \n",
       "4   17022977  "
      ]
     },
     "execution_count": 5,
     "metadata": {},
     "output_type": "execute_result"
    }
   ],
   "source": [
    "fludf.head()"
   ]
  },
  {
   "cell_type": "code",
   "execution_count": 6,
   "metadata": {},
   "outputs": [
    {
     "data": {
      "text/plain": [
       "526"
      ]
     },
     "execution_count": 6,
     "metadata": {},
     "output_type": "execute_result"
    }
   ],
   "source": [
    "len(fludf['Pathogen'].unique()) #not all of this will be of interest"
   ]
  },
  {
   "cell_type": "markdown",
   "metadata": {},
   "source": [
    "# 2 Extract relevant strains\n",
    "\n",
    "Use regex to get strains we're interested in: H1N1|H3N2|H5N1|H7N3"
   ]
  },
  {
   "cell_type": "code",
   "execution_count": 7,
   "metadata": {},
   "outputs": [
    {
     "name": "stdout",
     "output_type": "stream",
     "text": [
      "Pathogen H1N1|H3N2|H5N1|H7N3\n"
     ]
    }
   ],
   "source": [
    "regex = 'H1N1|H3N2|H5N1|H7N3'\n",
    "fludf = regex_select(fludf, 'Pathogen', regex)"
   ]
  },
  {
   "cell_type": "code",
   "execution_count": 8,
   "metadata": {},
   "outputs": [
    {
     "data": {
      "text/html": [
       "<div>\n",
       "<style scoped>\n",
       "    .dataframe tbody tr th:only-of-type {\n",
       "        vertical-align: middle;\n",
       "    }\n",
       "\n",
       "    .dataframe tbody tr th {\n",
       "        vertical-align: top;\n",
       "    }\n",
       "\n",
       "    .dataframe thead th {\n",
       "        text-align: right;\n",
       "    }\n",
       "</style>\n",
       "<table border=\"1\" class=\"dataframe\">\n",
       "  <thead>\n",
       "    <tr style=\"text-align: right;\">\n",
       "      <th></th>\n",
       "      <th>Pathogen</th>\n",
       "      <th>Taxonomy ID</th>\n",
       "      <th>virusUprot</th>\n",
       "      <th>Pathogen Protein</th>\n",
       "      <th>humanUprot</th>\n",
       "      <th>Human Protein</th>\n",
       "      <th>Experimental Method</th>\n",
       "      <th>Pubmed ID</th>\n",
       "    </tr>\n",
       "  </thead>\n",
       "  <tbody>\n",
       "    <tr>\n",
       "      <th>0</th>\n",
       "      <td>Influenza A virus STRAIN A / PUERTO RICO / 8 /...</td>\n",
       "      <td>211044</td>\n",
       "      <td>P03433</td>\n",
       "      <td>PA_I34A1</td>\n",
       "      <td>P49736</td>\n",
       "      <td>MCM2_HUMAN</td>\n",
       "      <td>anti bait coimmunoprecipitation</td>\n",
       "      <td>17932485</td>\n",
       "    </tr>\n",
       "    <tr>\n",
       "      <th>1</th>\n",
       "      <td>Influenza A virus STRAIN A / PUERTO RICO / 8 /...</td>\n",
       "      <td>211044</td>\n",
       "      <td>P03466</td>\n",
       "      <td>NCAP_I34A1</td>\n",
       "      <td>P49736</td>\n",
       "      <td>MCM2_HUMAN</td>\n",
       "      <td>anti bait coimmunoprecipitation</td>\n",
       "      <td>17932485</td>\n",
       "    </tr>\n",
       "    <tr>\n",
       "      <th>2</th>\n",
       "      <td>Influenza A virus STRAIN A / PUERTO RICO / 8 /...</td>\n",
       "      <td>211044</td>\n",
       "      <td>P03428</td>\n",
       "      <td>PB2_I34A1</td>\n",
       "      <td>P49736</td>\n",
       "      <td>MCM2_HUMAN</td>\n",
       "      <td>anti bait coimmunoprecipitation</td>\n",
       "      <td>17932485</td>\n",
       "    </tr>\n",
       "    <tr>\n",
       "      <th>3</th>\n",
       "      <td>Influenza A virus STRAIN A / PUERTO RICO / 8 /...</td>\n",
       "      <td>211044</td>\n",
       "      <td>P03485</td>\n",
       "      <td>M1_I34A1</td>\n",
       "      <td>P15311</td>\n",
       "      <td>EZRI_HUMAN</td>\n",
       "      <td>anti bait coimmunoprecipitation</td>\n",
       "      <td>17022977</td>\n",
       "    </tr>\n",
       "    <tr>\n",
       "      <th>4</th>\n",
       "      <td>Influenza A virus STRAIN A / PUERTO RICO / 8 /...</td>\n",
       "      <td>211044</td>\n",
       "      <td>P03485</td>\n",
       "      <td>M1_I34A1</td>\n",
       "      <td>P11142</td>\n",
       "      <td>HSP7C_HUMAN</td>\n",
       "      <td>anti bait coimmunoprecipitation</td>\n",
       "      <td>17022977</td>\n",
       "    </tr>\n",
       "  </tbody>\n",
       "</table>\n",
       "</div>"
      ],
      "text/plain": [
       "                                            Pathogen  Taxonomy ID virusUprot  \\\n",
       "0  Influenza A virus STRAIN A / PUERTO RICO / 8 /...       211044     P03433   \n",
       "1  Influenza A virus STRAIN A / PUERTO RICO / 8 /...       211044     P03466   \n",
       "2  Influenza A virus STRAIN A / PUERTO RICO / 8 /...       211044     P03428   \n",
       "3  Influenza A virus STRAIN A / PUERTO RICO / 8 /...       211044     P03485   \n",
       "4  Influenza A virus STRAIN A / PUERTO RICO / 8 /...       211044     P03485   \n",
       "\n",
       "  Pathogen Protein humanUprot Human Protein              Experimental Method  \\\n",
       "0        PA_I34A1      P49736   MCM2_HUMAN   anti bait coimmunoprecipitation   \n",
       "1      NCAP_I34A1      P49736   MCM2_HUMAN   anti bait coimmunoprecipitation   \n",
       "2       PB2_I34A1      P49736   MCM2_HUMAN   anti bait coimmunoprecipitation   \n",
       "3        M1_I34A1      P15311   EZRI_HUMAN   anti bait coimmunoprecipitation   \n",
       "4        M1_I34A1      P11142  HSP7C_HUMAN   anti bait coimmunoprecipitation   \n",
       "\n",
       "   Pubmed ID  \n",
       "0   17932485  \n",
       "1   17932485  \n",
       "2   17932485  \n",
       "3   17022977  \n",
       "4   17022977  "
      ]
     },
     "execution_count": 8,
     "metadata": {},
     "output_type": "execute_result"
    }
   ],
   "source": [
    "fludf.head()"
   ]
  },
  {
   "cell_type": "code",
   "execution_count": 9,
   "metadata": {},
   "outputs": [
    {
     "data": {
      "text/plain": [
       "52"
      ]
     },
     "execution_count": 9,
     "metadata": {},
     "output_type": "execute_result"
    }
   ],
   "source": [
    "len(fludf['Pathogen'].unique())"
   ]
  },
  {
   "cell_type": "markdown",
   "metadata": {},
   "source": [
    "# 3 Get virus|human uniprots of interactions\n",
    "\n",
    "get a df with cols virus uniprot and human uniprot for matrix interaction processing."
   ]
  },
  {
   "cell_type": "code",
   "execution_count": 10,
   "metadata": {},
   "outputs": [],
   "source": [
    "# drop cols we don't need\n",
    "fludf = removeObsoletes(fludf[['virusUprot', 'humanUprot']])"
   ]
  },
  {
   "cell_type": "code",
   "execution_count": 11,
   "metadata": {},
   "outputs": [
    {
     "data": {
      "text/html": [
       "<div>\n",
       "<style scoped>\n",
       "    .dataframe tbody tr th:only-of-type {\n",
       "        vertical-align: middle;\n",
       "    }\n",
       "\n",
       "    .dataframe tbody tr th {\n",
       "        vertical-align: top;\n",
       "    }\n",
       "\n",
       "    .dataframe thead th {\n",
       "        text-align: right;\n",
       "    }\n",
       "</style>\n",
       "<table border=\"1\" class=\"dataframe\">\n",
       "  <thead>\n",
       "    <tr style=\"text-align: right;\">\n",
       "      <th></th>\n",
       "      <th>virusUprot</th>\n",
       "      <th>humanUprot</th>\n",
       "    </tr>\n",
       "  </thead>\n",
       "  <tbody>\n",
       "    <tr>\n",
       "      <th>0</th>\n",
       "      <td>P03433</td>\n",
       "      <td>P49736</td>\n",
       "    </tr>\n",
       "    <tr>\n",
       "      <th>1</th>\n",
       "      <td>P03466</td>\n",
       "      <td>P49736</td>\n",
       "    </tr>\n",
       "    <tr>\n",
       "      <th>2</th>\n",
       "      <td>P03428</td>\n",
       "      <td>P49736</td>\n",
       "    </tr>\n",
       "    <tr>\n",
       "      <th>3</th>\n",
       "      <td>P03485</td>\n",
       "      <td>P15311</td>\n",
       "    </tr>\n",
       "    <tr>\n",
       "      <th>4</th>\n",
       "      <td>P03485</td>\n",
       "      <td>P11142</td>\n",
       "    </tr>\n",
       "  </tbody>\n",
       "</table>\n",
       "</div>"
      ],
      "text/plain": [
       "  virusUprot humanUprot\n",
       "0     P03433     P49736\n",
       "1     P03466     P49736\n",
       "2     P03428     P49736\n",
       "3     P03485     P15311\n",
       "4     P03485     P11142"
      ]
     },
     "execution_count": 11,
     "metadata": {},
     "output_type": "execute_result"
    }
   ],
   "source": [
    "fludf.head()"
   ]
  },
  {
   "cell_type": "code",
   "execution_count": 12,
   "metadata": {},
   "outputs": [],
   "source": [
    "# save current interaction matrix\n",
    "fludf.to_csv('flu_interactions_full.csv', index=False)"
   ]
  },
  {
   "cell_type": "code",
   "execution_count": 13,
   "metadata": {},
   "outputs": [
    {
     "data": {
      "text/html": [
       "<div>\n",
       "<style scoped>\n",
       "    .dataframe tbody tr th:only-of-type {\n",
       "        vertical-align: middle;\n",
       "    }\n",
       "\n",
       "    .dataframe tbody tr th {\n",
       "        vertical-align: top;\n",
       "    }\n",
       "\n",
       "    .dataframe thead th {\n",
       "        text-align: right;\n",
       "    }\n",
       "</style>\n",
       "<table border=\"1\" class=\"dataframe\">\n",
       "  <thead>\n",
       "    <tr style=\"text-align: right;\">\n",
       "      <th></th>\n",
       "      <th>virusUprot</th>\n",
       "      <th>humanUprot</th>\n",
       "    </tr>\n",
       "  </thead>\n",
       "  <tbody>\n",
       "    <tr>\n",
       "      <th>0</th>\n",
       "      <td>P03433</td>\n",
       "      <td>P49736</td>\n",
       "    </tr>\n",
       "    <tr>\n",
       "      <th>1</th>\n",
       "      <td>P03466</td>\n",
       "      <td>P49736</td>\n",
       "    </tr>\n",
       "    <tr>\n",
       "      <th>2</th>\n",
       "      <td>P03428</td>\n",
       "      <td>P49736</td>\n",
       "    </tr>\n",
       "    <tr>\n",
       "      <th>3</th>\n",
       "      <td>P03485</td>\n",
       "      <td>P15311</td>\n",
       "    </tr>\n",
       "    <tr>\n",
       "      <th>4</th>\n",
       "      <td>P03485</td>\n",
       "      <td>P11142</td>\n",
       "    </tr>\n",
       "  </tbody>\n",
       "</table>\n",
       "</div>"
      ],
      "text/plain": [
       "  virusUprot humanUprot\n",
       "0     P03433     P49736\n",
       "1     P03466     P49736\n",
       "2     P03428     P49736\n",
       "3     P03485     P15311\n",
       "4     P03485     P11142"
      ]
     },
     "execution_count": 13,
     "metadata": {},
     "output_type": "execute_result"
    }
   ],
   "source": [
    "pd.read_csv('flu_interactions_full.csv').head()"
   ]
  },
  {
   "cell_type": "markdown",
   "metadata": {},
   "source": [
    "# rank"
   ]
  },
  {
   "cell_type": "code",
   "execution_count": 14,
   "metadata": {},
   "outputs": [
    {
     "name": "stderr",
     "output_type": "stream",
     "text": [
      "Process ForkPoolWorker-16:\n",
      "Process ForkPoolWorker-18:\n",
      "Process ForkPoolWorker-17:\n",
      "Process ForkPoolWorker-20:\n",
      "Process ForkPoolWorker-8:\n",
      "Process ForkPoolWorker-19:\n",
      "Process ForkPoolWorker-5:\n",
      "Process ForkPoolWorker-6:\n",
      "Process ForkPoolWorker-15:\n",
      "Traceback (most recent call last):\n",
      "Process ForkPoolWorker-4:\n",
      "Process ForkPoolWorker-10:\n",
      "Process ForkPoolWorker-3:\n",
      "Process ForkPoolWorker-9:\n",
      "Traceback (most recent call last):\n",
      "Traceback (most recent call last):\n",
      "Process ForkPoolWorker-13:\n",
      "Traceback (most recent call last):\n",
      "Traceback (most recent call last):\n",
      "  File \"/home/roncal/.conda/envs/deeplearning/lib/python3.6/multiprocessing/process.py\", line 258, in _bootstrap\n",
      "    self.run()\n",
      "  File \"/home/roncal/.conda/envs/deeplearning/lib/python3.6/multiprocessing/process.py\", line 258, in _bootstrap\n",
      "    self.run()\n",
      "Traceback (most recent call last):\n",
      "Process ForkPoolWorker-2:\n",
      "  File \"/home/roncal/.conda/envs/deeplearning/lib/python3.6/multiprocessing/process.py\", line 258, in _bootstrap\n",
      "    self.run()\n",
      "Traceback (most recent call last):\n",
      "Process ForkPoolWorker-11:\n",
      "  File \"/home/roncal/.conda/envs/deeplearning/lib/python3.6/multiprocessing/process.py\", line 258, in _bootstrap\n",
      "    self.run()\n",
      "  File \"/home/roncal/.conda/envs/deeplearning/lib/python3.6/multiprocessing/process.py\", line 93, in run\n",
      "    self._target(*self._args, **self._kwargs)\n",
      "Traceback (most recent call last):\n",
      "Process ForkPoolWorker-7:\n",
      "Traceback (most recent call last):\n",
      "  File \"/home/roncal/.conda/envs/deeplearning/lib/python3.6/multiprocessing/process.py\", line 93, in run\n",
      "    self._target(*self._args, **self._kwargs)\n",
      "  File \"/home/roncal/.conda/envs/deeplearning/lib/python3.6/multiprocessing/process.py\", line 93, in run\n",
      "    self._target(*self._args, **self._kwargs)\n",
      "  File \"/home/roncal/.conda/envs/deeplearning/lib/python3.6/multiprocessing/process.py\", line 258, in _bootstrap\n",
      "    self.run()\n",
      "  File \"/home/roncal/.conda/envs/deeplearning/lib/python3.6/multiprocessing/pool.py\", line 119, in worker\n",
      "    result = (True, func(*args, **kwds))\n",
      "Traceback (most recent call last):\n",
      "Traceback (most recent call last):\n",
      "Traceback (most recent call last):\n",
      "  File \"/home/roncal/.conda/envs/deeplearning/lib/python3.6/multiprocessing/process.py\", line 258, in _bootstrap\n",
      "    self.run()\n",
      "  File \"/home/roncal/.conda/envs/deeplearning/lib/python3.6/multiprocessing/pool.py\", line 47, in starmapstar\n",
      "    return list(itertools.starmap(args[0], args[1]))\n",
      "Traceback (most recent call last):\n",
      "  File \"/home/roncal/.conda/envs/deeplearning/lib/python3.6/multiprocessing/process.py\", line 258, in _bootstrap\n",
      "    self.run()\n",
      "  File \"/home/roncal/.conda/envs/deeplearning/lib/python3.6/multiprocessing/pool.py\", line 119, in worker\n",
      "    result = (True, func(*args, **kwds))\n",
      "Traceback (most recent call last):\n",
      "Traceback (most recent call last):\n",
      "  File \"/home/roncal/.conda/envs/deeplearning/lib/python3.6/multiprocessing/pool.py\", line 108, in worker\n",
      "    task = get()\n",
      "Process ForkPoolWorker-12:\n",
      "  File \"/home/roncal/.conda/envs/deeplearning/lib/python3.6/multiprocessing/process.py\", line 258, in _bootstrap\n",
      "    self.run()\n",
      "  File \"/home/roncal/.conda/envs/deeplearning/lib/python3.6/multiprocessing/process.py\", line 93, in run\n",
      "    self._target(*self._args, **self._kwargs)\n",
      "  File \"/home/roncal/.conda/envs/deeplearning/lib/python3.6/multiprocessing/process.py\", line 93, in run\n",
      "    self._target(*self._args, **self._kwargs)\n",
      "  File \"/home/roncal/.conda/envs/deeplearning/lib/python3.6/multiprocessing/process.py\", line 258, in _bootstrap\n",
      "    self.run()\n",
      "Traceback (most recent call last):\n",
      "Traceback (most recent call last):\n",
      "  File \"/home/roncal/.conda/envs/deeplearning/lib/python3.6/multiprocessing/process.py\", line 93, in run\n",
      "    self._target(*self._args, **self._kwargs)\n",
      "  File \"/home/roncal/.conda/envs/deeplearning/lib/python3.6/multiprocessing/process.py\", line 258, in _bootstrap\n",
      "    self.run()\n",
      "  File \"/home/roncal/.conda/envs/deeplearning/lib/python3.6/multiprocessing/process.py\", line 258, in _bootstrap\n",
      "    self.run()\n",
      "  File \"/home/roncal/.conda/envs/deeplearning/lib/python3.6/multiprocessing/pool.py\", line 47, in starmapstar\n",
      "    return list(itertools.starmap(args[0], args[1]))\n",
      "  File \"/home/roncal/.conda/envs/deeplearning/lib/python3.6/multiprocessing/pool.py\", line 108, in worker\n",
      "    task = get()\n",
      "  File \"/home/roncal/.conda/envs/deeplearning/lib/python3.6/multiprocessing/process.py\", line 93, in run\n",
      "    self._target(*self._args, **self._kwargs)\n",
      "  File \"/home/roncal/.conda/envs/deeplearning/lib/python3.6/multiprocessing/queues.py\", line 334, in get\n",
      "    with self._rlock:\n",
      "  File \"/home/roncal/.conda/envs/deeplearning/lib/python3.6/multiprocessing/process.py\", line 258, in _bootstrap\n",
      "    self.run()\n",
      "  File \"/home/roncal/.conda/envs/deeplearning/lib/python3.6/multiprocessing/process.py\", line 93, in run\n",
      "    self._target(*self._args, **self._kwargs)\n",
      "Traceback (most recent call last):\n",
      "  File \"/home/roncal/.conda/envs/deeplearning/lib/python3.6/multiprocessing/process.py\", line 93, in run\n",
      "    self._target(*self._args, **self._kwargs)\n",
      "  File \"/home/roncal/.conda/envs/deeplearning/lib/python3.6/multiprocessing/process.py\", line 93, in run\n",
      "    self._target(*self._args, **self._kwargs)\n",
      "  File \"/home/roncal/.conda/envs/deeplearning/lib/python3.6/multiprocessing/process.py\", line 93, in run\n",
      "    self._target(*self._args, **self._kwargs)\n",
      "  File \"/home/roncal/.conda/envs/deeplearning/lib/python3.6/multiprocessing/process.py\", line 258, in _bootstrap\n",
      "    self.run()\n",
      "  File \"/home/roncal/.conda/envs/deeplearning/lib/python3.6/multiprocessing/process.py\", line 258, in _bootstrap\n",
      "    self.run()\n",
      "  File \"/home/roncal/.conda/envs/deeplearning/lib/python3.6/multiprocessing/pool.py\", line 119, in worker\n",
      "    result = (True, func(*args, **kwds))\n",
      "  File \"/home/roncal/.conda/envs/deeplearning/lib/python3.6/multiprocessing/process.py\", line 258, in _bootstrap\n",
      "    self.run()\n",
      "  File \"/home/roncal/research/lrgr/cmsc499a-s2019/data_processing/utils.py\", line 67, in mp_interaction_counter\n",
      "    if (v, h) in pairs:\n",
      "  File \"/home/roncal/.conda/envs/deeplearning/lib/python3.6/multiprocessing/process.py\", line 258, in _bootstrap\n",
      "    self.run()\n",
      "  File \"/home/roncal/.conda/envs/deeplearning/lib/python3.6/multiprocessing/process.py\", line 258, in _bootstrap\n",
      "    self.run()\n",
      "  File \"/home/roncal/.conda/envs/deeplearning/lib/python3.6/multiprocessing/pool.py\", line 119, in worker\n",
      "    result = (True, func(*args, **kwds))\n",
      "  File \"/home/roncal/.conda/envs/deeplearning/lib/python3.6/multiprocessing/pool.py\", line 108, in worker\n",
      "    task = get()\n",
      "  File \"/home/roncal/.conda/envs/deeplearning/lib/python3.6/multiprocessing/pool.py\", line 108, in worker\n",
      "    task = get()\n",
      "  File \"/home/roncal/.conda/envs/deeplearning/lib/python3.6/multiprocessing/synchronize.py\", line 95, in __enter__\n",
      "    return self._semlock.__enter__()\n",
      "  File \"/home/roncal/research/lrgr/cmsc499a-s2019/data_processing/utils.py\", line 67, in mp_interaction_counter\n",
      "    if (v, h) in pairs:\n",
      "  File \"/home/roncal/.conda/envs/deeplearning/lib/python3.6/multiprocessing/process.py\", line 93, in run\n",
      "    self._target(*self._args, **self._kwargs)\n",
      "  File \"/home/roncal/.conda/envs/deeplearning/lib/python3.6/multiprocessing/process.py\", line 258, in _bootstrap\n",
      "    self.run()\n",
      "  File \"/home/roncal/.conda/envs/deeplearning/lib/python3.6/multiprocessing/queues.py\", line 334, in get\n",
      "    with self._rlock:\n",
      "  File \"/home/roncal/.conda/envs/deeplearning/lib/python3.6/multiprocessing/process.py\", line 93, in run\n",
      "    self._target(*self._args, **self._kwargs)\n",
      "  File \"/home/roncal/.conda/envs/deeplearning/lib/python3.6/multiprocessing/process.py\", line 93, in run\n",
      "    self._target(*self._args, **self._kwargs)\n",
      "  File \"/home/roncal/.conda/envs/deeplearning/lib/python3.6/multiprocessing/pool.py\", line 119, in worker\n",
      "    result = (True, func(*args, **kwds))\n",
      "Process ForkPoolWorker-1:\n",
      "  File \"/home/roncal/.conda/envs/deeplearning/lib/python3.6/multiprocessing/pool.py\", line 108, in worker\n",
      "    task = get()\n",
      "  File \"/home/roncal/.conda/envs/deeplearning/lib/python3.6/multiprocessing/process.py\", line 93, in run\n",
      "    self._target(*self._args, **self._kwargs)\n",
      "  File \"/home/roncal/.conda/envs/deeplearning/lib/python3.6/multiprocessing/pool.py\", line 119, in worker\n",
      "    result = (True, func(*args, **kwds))\n",
      "Process ForkPoolWorker-14:\n",
      "  File \"/home/roncal/.conda/envs/deeplearning/lib/python3.6/multiprocessing/process.py\", line 93, in run\n",
      "    self._target(*self._args, **self._kwargs)\n",
      "  File \"/home/roncal/.conda/envs/deeplearning/lib/python3.6/multiprocessing/queues.py\", line 335, in get\n",
      "    res = self._reader.recv_bytes()\n",
      "KeyboardInterrupt\n",
      "Traceback (most recent call last):\n",
      "  File \"/home/roncal/.conda/envs/deeplearning/lib/python3.6/multiprocessing/queues.py\", line 334, in get\n",
      "    with self._rlock:\n",
      "  File \"/home/roncal/.conda/envs/deeplearning/lib/python3.6/multiprocessing/pool.py\", line 47, in starmapstar\n",
      "    return list(itertools.starmap(args[0], args[1]))\n",
      "  File \"/home/roncal/.conda/envs/deeplearning/lib/python3.6/multiprocessing/process.py\", line 93, in run\n",
      "    self._target(*self._args, **self._kwargs)\n",
      "KeyboardInterrupt\n",
      "  File \"/home/roncal/.conda/envs/deeplearning/lib/python3.6/multiprocessing/process.py\", line 93, in run\n",
      "    self._target(*self._args, **self._kwargs)\n",
      "  File \"/home/roncal/.conda/envs/deeplearning/lib/python3.6/multiprocessing/pool.py\", line 47, in starmapstar\n",
      "    return list(itertools.starmap(args[0], args[1]))\n",
      "  File \"/home/roncal/.conda/envs/deeplearning/lib/python3.6/multiprocessing/pool.py\", line 119, in worker\n",
      "    result = (True, func(*args, **kwds))\n",
      "  File \"/home/roncal/.conda/envs/deeplearning/lib/python3.6/multiprocessing/pool.py\", line 119, in worker\n",
      "    result = (True, func(*args, **kwds))\n",
      "  File \"/home/roncal/.conda/envs/deeplearning/lib/python3.6/multiprocessing/synchronize.py\", line 95, in __enter__\n",
      "    return self._semlock.__enter__()\n",
      "  File \"/home/roncal/.conda/envs/deeplearning/lib/python3.6/multiprocessing/pool.py\", line 108, in worker\n",
      "    task = get()\n",
      "  File \"/home/roncal/.conda/envs/deeplearning/lib/python3.6/multiprocessing/queues.py\", line 334, in get\n",
      "    with self._rlock:\n",
      "  File \"/home/roncal/.conda/envs/deeplearning/lib/python3.6/multiprocessing/pool.py\", line 119, in worker\n",
      "    result = (True, func(*args, **kwds))\n",
      "  File \"/home/roncal/.conda/envs/deeplearning/lib/python3.6/multiprocessing/pool.py\", line 119, in worker\n",
      "    result = (True, func(*args, **kwds))\n",
      "  File \"/home/roncal/.conda/envs/deeplearning/lib/python3.6/multiprocessing/pool.py\", line 119, in worker\n",
      "    result = (True, func(*args, **kwds))\n",
      "KeyboardInterrupt\n",
      "  File \"/home/roncal/.conda/envs/deeplearning/lib/python3.6/multiprocessing/synchronize.py\", line 95, in __enter__\n",
      "    return self._semlock.__enter__()\n",
      "  File \"/home/roncal/.conda/envs/deeplearning/lib/python3.6/multiprocessing/connection.py\", line 216, in recv_bytes\n",
      "    buf = self._recv_bytes(maxlength)\n",
      "  File \"/home/roncal/.conda/envs/deeplearning/lib/python3.6/multiprocessing/connection.py\", line 407, in _recv_bytes\n",
      "    buf = self._recv(4)\n",
      "  File \"/home/roncal/research/lrgr/cmsc499a-s2019/data_processing/utils.py\", line 67, in mp_interaction_counter\n",
      "    if (v, h) in pairs:\n",
      "  File \"/home/roncal/.conda/envs/deeplearning/lib/python3.6/multiprocessing/process.py\", line 258, in _bootstrap\n",
      "    self.run()\n",
      "  File \"/home/roncal/.conda/envs/deeplearning/lib/python3.6/multiprocessing/pool.py\", line 47, in starmapstar\n",
      "    return list(itertools.starmap(args[0], args[1]))\n",
      "  File \"/home/roncal/.conda/envs/deeplearning/lib/python3.6/multiprocessing/pool.py\", line 47, in starmapstar\n",
      "    return list(itertools.starmap(args[0], args[1]))\n",
      "  File \"/home/roncal/.conda/envs/deeplearning/lib/python3.6/multiprocessing/pool.py\", line 119, in worker\n",
      "    result = (True, func(*args, **kwds))\n",
      "  File \"/home/roncal/.conda/envs/deeplearning/lib/python3.6/multiprocessing/pool.py\", line 47, in starmapstar\n",
      "    return list(itertools.starmap(args[0], args[1]))\n",
      "  File \"/home/roncal/.conda/envs/deeplearning/lib/python3.6/multiprocessing/synchronize.py\", line 95, in __enter__\n",
      "    return self._semlock.__enter__()\n",
      "  File \"/home/roncal/.conda/envs/deeplearning/lib/python3.6/multiprocessing/pool.py\", line 47, in starmapstar\n",
      "    return list(itertools.starmap(args[0], args[1]))\n",
      "  File \"/home/roncal/research/lrgr/cmsc499a-s2019/data_processing/utils.py\", line 67, in mp_interaction_counter\n",
      "    if (v, h) in pairs:\n",
      "Traceback (most recent call last):\n",
      "  File \"/home/roncal/.conda/envs/deeplearning/lib/python3.6/multiprocessing/pool.py\", line 47, in starmapstar\n",
      "    return list(itertools.starmap(args[0], args[1]))\n",
      "  File \"/home/roncal/research/lrgr/cmsc499a-s2019/data_processing/utils.py\", line 67, in mp_interaction_counter\n",
      "    if (v, h) in pairs:\n",
      "  File \"/home/roncal/.conda/envs/deeplearning/lib/python3.6/multiprocessing/pool.py\", line 47, in starmapstar\n",
      "    return list(itertools.starmap(args[0], args[1]))\n",
      "  File \"/home/roncal/.conda/envs/deeplearning/lib/python3.6/multiprocessing/queues.py\", line 334, in get\n",
      "    with self._rlock:\n",
      "KeyboardInterrupt\n",
      "  File \"/home/roncal/.conda/envs/deeplearning/lib/python3.6/multiprocessing/process.py\", line 93, in run\n",
      "    self._target(*self._args, **self._kwargs)\n",
      "  File \"/home/roncal/.conda/envs/deeplearning/lib/python3.6/multiprocessing/pool.py\", line 47, in starmapstar\n",
      "    return list(itertools.starmap(args[0], args[1]))\n",
      "  File \"/home/roncal/research/lrgr/cmsc499a-s2019/data_processing/utils.py\", line 67, in mp_interaction_counter\n",
      "    if (v, h) in pairs:\n",
      "  File \"/home/roncal/.conda/envs/deeplearning/lib/python3.6/multiprocessing/pool.py\", line 47, in starmapstar\n",
      "    return list(itertools.starmap(args[0], args[1]))\n",
      "KeyboardInterrupt\n",
      "KeyboardInterrupt\n",
      "  File \"/home/roncal/.conda/envs/deeplearning/lib/python3.6/multiprocessing/process.py\", line 258, in _bootstrap\n",
      "    self.run()\n",
      "  File \"/home/roncal/research/lrgr/cmsc499a-s2019/data_processing/utils.py\", line 67, in mp_interaction_counter\n",
      "    if (v, h) in pairs:\n",
      "  File \"/home/roncal/research/lrgr/cmsc499a-s2019/data_processing/utils.py\", line 67, in mp_interaction_counter\n",
      "    if (v, h) in pairs:\n",
      "KeyboardInterrupt\n",
      "KeyboardInterrupt\n",
      "  File \"/home/roncal/.conda/envs/deeplearning/lib/python3.6/multiprocessing/connection.py\", line 379, in _recv\n",
      "    chunk = read(handle, remaining)\n",
      "  File \"/home/roncal/.conda/envs/deeplearning/lib/python3.6/multiprocessing/pool.py\", line 119, in worker\n",
      "    result = (True, func(*args, **kwds))\n",
      "  File \"/home/roncal/research/lrgr/cmsc499a-s2019/data_processing/utils.py\", line 67, in mp_interaction_counter\n",
      "    if (v, h) in pairs:\n",
      "  File \"/home/roncal/.conda/envs/deeplearning/lib/python3.6/multiprocessing/synchronize.py\", line 95, in __enter__\n",
      "    return self._semlock.__enter__()\n",
      "KeyboardInterrupt\n",
      "KeyboardInterrupt\n",
      "KeyboardInterrupt\n",
      "  File \"/home/roncal/research/lrgr/cmsc499a-s2019/data_processing/utils.py\", line 67, in mp_interaction_counter\n",
      "    if (v, h) in pairs:\n",
      "KeyboardInterrupt\n",
      "  File \"/home/roncal/research/lrgr/cmsc499a-s2019/data_processing/utils.py\", line 67, in mp_interaction_counter\n",
      "    if (v, h) in pairs:\n",
      "  File \"/home/roncal/research/lrgr/cmsc499a-s2019/data_processing/utils.py\", line 67, in mp_interaction_counter\n",
      "    if (v, h) in pairs:\n",
      "KeyboardInterrupt\n",
      "KeyboardInterrupt\n",
      "KeyboardInterrupt\n",
      "KeyboardInterrupt\n",
      "  File \"/home/roncal/.conda/envs/deeplearning/lib/python3.6/multiprocessing/pool.py\", line 47, in starmapstar\n",
      "    return list(itertools.starmap(args[0], args[1]))\n",
      "  File \"/home/roncal/research/lrgr/cmsc499a-s2019/data_processing/utils.py\", line 67, in mp_interaction_counter\n",
      "    if (v, h) in pairs:\n",
      "KeyboardInterrupt\n",
      "  File \"/home/roncal/.conda/envs/deeplearning/lib/python3.6/multiprocessing/process.py\", line 93, in run\n",
      "    self._target(*self._args, **self._kwargs)\n",
      "KeyboardInterrupt\n",
      "  File \"/home/roncal/.conda/envs/deeplearning/lib/python3.6/multiprocessing/pool.py\", line 119, in worker\n",
      "    result = (True, func(*args, **kwds))\n",
      "KeyboardInterrupt\n",
      "  File \"/home/roncal/.conda/envs/deeplearning/lib/python3.6/multiprocessing/pool.py\", line 47, in starmapstar\n",
      "    return list(itertools.starmap(args[0], args[1]))\n",
      "  File \"/home/roncal/research/lrgr/cmsc499a-s2019/data_processing/utils.py\", line 67, in mp_interaction_counter\n",
      "    if (v, h) in pairs:\n",
      "KeyboardInterrupt\n"
     ]
    },
    {
     "ename": "KeyboardInterrupt",
     "evalue": "",
     "output_type": "error",
     "traceback": [
      "\u001b[0;31m---------------------------------------------------------------------------\u001b[0m",
      "\u001b[0;31mKeyboardInterrupt\u001b[0m                         Traceback (most recent call last)",
      "\u001b[0;32m<ipython-input-14-2b1a06c17766>\u001b[0m in \u001b[0;36m<module>\u001b[0;34m\u001b[0m\n\u001b[0;32m----> 1\u001b[0;31m \u001b[0mranked_fludf\u001b[0m \u001b[0;34m=\u001b[0m \u001b[0mrank_by_interactions\u001b[0m\u001b[0;34m(\u001b[0m\u001b[0mfludf\u001b[0m\u001b[0;34m,\u001b[0m \u001b[0;36m20\u001b[0m\u001b[0;34m)\u001b[0m\u001b[0;34m\u001b[0m\u001b[0;34m\u001b[0m\u001b[0m\n\u001b[0m",
      "\u001b[0;32m~/research/lrgr/cmsc499a-s2019/data_processing/utils.py\u001b[0m in \u001b[0;36mrank_by_interactions\u001b[0;34m(df, nworkers)\u001b[0m\n\u001b[1;32m     85\u001b[0m \u001b[0;34m\u001b[0m\u001b[0m\n\u001b[1;32m     86\u001b[0m \u001b[0;32mdef\u001b[0m \u001b[0mrank_by_interactions\u001b[0m\u001b[0;34m(\u001b[0m\u001b[0mdf\u001b[0m\u001b[0;34m,\u001b[0m \u001b[0mnworkers\u001b[0m\u001b[0;34m)\u001b[0m\u001b[0;34m:\u001b[0m\u001b[0;34m\u001b[0m\u001b[0;34m\u001b[0m\u001b[0m\n\u001b[0;32m---> 87\u001b[0;31m     \u001b[0;32mreturn\u001b[0m \u001b[0mmp_processpairs\u001b[0m\u001b[0;34m(\u001b[0m\u001b[0mdf\u001b[0m\u001b[0;34m,\u001b[0m \u001b[0mmp_interaction_counter\u001b[0m\u001b[0;34m,\u001b[0m \u001b[0mretfn\u001b[0m\u001b[0;34m,\u001b[0m \u001b[0mnworkers\u001b[0m\u001b[0;34m)\u001b[0m\u001b[0;34m\u001b[0m\u001b[0;34m\u001b[0m\u001b[0m\n\u001b[0m\u001b[1;32m     88\u001b[0m \u001b[0;34m\u001b[0m\u001b[0m\n\u001b[1;32m     89\u001b[0m \u001b[0;31m###### DF SELECTION\u001b[0m\u001b[0;34m\u001b[0m\u001b[0;34m\u001b[0m\u001b[0;34m\u001b[0m\u001b[0m\n",
      "\u001b[0;32m~/research/lrgr/cmsc499a-s2019/data_processing/utils.py\u001b[0m in \u001b[0;36mmp_processpairs\u001b[0;34m(df, worker_fn, ret_fn, nworkers)\u001b[0m\n\u001b[1;32m     50\u001b[0m \u001b[0;34m\u001b[0m\u001b[0m\n\u001b[1;32m     51\u001b[0m     results = pool.starmap(worker_fn, \n\u001b[0;32m---> 52\u001b[0;31m                            [(v, human_idxs_uniq, pairs) for v in virus_idxs_uniq], 15)\n\u001b[0m\u001b[1;32m     53\u001b[0m \u001b[0;34m\u001b[0m\u001b[0m\n\u001b[1;32m     54\u001b[0m     \u001b[0mpool\u001b[0m\u001b[0;34m.\u001b[0m\u001b[0mclose\u001b[0m\u001b[0;34m(\u001b[0m\u001b[0;34m)\u001b[0m\u001b[0;34m\u001b[0m\u001b[0;34m\u001b[0m\u001b[0m\n",
      "\u001b[0;32m~/.conda/envs/deeplearning/lib/python3.6/multiprocessing/pool.py\u001b[0m in \u001b[0;36mstarmap\u001b[0;34m(self, func, iterable, chunksize)\u001b[0m\n\u001b[1;32m    272\u001b[0m         \u001b[0;31m`\u001b[0m\u001b[0mfunc\u001b[0m\u001b[0;31m`\u001b[0m \u001b[0;32mand\u001b[0m \u001b[0;34m(\u001b[0m\u001b[0ma\u001b[0m\u001b[0;34m,\u001b[0m \u001b[0mb\u001b[0m\u001b[0;34m)\u001b[0m \u001b[0mbecomes\u001b[0m \u001b[0mfunc\u001b[0m\u001b[0;34m(\u001b[0m\u001b[0ma\u001b[0m\u001b[0;34m,\u001b[0m \u001b[0mb\u001b[0m\u001b[0;34m)\u001b[0m\u001b[0;34m.\u001b[0m\u001b[0;34m\u001b[0m\u001b[0;34m\u001b[0m\u001b[0m\n\u001b[1;32m    273\u001b[0m         '''\n\u001b[0;32m--> 274\u001b[0;31m         \u001b[0;32mreturn\u001b[0m \u001b[0mself\u001b[0m\u001b[0;34m.\u001b[0m\u001b[0m_map_async\u001b[0m\u001b[0;34m(\u001b[0m\u001b[0mfunc\u001b[0m\u001b[0;34m,\u001b[0m \u001b[0miterable\u001b[0m\u001b[0;34m,\u001b[0m \u001b[0mstarmapstar\u001b[0m\u001b[0;34m,\u001b[0m \u001b[0mchunksize\u001b[0m\u001b[0;34m)\u001b[0m\u001b[0;34m.\u001b[0m\u001b[0mget\u001b[0m\u001b[0;34m(\u001b[0m\u001b[0;34m)\u001b[0m\u001b[0;34m\u001b[0m\u001b[0;34m\u001b[0m\u001b[0m\n\u001b[0m\u001b[1;32m    275\u001b[0m \u001b[0;34m\u001b[0m\u001b[0m\n\u001b[1;32m    276\u001b[0m     def starmap_async(self, func, iterable, chunksize=None, callback=None,\n",
      "\u001b[0;32m~/.conda/envs/deeplearning/lib/python3.6/multiprocessing/pool.py\u001b[0m in \u001b[0;36mget\u001b[0;34m(self, timeout)\u001b[0m\n\u001b[1;32m    636\u001b[0m \u001b[0;34m\u001b[0m\u001b[0m\n\u001b[1;32m    637\u001b[0m     \u001b[0;32mdef\u001b[0m \u001b[0mget\u001b[0m\u001b[0;34m(\u001b[0m\u001b[0mself\u001b[0m\u001b[0;34m,\u001b[0m \u001b[0mtimeout\u001b[0m\u001b[0;34m=\u001b[0m\u001b[0;32mNone\u001b[0m\u001b[0;34m)\u001b[0m\u001b[0;34m:\u001b[0m\u001b[0;34m\u001b[0m\u001b[0;34m\u001b[0m\u001b[0m\n\u001b[0;32m--> 638\u001b[0;31m         \u001b[0mself\u001b[0m\u001b[0;34m.\u001b[0m\u001b[0mwait\u001b[0m\u001b[0;34m(\u001b[0m\u001b[0mtimeout\u001b[0m\u001b[0;34m)\u001b[0m\u001b[0;34m\u001b[0m\u001b[0;34m\u001b[0m\u001b[0m\n\u001b[0m\u001b[1;32m    639\u001b[0m         \u001b[0;32mif\u001b[0m \u001b[0;32mnot\u001b[0m \u001b[0mself\u001b[0m\u001b[0;34m.\u001b[0m\u001b[0mready\u001b[0m\u001b[0;34m(\u001b[0m\u001b[0;34m)\u001b[0m\u001b[0;34m:\u001b[0m\u001b[0;34m\u001b[0m\u001b[0;34m\u001b[0m\u001b[0m\n\u001b[1;32m    640\u001b[0m             \u001b[0;32mraise\u001b[0m \u001b[0mTimeoutError\u001b[0m\u001b[0;34m\u001b[0m\u001b[0;34m\u001b[0m\u001b[0m\n",
      "\u001b[0;32m~/.conda/envs/deeplearning/lib/python3.6/multiprocessing/pool.py\u001b[0m in \u001b[0;36mwait\u001b[0;34m(self, timeout)\u001b[0m\n\u001b[1;32m    633\u001b[0m \u001b[0;34m\u001b[0m\u001b[0m\n\u001b[1;32m    634\u001b[0m     \u001b[0;32mdef\u001b[0m \u001b[0mwait\u001b[0m\u001b[0;34m(\u001b[0m\u001b[0mself\u001b[0m\u001b[0;34m,\u001b[0m \u001b[0mtimeout\u001b[0m\u001b[0;34m=\u001b[0m\u001b[0;32mNone\u001b[0m\u001b[0;34m)\u001b[0m\u001b[0;34m:\u001b[0m\u001b[0;34m\u001b[0m\u001b[0;34m\u001b[0m\u001b[0m\n\u001b[0;32m--> 635\u001b[0;31m         \u001b[0mself\u001b[0m\u001b[0;34m.\u001b[0m\u001b[0m_event\u001b[0m\u001b[0;34m.\u001b[0m\u001b[0mwait\u001b[0m\u001b[0;34m(\u001b[0m\u001b[0mtimeout\u001b[0m\u001b[0;34m)\u001b[0m\u001b[0;34m\u001b[0m\u001b[0;34m\u001b[0m\u001b[0m\n\u001b[0m\u001b[1;32m    636\u001b[0m \u001b[0;34m\u001b[0m\u001b[0m\n\u001b[1;32m    637\u001b[0m     \u001b[0;32mdef\u001b[0m \u001b[0mget\u001b[0m\u001b[0;34m(\u001b[0m\u001b[0mself\u001b[0m\u001b[0;34m,\u001b[0m \u001b[0mtimeout\u001b[0m\u001b[0;34m=\u001b[0m\u001b[0;32mNone\u001b[0m\u001b[0;34m)\u001b[0m\u001b[0;34m:\u001b[0m\u001b[0;34m\u001b[0m\u001b[0;34m\u001b[0m\u001b[0m\n",
      "\u001b[0;32m~/.conda/envs/deeplearning/lib/python3.6/threading.py\u001b[0m in \u001b[0;36mwait\u001b[0;34m(self, timeout)\u001b[0m\n\u001b[1;32m    549\u001b[0m             \u001b[0msignaled\u001b[0m \u001b[0;34m=\u001b[0m \u001b[0mself\u001b[0m\u001b[0;34m.\u001b[0m\u001b[0m_flag\u001b[0m\u001b[0;34m\u001b[0m\u001b[0;34m\u001b[0m\u001b[0m\n\u001b[1;32m    550\u001b[0m             \u001b[0;32mif\u001b[0m \u001b[0;32mnot\u001b[0m \u001b[0msignaled\u001b[0m\u001b[0;34m:\u001b[0m\u001b[0;34m\u001b[0m\u001b[0;34m\u001b[0m\u001b[0m\n\u001b[0;32m--> 551\u001b[0;31m                 \u001b[0msignaled\u001b[0m \u001b[0;34m=\u001b[0m \u001b[0mself\u001b[0m\u001b[0;34m.\u001b[0m\u001b[0m_cond\u001b[0m\u001b[0;34m.\u001b[0m\u001b[0mwait\u001b[0m\u001b[0;34m(\u001b[0m\u001b[0mtimeout\u001b[0m\u001b[0;34m)\u001b[0m\u001b[0;34m\u001b[0m\u001b[0;34m\u001b[0m\u001b[0m\n\u001b[0m\u001b[1;32m    552\u001b[0m             \u001b[0;32mreturn\u001b[0m \u001b[0msignaled\u001b[0m\u001b[0;34m\u001b[0m\u001b[0;34m\u001b[0m\u001b[0m\n\u001b[1;32m    553\u001b[0m \u001b[0;34m\u001b[0m\u001b[0m\n",
      "\u001b[0;32m~/.conda/envs/deeplearning/lib/python3.6/threading.py\u001b[0m in \u001b[0;36mwait\u001b[0;34m(self, timeout)\u001b[0m\n\u001b[1;32m    293\u001b[0m         \u001b[0;32mtry\u001b[0m\u001b[0;34m:\u001b[0m    \u001b[0;31m# restore state no matter what (e.g., KeyboardInterrupt)\u001b[0m\u001b[0;34m\u001b[0m\u001b[0;34m\u001b[0m\u001b[0m\n\u001b[1;32m    294\u001b[0m             \u001b[0;32mif\u001b[0m \u001b[0mtimeout\u001b[0m \u001b[0;32mis\u001b[0m \u001b[0;32mNone\u001b[0m\u001b[0;34m:\u001b[0m\u001b[0;34m\u001b[0m\u001b[0;34m\u001b[0m\u001b[0m\n\u001b[0;32m--> 295\u001b[0;31m                 \u001b[0mwaiter\u001b[0m\u001b[0;34m.\u001b[0m\u001b[0macquire\u001b[0m\u001b[0;34m(\u001b[0m\u001b[0;34m)\u001b[0m\u001b[0;34m\u001b[0m\u001b[0;34m\u001b[0m\u001b[0m\n\u001b[0m\u001b[1;32m    296\u001b[0m                 \u001b[0mgotit\u001b[0m \u001b[0;34m=\u001b[0m \u001b[0;32mTrue\u001b[0m\u001b[0;34m\u001b[0m\u001b[0;34m\u001b[0m\u001b[0m\n\u001b[1;32m    297\u001b[0m             \u001b[0;32melse\u001b[0m\u001b[0;34m:\u001b[0m\u001b[0;34m\u001b[0m\u001b[0;34m\u001b[0m\u001b[0m\n",
      "\u001b[0;31mKeyboardInterrupt\u001b[0m: "
     ]
    }
   ],
   "source": [
    "ranked_fludf = rank_by_interactions(fludf, 20)"
   ]
  },
  {
   "cell_type": "code",
   "execution_count": null,
   "metadata": {},
   "outputs": [],
   "source": [
    "ranked_fludf.head()"
   ]
  },
  {
   "cell_type": "code",
   "execution_count": 15,
   "metadata": {},
   "outputs": [],
   "source": [
    "top28 = ranked_fludf[:28]"
   ]
  },
  {
   "cell_type": "code",
   "execution_count": 16,
   "metadata": {},
   "outputs": [
    {
     "data": {
      "text/plain": [
       "0.1139374738165061"
      ]
     },
     "execution_count": 16,
     "metadata": {},
     "output_type": "execute_result"
    }
   ],
   "source": [
    "top28['ratio'].mean()"
   ]
  },
  {
   "cell_type": "code",
   "execution_count": 17,
   "metadata": {},
   "outputs": [],
   "source": [
    "top16 = ranked_fludf[:16]"
   ]
  },
  {
   "cell_type": "code",
   "execution_count": 18,
   "metadata": {},
   "outputs": [
    {
     "data": {
      "text/plain": [
       "0.1605800953079179"
      ]
     },
     "execution_count": 18,
     "metadata": {},
     "output_type": "execute_result"
    }
   ],
   "source": [
    "top16['ratio'].mean()"
   ]
  },
  {
   "cell_type": "markdown",
   "metadata": {},
   "source": [
    "# Extract topX virus entries"
   ]
  },
  {
   "cell_type": "code",
   "execution_count": 19,
   "metadata": {},
   "outputs": [],
   "source": [
    "top28_uniprots = top28['virus'].unique()"
   ]
  },
  {
   "cell_type": "code",
   "execution_count": 20,
   "metadata": {},
   "outputs": [],
   "source": [
    "top16_uniprots = top16['virus'].unique()"
   ]
  },
  {
   "cell_type": "code",
   "execution_count": 21,
   "metadata": {},
   "outputs": [
    {
     "data": {
      "text/plain": [
       "array(['P03470', 'P05777', 'P05780', 'P15682', 'P03427', 'Q1K9H5',\n",
       "       'P03496', 'P03454', 'P15659', 'P06821', 'P03430', 'P03428',\n",
       "       'Q20MH8', 'P03431', 'B4URF7', 'P03468', 'P03508', 'P03452',\n",
       "       'Q1K9H2', 'P03433', 'P03466', 'I6T1Z2', 'Q82506', 'O56264',\n",
       "       'I6TAH8', 'Q20MH0', 'B4URE7', 'Q5EP28'], dtype=object)"
      ]
     },
     "execution_count": 21,
     "metadata": {},
     "output_type": "execute_result"
    }
   ],
   "source": [
    "top28_uniprots"
   ]
  },
  {
   "cell_type": "code",
   "execution_count": 23,
   "metadata": {},
   "outputs": [
    {
     "data": {
      "text/plain": [
       "array(['P03470', 'P05777', 'P05780', 'P15682', 'P03427', 'Q1K9H5',\n",
       "       'P03496', 'P03454', 'P15659', 'P06821', 'P03430', 'P03428',\n",
       "       'Q20MH8', 'P03431', 'B4URF7', 'P03468'], dtype=object)"
      ]
     },
     "execution_count": 23,
     "metadata": {},
     "output_type": "execute_result"
    }
   ],
   "source": [
    "top16_uniprots"
   ]
  },
  {
   "cell_type": "code",
   "execution_count": 29,
   "metadata": {},
   "outputs": [],
   "source": [
    "top28_interactions = fludf[fludf['virusUprot'].apply((lambda x: x in top28_uniprots))]"
   ]
  },
  {
   "cell_type": "code",
   "execution_count": 30,
   "metadata": {},
   "outputs": [
    {
     "data": {
      "text/plain": [
       "28"
      ]
     },
     "execution_count": 30,
     "metadata": {},
     "output_type": "execute_result"
    }
   ],
   "source": [
    "len(top28_interactions['virusUprot'].unique())"
   ]
  },
  {
   "cell_type": "code",
   "execution_count": 31,
   "metadata": {},
   "outputs": [],
   "source": [
    "top28_interactions.to_csv('flu_top28_interactions.csv')"
   ]
  },
  {
   "cell_type": "code",
   "execution_count": 32,
   "metadata": {},
   "outputs": [],
   "source": [
    "top16_interactions = fludf[fludf['virusUprot'].apply((lambda x: x in top16_uniprots))]"
   ]
  },
  {
   "cell_type": "code",
   "execution_count": 34,
   "metadata": {},
   "outputs": [
    {
     "data": {
      "text/plain": [
       "16"
      ]
     },
     "execution_count": 34,
     "metadata": {},
     "output_type": "execute_result"
    }
   ],
   "source": [
    "len(top16_interactions['virusUprot'].unique())"
   ]
  },
  {
   "cell_type": "code",
   "execution_count": 35,
   "metadata": {},
   "outputs": [],
   "source": [
    "top16_interactions.to_csv('flu_top16_interactions.csv')"
   ]
  },
  {
   "cell_type": "code",
   "execution_count": null,
   "metadata": {},
   "outputs": [],
   "source": []
  }
 ],
 "metadata": {
  "kernelspec": {
   "display_name": "Python deeplearning",
   "language": "python",
   "name": "myenv"
  },
  "language_info": {
   "codemirror_mode": {
    "name": "ipython",
    "version": 3
   },
   "file_extension": ".py",
   "mimetype": "text/x-python",
   "name": "python",
   "nbconvert_exporter": "python",
   "pygments_lexer": "ipython3",
   "version": "3.6.8"
  }
 },
 "nbformat": 4,
 "nbformat_minor": 2
}
