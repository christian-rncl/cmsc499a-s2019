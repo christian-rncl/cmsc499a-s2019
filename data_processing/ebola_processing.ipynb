{
 "cells": [
  {
   "cell_type": "markdown",
   "metadata": {},
   "source": [
    "# Get Uniprot IDS for ebola\n",
    "## Christian Roncal Cmsc499a Dr. Leiserson"
   ]
  },
  {
   "cell_type": "code",
   "execution_count": 1,
   "metadata": {},
   "outputs": [],
   "source": [
    "import os \n",
    "import pandas as pd\n",
    "import numpy as np\n",
    "from utils import *\n",
    "import re"
   ]
  },
  {
   "cell_type": "code",
   "execution_count": 2,
   "metadata": {},
   "outputs": [
    {
     "data": {
      "text/plain": [
       "['full_train.csv',\n",
       " 'make_matrix.py',\n",
       " 'fullmatrix_getprots.ipynb',\n",
       " 'utils.py',\n",
       " 'hepatitis_c_processing.ipynb',\n",
       " 'hepc_interactions_full.csv',\n",
       " 'dataprocessing_playground.ipynb',\n",
       " 'ebola_interactions_full.csv',\n",
       " 'makesingletasks.ipynb',\n",
       " 'classes.pkl',\n",
       " 'influenza',\n",
       " 'ebola',\n",
       " 'influenza_a_processing-Copy1.ipynb',\n",
       " 'flustrains.txt',\n",
       " '.ipynb_checkpoints',\n",
       " 'flu_interactions_full.csv',\n",
       " 'D.pkl',\n",
       " 'hepc',\n",
       " '__pycache__',\n",
       " 'hepc.fasta',\n",
       " 'uniprots',\n",
       " 'ebola_processing.ipynb',\n",
       " 'conjoint_featurizer_playground.ipynb']"
      ]
     },
     "execution_count": 2,
     "metadata": {},
     "output_type": "execute_result"
    }
   ],
   "source": [
    "os.listdir()"
   ]
  },
  {
   "cell_type": "markdown",
   "metadata": {},
   "source": [
    "# 1 load data"
   ]
  },
  {
   "cell_type": "code",
   "execution_count": 3,
   "metadata": {},
   "outputs": [],
   "source": [
    "ebola_csv = './ebola/ebola_phi.csv'"
   ]
  },
  {
   "cell_type": "code",
   "execution_count": 4,
   "metadata": {},
   "outputs": [],
   "source": [
    "eboladf = pd.read_csv(ebola_csv)"
   ]
  },
  {
   "cell_type": "code",
   "execution_count": 5,
   "metadata": {},
   "outputs": [
    {
     "data": {
      "text/html": [
       "<div>\n",
       "<style scoped>\n",
       "    .dataframe tbody tr th:only-of-type {\n",
       "        vertical-align: middle;\n",
       "    }\n",
       "\n",
       "    .dataframe tbody tr th {\n",
       "        vertical-align: top;\n",
       "    }\n",
       "\n",
       "    .dataframe thead th {\n",
       "        text-align: right;\n",
       "    }\n",
       "</style>\n",
       "<table border=\"1\" class=\"dataframe\">\n",
       "  <thead>\n",
       "    <tr style=\"text-align: right;\">\n",
       "      <th></th>\n",
       "      <th>Pathogen</th>\n",
       "      <th>Taxonomy ID</th>\n",
       "      <th>virusUprot</th>\n",
       "      <th>Pathogen Protein</th>\n",
       "      <th>humanUprot</th>\n",
       "      <th>Human Protein</th>\n",
       "      <th>Experimental Method</th>\n",
       "      <th>Pubmed ID</th>\n",
       "    </tr>\n",
       "  </thead>\n",
       "  <tbody>\n",
       "    <tr>\n",
       "      <th>0</th>\n",
       "      <td>Zaire Ebolavirus STRAIN MAYINGA</td>\n",
       "      <td>128952</td>\n",
       "      <td>Q05128</td>\n",
       "      <td>VP40_EBOZM</td>\n",
       "      <td>P46934</td>\n",
       "      <td>NEDD4_HUMAN</td>\n",
       "      <td>filter binding</td>\n",
       "      <td>11095724</td>\n",
       "    </tr>\n",
       "    <tr>\n",
       "      <th>1</th>\n",
       "      <td>Zaire Ebolavirus STRAIN MAYINGA</td>\n",
       "      <td>128952</td>\n",
       "      <td>Q05127</td>\n",
       "      <td>VP35_EBOZM</td>\n",
       "      <td>Q96FJ2</td>\n",
       "      <td>DYL2_HUMAN</td>\n",
       "      <td>tandem affinity purification</td>\n",
       "      <td>22810585</td>\n",
       "    </tr>\n",
       "    <tr>\n",
       "      <th>2</th>\n",
       "      <td>Zaire Ebolavirus STRAIN MAYINGA</td>\n",
       "      <td>128952</td>\n",
       "      <td>Q05127</td>\n",
       "      <td>VP35_EBOZM</td>\n",
       "      <td>P22626</td>\n",
       "      <td>ROA2_HUMAN</td>\n",
       "      <td>tandem affinity purification</td>\n",
       "      <td>22810585</td>\n",
       "    </tr>\n",
       "    <tr>\n",
       "      <th>3</th>\n",
       "      <td>Zaire Ebolavirus STRAIN MAYINGA</td>\n",
       "      <td>128952</td>\n",
       "      <td>Q05127</td>\n",
       "      <td>VP35_EBOZM</td>\n",
       "      <td>O95816</td>\n",
       "      <td>BAG2_HUMAN</td>\n",
       "      <td>tandem affinity purification</td>\n",
       "      <td>22810585</td>\n",
       "    </tr>\n",
       "    <tr>\n",
       "      <th>4</th>\n",
       "      <td>Zaire Ebolavirus STRAIN MAYINGA</td>\n",
       "      <td>128952</td>\n",
       "      <td>Q05127</td>\n",
       "      <td>VP35_EBOZM</td>\n",
       "      <td>P12036</td>\n",
       "      <td>NFH_HUMAN</td>\n",
       "      <td>tandem affinity purification</td>\n",
       "      <td>22810585</td>\n",
       "    </tr>\n",
       "  </tbody>\n",
       "</table>\n",
       "</div>"
      ],
      "text/plain": [
       "                          Pathogen  Taxonomy ID virusUprot Pathogen Protein  \\\n",
       "0  Zaire Ebolavirus STRAIN MAYINGA       128952     Q05128      VP40_EBOZM    \n",
       "1  Zaire Ebolavirus STRAIN MAYINGA       128952     Q05127      VP35_EBOZM    \n",
       "2  Zaire Ebolavirus STRAIN MAYINGA       128952     Q05127      VP35_EBOZM    \n",
       "3  Zaire Ebolavirus STRAIN MAYINGA       128952     Q05127      VP35_EBOZM    \n",
       "4  Zaire Ebolavirus STRAIN MAYINGA       128952     Q05127      VP35_EBOZM    \n",
       "\n",
       "  humanUprot Human Protein           Experimental Method  Pubmed ID  \n",
       "0     P46934  NEDD4_HUMAN                 filter binding   11095724  \n",
       "1     Q96FJ2   DYL2_HUMAN   tandem affinity purification   22810585  \n",
       "2     P22626   ROA2_HUMAN   tandem affinity purification   22810585  \n",
       "3     O95816   BAG2_HUMAN   tandem affinity purification   22810585  \n",
       "4     P12036    NFH_HUMAN   tandem affinity purification   22810585  "
      ]
     },
     "execution_count": 5,
     "metadata": {},
     "output_type": "execute_result"
    }
   ],
   "source": [
    "eboladf.head()"
   ]
  },
  {
   "cell_type": "code",
   "execution_count": 6,
   "metadata": {},
   "outputs": [
    {
     "data": {
      "text/plain": [
       "4"
      ]
     },
     "execution_count": 6,
     "metadata": {},
     "output_type": "execute_result"
    }
   ],
   "source": [
    "len(eboladf['Pathogen'].unique()) "
   ]
  },
  {
   "cell_type": "code",
   "execution_count": 7,
   "metadata": {},
   "outputs": [
    {
     "data": {
      "text/plain": [
       "array(['Zaire Ebolavirus STRAIN MAYINGA',\n",
       "       'Reston ebolavirus STRAIN Reston (1989)',\n",
       "       'Zaire ebolavirus STRAIN 1995', 'Zaire Ebolavirus '], dtype=object)"
      ]
     },
     "execution_count": 7,
     "metadata": {},
     "output_type": "execute_result"
    }
   ],
   "source": [
    "eboladf['Pathogen'].unique()"
   ]
  },
  {
   "cell_type": "code",
   "execution_count": 8,
   "metadata": {},
   "outputs": [
    {
     "data": {
      "text/plain": [
       "151"
      ]
     },
     "execution_count": 8,
     "metadata": {},
     "output_type": "execute_result"
    }
   ],
   "source": [
    "len(eboladf['Human Protein'].unique())"
   ]
  },
  {
   "cell_type": "markdown",
   "metadata": {},
   "source": [
    "All of these seem relevant"
   ]
  },
  {
   "cell_type": "markdown",
   "metadata": {},
   "source": [
    "# 3 Get virus|human uniprots of interactions\n",
    "\n",
    "get a df with cols virus uniprot and human uniprot for matrix interaction processing."
   ]
  },
  {
   "cell_type": "code",
   "execution_count": 9,
   "metadata": {},
   "outputs": [],
   "source": [
    "# drop cols we don't need\n",
    "eboladf = removeObsoletes(eboladf[['virusUprot', 'humanUprot']])"
   ]
  },
  {
   "cell_type": "code",
   "execution_count": 10,
   "metadata": {},
   "outputs": [
    {
     "data": {
      "text/html": [
       "<div>\n",
       "<style scoped>\n",
       "    .dataframe tbody tr th:only-of-type {\n",
       "        vertical-align: middle;\n",
       "    }\n",
       "\n",
       "    .dataframe tbody tr th {\n",
       "        vertical-align: top;\n",
       "    }\n",
       "\n",
       "    .dataframe thead th {\n",
       "        text-align: right;\n",
       "    }\n",
       "</style>\n",
       "<table border=\"1\" class=\"dataframe\">\n",
       "  <thead>\n",
       "    <tr style=\"text-align: right;\">\n",
       "      <th></th>\n",
       "      <th>virusUprot</th>\n",
       "      <th>humanUprot</th>\n",
       "    </tr>\n",
       "  </thead>\n",
       "  <tbody>\n",
       "    <tr>\n",
       "      <th>0</th>\n",
       "      <td>Q05128</td>\n",
       "      <td>P46934</td>\n",
       "    </tr>\n",
       "    <tr>\n",
       "      <th>1</th>\n",
       "      <td>Q05127</td>\n",
       "      <td>Q96FJ2</td>\n",
       "    </tr>\n",
       "    <tr>\n",
       "      <th>2</th>\n",
       "      <td>Q05127</td>\n",
       "      <td>P22626</td>\n",
       "    </tr>\n",
       "    <tr>\n",
       "      <th>3</th>\n",
       "      <td>Q05127</td>\n",
       "      <td>O95816</td>\n",
       "    </tr>\n",
       "    <tr>\n",
       "      <th>4</th>\n",
       "      <td>Q05127</td>\n",
       "      <td>P12036</td>\n",
       "    </tr>\n",
       "  </tbody>\n",
       "</table>\n",
       "</div>"
      ],
      "text/plain": [
       "  virusUprot humanUprot\n",
       "0     Q05128     P46934\n",
       "1     Q05127     Q96FJ2\n",
       "2     Q05127     P22626\n",
       "3     Q05127     O95816\n",
       "4     Q05127     P12036"
      ]
     },
     "execution_count": 10,
     "metadata": {},
     "output_type": "execute_result"
    }
   ],
   "source": [
    "eboladf.head()"
   ]
  },
  {
   "cell_type": "code",
   "execution_count": 11,
   "metadata": {},
   "outputs": [],
   "source": [
    "# save current interaction matrix\n",
    "eboladf.to_csv('ebola_interactions_full.csv', index=False)"
   ]
  },
  {
   "cell_type": "code",
   "execution_count": 12,
   "metadata": {},
   "outputs": [
    {
     "data": {
      "text/html": [
       "<div>\n",
       "<style scoped>\n",
       "    .dataframe tbody tr th:only-of-type {\n",
       "        vertical-align: middle;\n",
       "    }\n",
       "\n",
       "    .dataframe tbody tr th {\n",
       "        vertical-align: top;\n",
       "    }\n",
       "\n",
       "    .dataframe thead th {\n",
       "        text-align: right;\n",
       "    }\n",
       "</style>\n",
       "<table border=\"1\" class=\"dataframe\">\n",
       "  <thead>\n",
       "    <tr style=\"text-align: right;\">\n",
       "      <th></th>\n",
       "      <th>virusUprot</th>\n",
       "      <th>humanUprot</th>\n",
       "    </tr>\n",
       "  </thead>\n",
       "  <tbody>\n",
       "    <tr>\n",
       "      <th>0</th>\n",
       "      <td>Q05128</td>\n",
       "      <td>P46934</td>\n",
       "    </tr>\n",
       "    <tr>\n",
       "      <th>1</th>\n",
       "      <td>Q05127</td>\n",
       "      <td>Q96FJ2</td>\n",
       "    </tr>\n",
       "    <tr>\n",
       "      <th>2</th>\n",
       "      <td>Q05127</td>\n",
       "      <td>P22626</td>\n",
       "    </tr>\n",
       "    <tr>\n",
       "      <th>3</th>\n",
       "      <td>Q05127</td>\n",
       "      <td>O95816</td>\n",
       "    </tr>\n",
       "    <tr>\n",
       "      <th>4</th>\n",
       "      <td>Q05127</td>\n",
       "      <td>P12036</td>\n",
       "    </tr>\n",
       "  </tbody>\n",
       "</table>\n",
       "</div>"
      ],
      "text/plain": [
       "  virusUprot humanUprot\n",
       "0     Q05128     P46934\n",
       "1     Q05127     Q96FJ2\n",
       "2     Q05127     P22626\n",
       "3     Q05127     O95816\n",
       "4     Q05127     P12036"
      ]
     },
     "execution_count": 12,
     "metadata": {},
     "output_type": "execute_result"
    }
   ],
   "source": [
    "pd.read_csv('ebola_interactions_full.csv').head()"
   ]
  },
  {
   "cell_type": "code",
   "execution_count": null,
   "metadata": {},
   "outputs": [],
   "source": []
  },
  {
   "cell_type": "code",
   "execution_count": 13,
   "metadata": {},
   "outputs": [],
   "source": [
    "ranked_eboladf = rank_by_interactions(eboladf, 1)"
   ]
  },
  {
   "cell_type": "code",
   "execution_count": 17,
   "metadata": {},
   "outputs": [
    {
     "data": {
      "text/plain": [
       "<matplotlib.axes._subplots.AxesSubplot at 0x7f1b8dad25f8>"
      ]
     },
     "execution_count": 17,
     "metadata": {},
     "output_type": "execute_result"
    },
    {
     "data": {
      "image/png": "[encoded data removed]",
      "text/plain": [
       "<Figure size 432x288 with 1 Axes>"
      ]
     },
     "metadata": {
      "needs_background": "light"
     },
     "output_type": "display_data"
    }
   ],
   "source": [
    "ranked_eboladf['ratio'].plot.line()"
   ]
  },
  {
   "cell_type": "code",
   "execution_count": 15,
   "metadata": {},
   "outputs": [
    {
     "data": {
      "text/plain": [
       "0.15231788079470204"
      ]
     },
     "execution_count": 15,
     "metadata": {},
     "output_type": "execute_result"
    }
   ],
   "source": [
    "ranked_eboladf['ratio'].mean()"
   ]
  },
  {
   "cell_type": "code",
   "execution_count": null,
   "metadata": {},
   "outputs": [],
   "source": []
  },
  {
   "cell_type": "code",
   "execution_count": null,
   "metadata": {},
   "outputs": [],
   "source": []
  }
 ],
 "metadata": {
  "kernelspec": {
   "display_name": "Python deeplearning",
   "language": "python",
   "name": "myenv"
  },
  "language_info": {
   "codemirror_mode": {
    "name": "ipython",
    "version": 3
   },
   "file_extension": ".py",
   "mimetype": "text/x-python",
   "name": "python",
   "nbconvert_exporter": "python",
   "pygments_lexer": "ipython3",
   "version": "3.6.8"
  }
 },
 "nbformat": 4,
 "nbformat_minor": 2
}
