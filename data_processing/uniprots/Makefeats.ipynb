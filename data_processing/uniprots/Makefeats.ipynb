{
 "cells": [
  {
   "cell_type": "code",
   "execution_count": 1,
   "metadata": {},
   "outputs": [],
   "source": [
    "import numpy as np\n",
    "import pickle\n",
    "from Bio import SeqIO\n",
    "from Bio.Alphabet import ProteinAlphabet"
   ]
  },
  {
   "cell_type": "code",
   "execution_count": 2,
   "metadata": {},
   "outputs": [],
   "source": [
    "D = pickle.load(open('D.pkl', 'rb'))"
   ]
  },
  {
   "cell_type": "code",
   "execution_count": 24,
   "metadata": {},
   "outputs": [],
   "source": [
    "classes = dict.fromkeys(['A', 'G','V'], 1)\n",
    "classes.update(dict.fromkeys(['I', 'L', 'F', 'P'], 2))\n",
    "classes.update(dict.fromkeys(['Y', 'M', 'T', 'S'], 3))\n",
    "classes.update(dict.fromkeys(['H', 'N', 'Q', 'W'], 4))\n",
    "classes.update(dict.fromkeys(['R', 'K'], 5))\n",
    "classes.update(dict.fromkeys(['D', 'E'], 6))\n",
    "classes.update(dict.fromkeys(['C', 'U'], 7))\n",
    "# classes.update(dict.fromkeys(['X'], -1))"
   ]
  },
  {
   "cell_type": "code",
   "execution_count": 34,
   "metadata": {},
   "outputs": [],
   "source": [
    "def protToClass(p):\n",
    "    if p == 'X':\n",
    "        return '-1'\n",
    "    else:\n",
    "        return str(classes[p])\n",
    "\n",
    "def seqToClass(seq):\n",
    "    return ''.join(list(map(protToClass, seq)))\n",
    "\n",
    "def normalize(Fi):\n",
    "    return (Fi - min(Fi)) / max(Fi)\n",
    "\n",
    "def getFi(D, seq):\n",
    "    grptoi = {p:i for i,p in enumerate(D)} # group to index mappings\n",
    "    Fi = np.zeros(len(grptoi.values()))\n",
    "    \n",
    "    classSeq = seqToClass(seq)\n",
    "#     print(classSeq)\n",
    "    \n",
    "    for p in D:\n",
    "        Fi[grptoi[p]] += classSeq.count(''.join(p))\n",
    "\n",
    "    return normalize(Fi)"
   ]
  },
  {
   "cell_type": "code",
   "execution_count": 35,
   "metadata": {},
   "outputs": [],
   "source": [
    "def proteinize(records):\n",
    "    for r in records:\n",
    "        r.seq.Alphabet = ProteinAlphabet"
   ]
  },
  {
   "cell_type": "code",
   "execution_count": 36,
   "metadata": {},
   "outputs": [],
   "source": [
    "def makeF(records):\n",
    "    n = len(records)\n",
    "    \n",
    "    F = np.zeros((n, 2793))\n",
    "    print(F.shape)\n",
    "    \n",
    "    for i in range(n):\n",
    "        F[i,:] = getFi(D, records[i])\n",
    "        \n",
    "    return F"
   ]
  },
  {
   "cell_type": "code",
   "execution_count": 37,
   "metadata": {},
   "outputs": [],
   "source": [
    "virus_records = list(SeqIO.parse('virus_prots.fasta', 'fasta'))\n",
    "human_records = list(SeqIO.parse('human_prots.fasta', 'fasta'))"
   ]
  },
  {
   "cell_type": "code",
   "execution_count": 38,
   "metadata": {},
   "outputs": [],
   "source": [
    "proteinize(virus_records)"
   ]
  },
  {
   "cell_type": "code",
   "execution_count": 39,
   "metadata": {},
   "outputs": [],
   "source": [
    "# vfeats = makeF(virus_records)"
   ]
  },
  {
   "cell_type": "code",
   "execution_count": 40,
   "metadata": {},
   "outputs": [],
   "source": [
    "# np.savetxt('vfeats.txt', vfeats)"
   ]
  },
  {
   "cell_type": "code",
   "execution_count": 41,
   "metadata": {},
   "outputs": [],
   "source": [
    "v = np.loadtxt('vfeats.txt')"
   ]
  },
  {
   "cell_type": "code",
   "execution_count": 42,
   "metadata": {},
   "outputs": [
    {
     "name": "stdout",
     "output_type": "stream",
     "text": [
      "(3302, 2793)\n"
     ]
    }
   ],
   "source": [
    "hfeats = makeF(human_records)"
   ]
  },
  {
   "cell_type": "code",
   "execution_count": 44,
   "metadata": {},
   "outputs": [],
   "source": [
    "np.savetxt('hfeats.txt', hfeats)"
   ]
  },
  {
   "cell_type": "code",
   "execution_count": 45,
   "metadata": {},
   "outputs": [],
   "source": [
    "h = np.loadtxt('hfeats.txt')"
   ]
  },
  {
   "cell_type": "code",
   "execution_count": 46,
   "metadata": {},
   "outputs": [
    {
     "data": {
      "text/plain": [
       "(3302, 2793)"
      ]
     },
     "execution_count": 46,
     "metadata": {},
     "output_type": "execute_result"
    }
   ],
   "source": [
    "h.shape"
   ]
  },
  {
   "cell_type": "code",
   "execution_count": 47,
   "metadata": {},
   "outputs": [
    {
     "data": {
      "text/plain": [
       "1911703"
      ]
     },
     "execution_count": 47,
     "metadata": {},
     "output_type": "execute_result"
    }
   ],
   "source": [
    "len(h[h> 0])"
   ]
  },
  {
   "cell_type": "code",
   "execution_count": null,
   "metadata": {},
   "outputs": [],
   "source": []
  }
 ],
 "metadata": {
  "kernelspec": {
   "display_name": "Python deeplearning",
   "language": "python",
   "name": "myenv"
  },
  "language_info": {
   "codemirror_mode": {
    "name": "ipython",
    "version": 3
   },
   "file_extension": ".py",
   "mimetype": "text/x-python",
   "name": "python",
   "nbconvert_exporter": "python",
   "pygments_lexer": "ipython3",
   "version": "3.6.8"
  }
 },
 "nbformat": 4,
 "nbformat_minor": 2
}
