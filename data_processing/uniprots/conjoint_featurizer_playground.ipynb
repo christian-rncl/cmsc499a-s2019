{
 "cells": [
  {
   "cell_type": "markdown",
   "metadata": {},
   "source": [
    "# Conjoint featurization\n",
    "\n",
    "## Christian Roncal cmsc499a Dr. Leiserson"
   ]
  },
  {
   "cell_type": "markdown",
   "metadata": {},
   "source": [
    "# Understanding:\n",
    "\n",
    "The amino acids will be represented by 20 letters:\n",
    "1. A - ALA  \n",
    "1. G - GLY\n",
    "1. V - VAL\n",
    "1. I - ILE\n",
    "1. L - LEU\n",
    "1. F - PHE\n",
    "1. P - PRO\n",
    "1. Y - TYR\n",
    "1. M - MET\n",
    "1. T - THR \n",
    "1. S - SER\n",
    "1. H - HIS\n",
    "1. N - ASN\n",
    "1. Q - GLN\n",
    "1. W - TRP\n",
    "1. R - ARG\n",
    "1. K - LYS\n",
    "1. D - ASP\n",
    "1. E - GLU\n",
    "1. C - CYS\n",
    "\n",
    "These amino acids will then be grouped into classes based on their dipoles and side chains. The rationale is that these two characteristics effect binding greatly. We get 7 classes."
   ]
  },
  {
   "cell_type": "code",
   "execution_count": 1,
   "metadata": {},
   "outputs": [],
   "source": [
    "classes = dict.fromkeys(['A', 'G','V'], 1)\n",
    "classes.update(dict.fromkeys(['I', 'L', 'F', 'P'], 2))\n",
    "classes.update(dict.fromkeys(['Y', 'M', 'T', 'S'], 3))\n",
    "classes.update(dict.fromkeys(['H', 'N', 'Q', 'W'], 4))\n",
    "classes.update(dict.fromkeys(['R', 'K'], 5))\n",
    "classes.update(dict.fromkeys(['D', 'E'], 6))\n",
    "classes.update(dict.fromkeys(['C'], 7))"
   ]
  },
  {
   "cell_type": "code",
   "execution_count": 6,
   "metadata": {},
   "outputs": [
    {
     "name": "stdout",
     "output_type": "stream",
     "text": [
      "3334252455\n"
     ]
    }
   ],
   "source": [
    "s = 'MSTNPKPQRK'\n",
    "ctf = []\n",
    "for c in s:\n",
    "    ctf.append(str(classes[c]))\n",
    "print(''.join(ctf))"
   ]
  },
  {
   "cell_type": "code",
   "execution_count": 7,
   "metadata": {},
   "outputs": [
    {
     "data": {
      "text/plain": [
       "(20, 20)"
      ]
     },
     "execution_count": 7,
     "metadata": {},
     "output_type": "execute_result"
    }
   ],
   "source": [
    "len(classes.keys()), len(classes.values())"
   ]
  },
  {
   "cell_type": "code",
   "execution_count": 8,
   "metadata": {},
   "outputs": [],
   "source": [
    "import pickle\n",
    "\n",
    "with open('classes.pkl', 'wb') as d:\n",
    "    pickle.dump(classes, d)"
   ]
  },
  {
   "cell_type": "markdown",
   "metadata": {},
   "source": [
    "# Conjoint featurization"
   ]
  },
  {
   "cell_type": "markdown",
   "metadata": {},
   "source": [
    "We then define two vector spaces, D and F. D will contain every possible 2,3,4 permutation, and F will be a count of each permutation occurence for a given sequence -- normalized."
   ]
  },
  {
   "cell_type": "markdown",
   "metadata": {},
   "source": [
    "## Building vector space D"
   ]
  },
  {
   "cell_type": "markdown",
   "metadata": {},
   "source": [
    "There are $7^2 + 7^3 + 7^4 = 2793$ possible permutations (with repeats, more like cartesian product). We simply concatenate each $D$, concretely  $$D = D^{7^2} \\oplus D^{7^3} \\oplus D^{7^4}$$\n",
    "\n",
    "It follows that the first $7^2$ indices will be taken $by D^{7^2}$ and so on.\n",
    "\n",
    "To be able to easily count frequencies, it helps to represent $D$ as a dictionaries with the permutation as a key and its index as its value. This way, for every grouping we encounter, we simply look up the index in the dictionary and increment the corresponding index in $F_i$."
   ]
  },
  {
   "cell_type": "code",
   "execution_count": 1,
   "metadata": {},
   "outputs": [],
   "source": [
    "from itertools import chain, product\n",
    "import functools\n",
    "\n",
    "def buildD():\n",
    "    alphabet = list(map(str, range(7)))\n",
    "    ds = [product(alphabet, repeat=i) for i in [2,3,4]]\n",
    "    print(ds)\n",
    "    ds = list(chain.from_iterable(ds))\n",
    "    return ds"
   ]
  },
  {
   "cell_type": "code",
   "execution_count": null,
   "metadata": {},
   "outputs": [],
   "source": []
  },
  {
   "cell_type": "code",
   "execution_count": 2,
   "metadata": {},
   "outputs": [
    {
     "name": "stdout",
     "output_type": "stream",
     "text": [
      "[<itertools.product object at 0x7f259c4a3e58>, <itertools.product object at 0x7f259c4a3ea0>, <itertools.product object at 0x7f259c4a3ee8>]\n"
     ]
    },
    {
     "data": {
      "text/plain": [
       "2793"
      ]
     },
     "execution_count": 2,
     "metadata": {},
     "output_type": "execute_result"
    }
   ],
   "source": [
    "D = buildD()\n",
    "len(D)"
   ]
  },
  {
   "cell_type": "code",
   "execution_count": 5,
   "metadata": {},
   "outputs": [],
   "source": [
    "import pickle\n",
    "\n",
    "with open('D.pkl', 'wb') as d:\n",
    "    pickle.dump(D, d)"
   ]
  },
  {
   "cell_type": "markdown",
   "metadata": {},
   "source": [
    "To build $F_i$, for a given string of amino acids $s$, we create a dictionary mapping of a grouping to its index. $F_i$ is then just an array of counts, where $F_i[j]$ corresponds to the count of a mapped grouping"
   ]
  },
  {
   "cell_type": "code",
   "execution_count": 5,
   "metadata": {},
   "outputs": [],
   "source": [
    "import numpy as np\n",
    "\n",
    "def seqToClass(seq):\n",
    "    return ''.join(list(map(lambda x: str(classes[x]), seq)))\n",
    "\n",
    "def normalize(Fi):\n",
    "    return (Fi - min(Fi)) / max(Fi)\n",
    "\n",
    "def getFi(D, seq):\n",
    "    grptoi = {p:i for i,p in enumerate(D)} # group to index mappings\n",
    "    Fi = np.zeros(len(grptoi.values()))\n",
    "    \n",
    "    classSeq = seqToClass(seq)\n",
    "#     print(classSeq)\n",
    "    \n",
    "    for p in D:\n",
    "        Fi[grptoi[p]] += classSeq.count(''.join(p))\n",
    "\n",
    "    return normalize(Fi)"
   ]
  },
  {
   "cell_type": "code",
   "execution_count": 6,
   "metadata": {},
   "outputs": [],
   "source": [
    "from Bio import SeqIO\n",
    "from Bio.Alphabet import ProteinAlphabet\n",
    "\n",
    "record = SeqIO.read('hepc.fasta', 'fasta')\n",
    "record.seq.Alphabet = ProteinAlphabet"
   ]
  },
  {
   "cell_type": "code",
   "execution_count": 7,
   "metadata": {},
   "outputs": [],
   "source": [
    "classSeq = seqToClass(record.seq)"
   ]
  },
  {
   "cell_type": "code",
   "execution_count": 8,
   "metadata": {},
   "outputs": [],
   "source": [
    "fi = getFi(D, record.seq)"
   ]
  },
  {
   "cell_type": "markdown",
   "metadata": {},
   "source": [
    "# Prepare uniprots\n",
    "\n",
    "We're going to need all the uniprots to calculate this featurization for all of them."
   ]
  },
  {
   "cell_type": "code",
   "execution_count": 9,
   "metadata": {},
   "outputs": [],
   "source": [
    "from make_matrix import *"
   ]
  },
  {
   "cell_type": "code",
   "execution_count": 10,
   "metadata": {},
   "outputs": [
    {
     "name": "stdout",
     "output_type": "stream",
     "text": [
      "Merging files....\n"
     ]
    }
   ],
   "source": [
    "df = read_interaction_csvs(['flu_interactions_full.csv', 'ebola_interactions_full.csv', 'hepc_interactions_full.csv'])"
   ]
  },
  {
   "cell_type": "code",
   "execution_count": 16,
   "metadata": {},
   "outputs": [],
   "source": [
    "virus_prots = df['virusUprot'].unique()\n",
    "human_prots = df['humanUprot'].unique()"
   ]
  },
  {
   "cell_type": "markdown",
   "metadata": {},
   "source": [
    "### save these prots"
   ]
  },
  {
   "cell_type": "code",
   "execution_count": 19,
   "metadata": {},
   "outputs": [],
   "source": [
    "import pickle \n",
    "\n",
    "with open('virus_uprots.pkl', 'wb') as vu:\n",
    "    pickle.dump(virus_prots, vu)\n",
    "    \n",
    "with open('human_uprots.pkl', 'wb') as hu:\n",
    "    pickle.dump(human_prots, hu)"
   ]
  },
  {
   "cell_type": "markdown",
   "metadata": {},
   "source": [
    "### Make the full matrix"
   ]
  },
  {
   "cell_type": "code",
   "execution_count": 21,
   "metadata": {},
   "outputs": [],
   "source": [
    "df = mp_processpairs(df, mp_pairmatcher, retfn, 20)"
   ]
  },
  {
   "cell_type": "code",
   "execution_count": 23,
   "metadata": {},
   "outputs": [
    {
     "data": {
      "text/html": [
       "<div>\n",
       "<style scoped>\n",
       "    .dataframe tbody tr th:only-of-type {\n",
       "        vertical-align: middle;\n",
       "    }\n",
       "\n",
       "    .dataframe tbody tr th {\n",
       "        vertical-align: top;\n",
       "    }\n",
       "\n",
       "    .dataframe thead th {\n",
       "        text-align: right;\n",
       "    }\n",
       "</style>\n",
       "<table border=\"1\" class=\"dataframe\">\n",
       "  <thead>\n",
       "    <tr style=\"text-align: right;\">\n",
       "      <th></th>\n",
       "      <th>virusUprot</th>\n",
       "      <th>humanUprot</th>\n",
       "      <th>edge</th>\n",
       "    </tr>\n",
       "  </thead>\n",
       "  <tbody>\n",
       "    <tr>\n",
       "      <th>0</th>\n",
       "      <td>Q6QYT2</td>\n",
       "      <td>P04637</td>\n",
       "      <td>1.0</td>\n",
       "    </tr>\n",
       "    <tr>\n",
       "      <th>1</th>\n",
       "      <td>Q6QYT2</td>\n",
       "      <td>P62333</td>\n",
       "      <td>0.0</td>\n",
       "    </tr>\n",
       "    <tr>\n",
       "      <th>2</th>\n",
       "      <td>Q6QYT2</td>\n",
       "      <td>Q14257</td>\n",
       "      <td>0.0</td>\n",
       "    </tr>\n",
       "    <tr>\n",
       "      <th>3</th>\n",
       "      <td>Q6QYT2</td>\n",
       "      <td>Q13438</td>\n",
       "      <td>0.0</td>\n",
       "    </tr>\n",
       "    <tr>\n",
       "      <th>4</th>\n",
       "      <td>Q6QYT2</td>\n",
       "      <td>P08708</td>\n",
       "      <td>0.0</td>\n",
       "    </tr>\n",
       "  </tbody>\n",
       "</table>\n",
       "</div>"
      ],
      "text/plain": [
       "  virusUprot humanUprot  edge\n",
       "0     Q6QYT2     P04637   1.0\n",
       "1     Q6QYT2     P62333   0.0\n",
       "2     Q6QYT2     Q14257   0.0\n",
       "3     Q6QYT2     Q13438   0.0\n",
       "4     Q6QYT2     P08708   0.0"
      ]
     },
     "execution_count": 23,
     "metadata": {},
     "output_type": "execute_result"
    }
   ],
   "source": [
    "df.head()"
   ]
  },
  {
   "cell_type": "code",
   "execution_count": 22,
   "metadata": {},
   "outputs": [],
   "source": [
    "df.to_csv('full_train.csv')"
   ]
  },
  {
   "cell_type": "code",
   "execution_count": 36,
   "metadata": {},
   "outputs": [],
   "source": [
    "df = pd.read_csv('full_train.csv', usecols=['virusUprot', 'humanUprot', 'edge'])"
   ]
  },
  {
   "cell_type": "code",
   "execution_count": 37,
   "metadata": {},
   "outputs": [
    {
     "data": {
      "text/html": [
       "<div>\n",
       "<style scoped>\n",
       "    .dataframe tbody tr th:only-of-type {\n",
       "        vertical-align: middle;\n",
       "    }\n",
       "\n",
       "    .dataframe tbody tr th {\n",
       "        vertical-align: top;\n",
       "    }\n",
       "\n",
       "    .dataframe thead th {\n",
       "        text-align: right;\n",
       "    }\n",
       "</style>\n",
       "<table border=\"1\" class=\"dataframe\">\n",
       "  <thead>\n",
       "    <tr style=\"text-align: right;\">\n",
       "      <th></th>\n",
       "      <th>virusUprot</th>\n",
       "      <th>humanUprot</th>\n",
       "      <th>edge</th>\n",
       "    </tr>\n",
       "  </thead>\n",
       "  <tbody>\n",
       "    <tr>\n",
       "      <th>0</th>\n",
       "      <td>Q6QYT2</td>\n",
       "      <td>P04637</td>\n",
       "      <td>1.0</td>\n",
       "    </tr>\n",
       "    <tr>\n",
       "      <th>1</th>\n",
       "      <td>Q6QYT2</td>\n",
       "      <td>P62333</td>\n",
       "      <td>0.0</td>\n",
       "    </tr>\n",
       "    <tr>\n",
       "      <th>2</th>\n",
       "      <td>Q6QYT2</td>\n",
       "      <td>Q14257</td>\n",
       "      <td>0.0</td>\n",
       "    </tr>\n",
       "    <tr>\n",
       "      <th>3</th>\n",
       "      <td>Q6QYT2</td>\n",
       "      <td>Q13438</td>\n",
       "      <td>0.0</td>\n",
       "    </tr>\n",
       "    <tr>\n",
       "      <th>4</th>\n",
       "      <td>Q6QYT2</td>\n",
       "      <td>P08708</td>\n",
       "      <td>0.0</td>\n",
       "    </tr>\n",
       "  </tbody>\n",
       "</table>\n",
       "</div>"
      ],
      "text/plain": [
       "  virusUprot humanUprot  edge\n",
       "0     Q6QYT2     P04637   1.0\n",
       "1     Q6QYT2     P62333   0.0\n",
       "2     Q6QYT2     Q14257   0.0\n",
       "3     Q6QYT2     Q13438   0.0\n",
       "4     Q6QYT2     P08708   0.0"
      ]
     },
     "execution_count": 37,
     "metadata": {},
     "output_type": "execute_result"
    }
   ],
   "source": [
    "df.head()"
   ]
  },
  {
   "cell_type": "code",
   "execution_count": 38,
   "metadata": {},
   "outputs": [],
   "source": [
    "df.to_csv('full_train.csv', index=False)"
   ]
  },
  {
   "cell_type": "code",
   "execution_count": 40,
   "metadata": {},
   "outputs": [],
   "source": [
    "df.sample(frac=1).to_csv('full_train.csv', index=False)"
   ]
  },
  {
   "cell_type": "markdown",
   "metadata": {},
   "source": []
  }
 ],
 "metadata": {
  "kernelspec": {
   "display_name": "Python deeplearning",
   "language": "python",
   "name": "myenv"
  },
  "language_info": {
   "codemirror_mode": {
    "name": "ipython",
    "version": 3
   },
   "file_extension": ".py",
   "mimetype": "text/x-python",
   "name": "python",
   "nbconvert_exporter": "python",
   "pygments_lexer": "ipython3",
   "version": "3.6.8"
  }
 },
 "nbformat": 4,
 "nbformat_minor": 2
}
