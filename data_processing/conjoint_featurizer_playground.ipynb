{
 "cells": [
  {
   "cell_type": "markdown",
   "metadata": {},
   "source": [
    "# Conjoint featurization\n",
    "\n",
    "## Christian Roncal cmsc499a Dr. Leiserson"
   ]
  },
  {
   "cell_type": "markdown",
   "metadata": {},
   "source": [
    "# Understanding:\n",
    "\n",
    "The amino acids will be represented by 20 letters:\n",
    "1. A - ALA  \n",
    "1. G - GLY\n",
    "1. V - VAL\n",
    "1. I - ILE\n",
    "1. L - LEU\n",
    "1. F - PHE\n",
    "1. P - PRO\n",
    "1. Y - TYR\n",
    "1. M - MET\n",
    "1. T - THR \n",
    "1. S - SER\n",
    "1. H - HIS\n",
    "1. N - ASN\n",
    "1. Q - GLN\n",
    "1. W - TRP\n",
    "1. R - ARG\n",
    "1. K - LYS\n",
    "1. D - ASP\n",
    "1. E - GLU\n",
    "1. C - CYS\n",
    "\n",
    "These amino acids will then be grouped into classes based on their dipoles and side chains. The rationale is that these two characteristics effect binding greatly. We get 7 classes."
   ]
  },
  {
   "cell_type": "code",
   "execution_count": 1,
   "metadata": {},
   "outputs": [],
   "source": [
    "classes = dict.fromkeys(['A', 'G','V'], 1)\n",
    "classes.update(dict.fromkeys(['I', 'L', 'F', 'P'], 2))\n",
    "classes.update(dict.fromkeys(['Y', 'M', 'T', 'S'], 3))\n",
    "classes.update(dict.fromkeys(['H', 'N', 'Q', 'W'], 4))\n",
    "classes.update(dict.fromkeys(['R', 'K'], 5))\n",
    "classes.update(dict.fromkeys(['D', 'E'], 6))\n",
    "classes.update(dict.fromkeys(['C'], 7))"
   ]
  },
  {
   "cell_type": "code",
   "execution_count": 2,
   "metadata": {},
   "outputs": [
    {
     "data": {
      "text/plain": [
       "(20, 20)"
      ]
     },
     "execution_count": 2,
     "metadata": {},
     "output_type": "execute_result"
    }
   ],
   "source": [
    "len(classes.keys()), len(classes.values())"
   ]
  },
  {
   "cell_type": "markdown",
   "metadata": {},
   "source": [
    "# Conjoint featurization"
   ]
  },
  {
   "cell_type": "markdown",
   "metadata": {},
   "source": [
    "We then define two vector spaces, D and F. D will contain every possible 2,3,4 permutation, and F will be a count of each permutation occurence for a given sequence -- normalized."
   ]
  },
  {
   "cell_type": "markdown",
   "metadata": {},
   "source": [
    "## Building vector space D"
   ]
  },
  {
   "cell_type": "markdown",
   "metadata": {},
   "source": [
    "There are $7^2 + 7^3 + 7^4 = 2793$ possible permutations (with repeats, more like cartesian product). We simply concatenate each $D$, concretely  $$D = D^{7^2} \\oplus D^{7^3} \\oplus D^{7^4}$$\n",
    "\n",
    "It follows that the first $7^2$ indices will be taken $by D^{7^2}$ and so on.\n",
    "\n",
    "To be able to easily count frequencies, it helps to represent $D$ as a dictionaries with the permutation as a key and its index as its value. This way, for every grouping we encounter, we simply look up the index in the dictionary and increment the corresponding index in $F_i$."
   ]
  },
  {
   "cell_type": "code",
   "execution_count": 75,
   "metadata": {},
   "outputs": [],
   "source": [
    "from itertools import chain, product\n",
    "import functools\n",
    "\n",
    "def buildD():\n",
    "    alphabet = list(map(str, range(7)))\n",
    "    ds = [product(alphabet, repeat=i) for i in [2,3,4]]\n",
    "    ds = list(chain.from_iterable(ds))\n",
    "    return ds"
   ]
  },
  {
   "cell_type": "code",
   "execution_count": 127,
   "metadata": {},
   "outputs": [
    {
     "data": {
      "text/plain": [
       "2793"
      ]
     },
     "execution_count": 127,
     "metadata": {},
     "output_type": "execute_result"
    }
   ],
   "source": [
    "D = buildD()\n",
    "len(D)"
   ]
  },
  {
   "cell_type": "markdown",
   "metadata": {},
   "source": [
    "To build $F_i$, for a given string of amino acids $s$, we create a dictionary mapping of a grouping to its index. $F_i$ is then just an array of counts, where $F_i[j]$ corresponds to the count of a mapped grouping"
   ]
  },
  {
   "cell_type": "code",
   "execution_count": 184,
   "metadata": {},
   "outputs": [],
   "source": [
    "import numpy as np\n",
    "\n",
    "def seqToClass(seq):\n",
    "    return ''.join(list(map(lambda x: str(classes[x]), seq)))\n",
    "\n",
    "def normalize(Fi):\n",
    "    return (Fi - min(Fi)) / max(Fi)\n",
    "\n",
    "def getFi(D, seq):\n",
    "    grptoi = {p:i for i,p in enumerate(D)} # group to index mappings\n",
    "    Fi = np.zeros(len(grptoi.values()))\n",
    "    \n",
    "    classSeq = seqToClass(seq)\n",
    "#     print(classSeq)\n",
    "    \n",
    "    for p in D:\n",
    "        Fi[grptoi[p]] += classSeq.count(''.join(p))\n",
    "\n",
    "    return normalize(Fi)"
   ]
  },
  {
   "cell_type": "code",
   "execution_count": 185,
   "metadata": {},
   "outputs": [],
   "source": [
    "from Bio import SeqIO\n",
    "from Bio.Alphabet import ProteinAlphabet\n",
    "\n",
    "record = SeqIO.read('hepc.fasta', 'fasta')\n",
    "record.seq.Alphabet = ProteinAlphabet"
   ]
  },
  {
   "cell_type": "code",
   "execution_count": 186,
   "metadata": {},
   "outputs": [],
   "source": [
    "classSeq = seqToClass(record.seq)"
   ]
  },
  {
   "cell_type": "code",
   "execution_count": 187,
   "metadata": {},
   "outputs": [
    {
     "name": "stdout",
     "output_type": "stream",
     "text": [
      "31313425614642731216253424352225221122237451351145161234337271142314154133521125373434413223413331273232124335124511166316135116243131333641572741212622361611524531217522256611241124422113422762626111233323623423163155521513223213331342312325137335463261622614224546311423516364511226326224166665613121622553552221222415263422226245626312211417222245122222255553112363313312162135321331331163131312264336416313616333332226162162623613433136611661177333\n"
     ]
    }
   ],
   "source": [
    "fi = getFi(D, record.seq)"
   ]
  },
  {
   "cell_type": "code",
   "execution_count": null,
   "metadata": {},
   "outputs": [],
   "source": []
  }
 ],
 "metadata": {
  "kernelspec": {
   "display_name": "Python deeplearning",
   "language": "python",
   "name": "myenv"
  },
  "language_info": {
   "codemirror_mode": {
    "name": "ipython",
    "version": 3
   },
   "file_extension": ".py",
   "mimetype": "text/x-python",
   "name": "python",
   "nbconvert_exporter": "python",
   "pygments_lexer": "ipython3",
   "version": "3.6.8"
  }
 },
 "nbformat": 4,
 "nbformat_minor": 2
}
