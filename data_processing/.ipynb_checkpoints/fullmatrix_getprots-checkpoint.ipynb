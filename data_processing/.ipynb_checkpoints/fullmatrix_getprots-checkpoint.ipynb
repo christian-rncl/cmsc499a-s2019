{
 "cells": [
  {
   "cell_type": "code",
   "execution_count": 1,
   "metadata": {},
   "outputs": [],
   "source": [
    "import pickle\n",
    "from make_matrix import *\n",
    "import pandas as pd\n",
    "import numpy as np\n",
    "import os"
   ]
  },
  {
   "cell_type": "code",
   "execution_count": 2,
   "metadata": {},
   "outputs": [
    {
     "data": {
      "text/plain": [
       "['make_matrix.py',\n",
       " 'utils.py',\n",
       " 'hepatitis_c_processing.ipynb',\n",
       " 'hepc_interactions_full.csv',\n",
       " 'getAllProts.ipynb',\n",
       " 'dataprocessing_playground.ipynb',\n",
       " 'ebola_interactions_full.csv',\n",
       " 'classes.pkl',\n",
       " 'influenza',\n",
       " 'ebola',\n",
       " 'influenza_a_processing-Copy1.ipynb',\n",
       " 'flustrains.txt',\n",
       " '.ipynb_checkpoints',\n",
       " 'flu_interactions_full.csv',\n",
       " 'D.pkl',\n",
       " 'hepc',\n",
       " '__pycache__',\n",
       " 'hepc.fasta',\n",
       " 'uniprots',\n",
       " 'ebola_processing.ipynb',\n",
       " 'conjoint_featurizer_playground.ipynb']"
      ]
     },
     "execution_count": 2,
     "metadata": {},
     "output_type": "execute_result"
    }
   ],
   "source": [
    "os.listdir()"
   ]
  },
  {
   "cell_type": "markdown",
   "metadata": {},
   "source": [
    "# make full matrix"
   ]
  },
  {
   "cell_type": "code",
   "execution_count": 3,
   "metadata": {},
   "outputs": [
    {
     "name": "stdout",
     "output_type": "stream",
     "text": [
      "Merging files....\n"
     ]
    }
   ],
   "source": [
    "df = read_interaction_csvs(['flu_interactions_full.csv', 'ebola_interactions_full.csv', 'hepc_interactions_full.csv'])"
   ]
  },
  {
   "cell_type": "code",
   "execution_count": 4,
   "metadata": {},
   "outputs": [],
   "source": [
    "df = mp_processpairs(df, mp_pairmatcher, retfn, 20)"
   ]
  },
  {
   "cell_type": "code",
   "execution_count": 5,
   "metadata": {},
   "outputs": [],
   "source": [
    "df.to_csv('full_train.csv')"
   ]
  },
  {
   "cell_type": "markdown",
   "metadata": {},
   "source": [
    "# get uniprots present and pickle"
   ]
  },
  {
   "cell_type": "code",
   "execution_count": 6,
   "metadata": {},
   "outputs": [],
   "source": [
    "virus_prots = df['virusUprot'].unique()\n",
    "human_prots = df['humanUprot'].unique()"
   ]
  },
  {
   "cell_type": "code",
   "execution_count": null,
   "metadata": {},
   "outputs": [],
   "source": [
    "with open('virus_uprots.pkl', 'wb') as vu:\n",
    "    pickle.dump(virus_prots, vu)\n",
    "    \n",
    "with open('human_uprots.pkl', 'wb') as hu:\n",
    "    pickle.dump(human_prots, hu)"
   ]
  }
 ],
 "metadata": {
  "kernelspec": {
   "display_name": "Python deeplearning",
   "language": "python",
   "name": "myenv"
  },
  "language_info": {
   "codemirror_mode": {
    "name": "ipython",
    "version": 3
   },
   "file_extension": ".py",
   "mimetype": "text/x-python",
   "name": "python",
   "nbconvert_exporter": "python",
   "pygments_lexer": "ipython3",
   "version": "3.6.8"
  }
 },
 "nbformat": 4,
 "nbformat_minor": 2
}
