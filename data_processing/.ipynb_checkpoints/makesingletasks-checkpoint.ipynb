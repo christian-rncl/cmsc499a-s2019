{
 "cells": [
  {
   "cell_type": "code",
   "execution_count": 1,
   "metadata": {},
   "outputs": [],
   "source": [
    "from make_matrix import *"
   ]
  },
  {
   "cell_type": "code",
   "execution_count": null,
   "metadata": {},
   "outputs": [],
   "source": [
    "flu = ['flu_interactions_full.csv']\n",
    "hepc = ['hepc_interactions_full.csv']\n",
    "ebola = ['ebola_interactions_full.csv']"
   ]
  },
  {
   "cell_type": "code",
   "execution_count": null,
   "metadata": {},
   "outputs": [],
   "source": [
    "df = read_interaction_csvs(flu)\n",
    "df = mp_processpairs(df, mp_pairmatcher, retfn, 5)\n",
    "df.to_csv('flu_train')"
   ]
  },
  {
   "cell_type": "code",
   "execution_count": null,
   "metadata": {},
   "outputs": [],
   "source": [
    "df = read_interaction_csvs(hepc)\n",
    "df = mp_processpairs(df, mp_pairmatcher, retfn, 5)\n",
    "df.to_csv('hepc_train')"
   ]
  },
  {
   "cell_type": "code",
   "execution_count": null,
   "metadata": {},
   "outputs": [],
   "source": [
    "df = read_interaction_csvs(ebola)\n",
    "df = mp_processpairs(df, mp_pairmatcher, retfn, 5)\n",
    "df.to_csv('ebola_train')"
   ]
  }
 ],
 "metadata": {
  "kernelspec": {
   "display_name": "Python deeplearning",
   "language": "python",
   "name": "myenv"
  },
  "language_info": {
   "codemirror_mode": {
    "name": "ipython",
    "version": 3
   },
   "file_extension": ".py",
   "mimetype": "text/x-python",
   "name": "python",
   "nbconvert_exporter": "python",
   "pygments_lexer": "ipython3",
   "version": "3.6.8"
  }
 },
 "nbformat": 4,
 "nbformat_minor": 2
}
