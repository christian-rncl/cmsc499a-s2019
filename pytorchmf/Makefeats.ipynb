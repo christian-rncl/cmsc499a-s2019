{
 "cells": [
  {
   "cell_type": "markdown",
   "metadata": {},
   "source": [
    "# Make conjoint features\n",
    "### Christian Roncal CMSC499A Dr. Leiserson \n",
    "\n",
    "### Todo: Make this a python script"
   ]
  },
  {
   "cell_type": "markdown",
   "metadata": {},
   "source": [
    "## Load data"
   ]
  },
  {
   "cell_type": "code",
   "execution_count": 1,
   "metadata": {},
   "outputs": [],
   "source": [
    "import pandas as pd"
   ]
  },
  {
   "cell_type": "code",
   "execution_count": 2,
   "metadata": {},
   "outputs": [],
   "source": [
    "flu = pd.read_csv('flu_train.csv')\n",
    "hepc = pd.read_csv('hepc_train.csv')\n",
    "ebola = pd.read_csv('ebola_train.csv')"
   ]
  },
  {
   "cell_type": "code",
   "execution_count": 4,
   "metadata": {},
   "outputs": [
    {
     "data": {
      "text/plain": [
       "'P03433 P03466 P03428 P03485 P08276 P03496 A4ZNP8 P31345 P03495 P03437 Q82506 Q9WPI5 P06821 P03431 P03468 P03508 P03452 Q67296 Q1K9E3 P06827 P69258 Q1K9E2 Q9DLK6 P69277 P15659 P03427 Q1K9I7 B2BUI7 B4UPA8 B4URA9 B2BUF1 I6TAG8 B4UPB3 B4UPB6 T2AAS6 B4UPB1 P04664 Q99AU3 O56264 Q6PNE5 Q0HD54 C3W5S7 D1LN35 Q8QPK2 Q5L4H4 Q1NZ49 C3W6D7 B2BU63 C9S3S8 Q6DPG0 Q91U50 Q8JR21 H9XIJ5 P03430 P05777 P03470 P05780 Q20MH0 P03454 P15682 Q1K9H5 Q89733 Q1K9H6 Q1I2B2 Q20MH3 Q6DPA0 Q6DP94 Q0A2H1 Q20MD0 Q20MD1 Q2PJP1 Q2PJP0 Q20MC8 Q6DP93 Q0A2H0 Q1K9H2 Q20MC6 Q20MH4 Q20MD2 A5Z256 Q6QT26 Q20MD4 Q20MD5 Q1K9G9 Q464B3 Q38SR2 Q20MC9 Q2RBU1 Q38SQ9 Q20NX5 Q30NB4 Q30NP4 Q6DNN3 B2BTY8 Q67020 Q5QF18 B4URF7 A4ZNR3 A8C8W5 B4URE7 Q20MH8 B4URF0 Q92900 Q99729 Q9Y224 P16403 Q96G97 P38919 Q5JVF3 Q14151 O43660 P18621 Q9UKM9 Q12906 Q92499 Q8WUD4 O60832 O75152 P39019 O75643 P51398 P41208 O75934 P62750 Q9NPA8 P46109 P63220 Q15717 P43243 Q9P013 Q7L2E3 P55265 Q9Y3I0 Q9NZI8 P35573 P42766 P14678 P51991 Q9UMS4 B4URF6 O43143 O60508 P26378 O43390 Q16629 Q14444 P31942 Q6P2Q9 Q13247 P61254 P09661 Q96I24 P38159 Q1KMD3 P0CB38 O00425 Q9UKV3 P14866 Q9UNP9 Q6PCB5 P08579 Q13573 O60506 P17844 O15226 Q9Y2W1 Q9Y6M1 P05455 Q14103 Q96DF8 Q6UN15 Q96EY8 Q96PV6 P36873 P62316 Q9ULR0 Q8NCA5 Q8TD84 I6T1Z2 A5A5U1 Q6DPW5 Q5EP37 Q5EP28 P0DOF5 P0DOF4 I6TAH8 P0C0U1 Q549M8 B0ZBD0 O95639 B2R7W3 A3RJH1 F8WC89 A3F769 Q194T2 C5E519 Q8JSN5 H8XZX4 F5CGM8 A4D8X6 Q6DPU2 P30910 P04663'"
      ]
     },
     "execution_count": 4,
     "metadata": {},
     "output_type": "execute_result"
    }
   ],
   "source": [
    "' '.join(flu['virusUprot'].unique())"
   ]
  },
  {
   "cell_type": "code",
   "execution_count": 1,
   "metadata": {},
   "outputs": [],
   "source": [
    "import numpy as np\n",
    "import pickle\n",
    "from Bio import SeqIO\n",
    "from Bio.Alphabet import ProteinAlphabet\n",
    "import json"
   ]
  },
  {
   "cell_type": "code",
   "execution_count": 2,
   "metadata": {},
   "outputs": [],
   "source": [
    "D = pickle.load(open('D.pkl', 'rb'))"
   ]
  },
  {
   "cell_type": "code",
   "execution_count": 3,
   "metadata": {},
   "outputs": [],
   "source": [
    "classes = dict.fromkeys(['A', 'G','V'], 1)\n",
    "classes.update(dict.fromkeys(['I', 'L', 'F', 'P'], 2))\n",
    "classes.update(dict.fromkeys(['Y', 'M', 'T', 'S'], 3))\n",
    "classes.update(dict.fromkeys(['H', 'N', 'Q', 'W'], 4))\n",
    "classes.update(dict.fromkeys(['R', 'K'], 5))\n",
    "classes.update(dict.fromkeys(['D', 'E'], 6))\n",
    "classes.update(dict.fromkeys(['C', 'U'], 7))"
   ]
  },
  {
   "cell_type": "code",
   "execution_count": 4,
   "metadata": {},
   "outputs": [],
   "source": [
    "def protToClass(p):\n",
    "    if p == 'X':\n",
    "        return '-1'\n",
    "    else:\n",
    "        return str(classes[p])\n",
    "\n",
    "def seqToClass(seq):\n",
    "    return ''.join(list(map(protToClass, seq)))\n",
    "\n",
    "def normalize(Fi):\n",
    "    return (Fi - min(Fi)) / max(Fi)\n",
    "\n",
    "def getFi(D, seq):\n",
    "    grptoi = {p:i for i,p in enumerate(D)} # group to index mappings\n",
    "    Fi = np.zeros(len(grptoi.values()))\n",
    "    \n",
    "    classSeq = seqToClass(seq)\n",
    "#     print(classSeq)\n",
    "    \n",
    "    for p in D:\n",
    "        Fi[grptoi[p]] += classSeq.count(''.join(p))\n",
    "\n",
    "    return normalize(Fi)"
   ]
  },
  {
   "cell_type": "code",
   "execution_count": 5,
   "metadata": {},
   "outputs": [],
   "source": [
    "def proteinize(records):\n",
    "    for r in records:\n",
    "        r.seq.Alphabet = ProteinAlphabet"
   ]
  },
  {
   "cell_type": "code",
   "execution_count": 6,
   "metadata": {},
   "outputs": [],
   "source": [
    "def makeF(records):\n",
    "    n = len(records)\n",
    "    \n",
    "    F = np.zeros((n, 2793 + 1))\n",
    "    uniprottoi = {}\n",
    "    itouniprot = {}\n",
    "    \n",
    "    \n",
    "    for i in range(n):\n",
    "        F[i,:] = np.append(getFi(D, records[i]), [1]) # add bias\n",
    "        virus_name = records[i].name.split('|')[1]\n",
    "        uniprottoi[virus_name] = i\n",
    "        itouniprot[i] = virus_name\n",
    "        \n",
    "    return F, uniprottoi, itouniprot"
   ]
  },
  {
   "cell_type": "code",
   "execution_count": 7,
   "metadata": {},
   "outputs": [],
   "source": [
    "virus_records = list(SeqIO.parse('virus_prots.fasta', 'fasta'))\n",
    "human_records = list(SeqIO.parse('human_prots.fasta', 'fasta'))"
   ]
  },
  {
   "cell_type": "code",
   "execution_count": 8,
   "metadata": {},
   "outputs": [],
   "source": [
    "proteinize(virus_records)"
   ]
  },
  {
   "cell_type": "code",
   "execution_count": 9,
   "metadata": {},
   "outputs": [
    {
     "name": "stdout",
     "output_type": "stream",
     "text": [
      "Q9WMX2\n"
     ]
    }
   ],
   "source": [
    "print(virus_records[0].name.split('|')[1]) # to get names of viruses"
   ]
  },
  {
   "cell_type": "code",
   "execution_count": 10,
   "metadata": {},
   "outputs": [],
   "source": [
    "vfeats, vtoi, itov = makeF(virus_records)"
   ]
  },
  {
   "cell_type": "code",
   "execution_count": 11,
   "metadata": {},
   "outputs": [
    {
     "data": {
      "text/plain": [
       "False"
      ]
     },
     "execution_count": 11,
     "metadata": {},
     "output_type": "execute_result"
    }
   ],
   "source": [
    "'B4UPB0' in vtoi.keys()"
   ]
  },
  {
   "cell_type": "code",
   "execution_count": 11,
   "metadata": {},
   "outputs": [],
   "source": [
    "np.savetxt('vfeats.txt', vfeats)"
   ]
  },
  {
   "cell_type": "code",
   "execution_count": 12,
   "metadata": {},
   "outputs": [],
   "source": [
    "with open('vtoi.json', 'w') as f:\n",
    "    json.dump(vtoi, f)\n",
    "    \n",
    "with open('itov.json', 'w') as f:\n",
    "    json.dump(itov, f)"
   ]
  },
  {
   "cell_type": "code",
   "execution_count": 13,
   "metadata": {},
   "outputs": [],
   "source": [
    "v = np.loadtxt('vfeats.txt')"
   ]
  },
  {
   "cell_type": "code",
   "execution_count": 14,
   "metadata": {},
   "outputs": [
    {
     "name": "stdout",
     "output_type": "stream",
     "text": [
      "(3302, 2794)\n"
     ]
    }
   ],
   "source": [
    "hfeats, htoi, itoh = makeF(human_records)"
   ]
  },
  {
   "cell_type": "code",
   "execution_count": 15,
   "metadata": {},
   "outputs": [],
   "source": [
    "with open('htoi.json', 'w') as f:\n",
    "    json.dump(htoi, f)\n",
    "    \n",
    "with open('itoh.json', 'w') as f:\n",
    "    json.dump(itoh, f)"
   ]
  },
  {
   "cell_type": "code",
   "execution_count": 16,
   "metadata": {},
   "outputs": [],
   "source": [
    "np.savetxt('hfeats.txt', hfeats)"
   ]
  },
  {
   "cell_type": "code",
   "execution_count": 17,
   "metadata": {},
   "outputs": [],
   "source": [
    "h = np.loadtxt('hfeats.txt')"
   ]
  },
  {
   "cell_type": "code",
   "execution_count": 18,
   "metadata": {},
   "outputs": [
    {
     "data": {
      "text/plain": [
       "(3302, 2794)"
      ]
     },
     "execution_count": 18,
     "metadata": {},
     "output_type": "execute_result"
    }
   ],
   "source": [
    "h.shape"
   ]
  }
 ],
 "metadata": {
  "kernelspec": {
   "display_name": "Python deeplearning",
   "language": "python",
   "name": "myenv"
  },
  "language_info": {
   "codemirror_mode": {
    "name": "ipython",
    "version": 3
   },
   "file_extension": ".py",
   "mimetype": "text/x-python",
   "name": "python",
   "nbconvert_exporter": "python",
   "pygments_lexer": "ipython3",
   "version": "3.6.8"
  }
 },
 "nbformat": 4,
 "nbformat_minor": 2
}
