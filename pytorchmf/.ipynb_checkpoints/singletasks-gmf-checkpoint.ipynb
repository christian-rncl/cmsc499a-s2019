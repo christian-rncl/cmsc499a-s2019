{
 "cells": [
  {
   "cell_type": "markdown",
   "metadata": {},
   "source": [
    "# Global settings"
   ]
  },
  {
   "cell_type": "code",
   "execution_count": 1,
   "metadata": {},
   "outputs": [],
   "source": [
    "device = 'cuda'\n",
    "bs = 64\n",
    "test_pct = .10\n",
    "val_pct = .60\n",
    "epochs = 2"
   ]
  },
  {
   "cell_type": "markdown",
   "metadata": {},
   "source": [
    "# Data proc"
   ]
  },
  {
   "cell_type": "code",
   "execution_count": 2,
   "metadata": {},
   "outputs": [],
   "source": [
    "import pandas as pd\n",
    "import numpy as np\n",
    "import torch\n",
    "import itertools\n",
    "from make_matrix import *\n",
    "from torch.utils.data import TensorDataset, DataLoader, Sampler\n",
    "import torch.nn as nn\n",
    "import torch.nn.functional as F"
   ]
  },
  {
   "cell_type": "code",
   "execution_count": 3,
   "metadata": {},
   "outputs": [],
   "source": [
    "fludf = pd.read_csv('flu_train.csv')"
   ]
  },
  {
   "cell_type": "code",
   "execution_count": 4,
   "metadata": {},
   "outputs": [
    {
     "data": {
      "text/html": [
       "<div>\n",
       "<style scoped>\n",
       "    .dataframe tbody tr th:only-of-type {\n",
       "        vertical-align: middle;\n",
       "    }\n",
       "\n",
       "    .dataframe tbody tr th {\n",
       "        vertical-align: top;\n",
       "    }\n",
       "\n",
       "    .dataframe thead th {\n",
       "        text-align: right;\n",
       "    }\n",
       "</style>\n",
       "<table border=\"1\" class=\"dataframe\">\n",
       "  <thead>\n",
       "    <tr style=\"text-align: right;\">\n",
       "      <th></th>\n",
       "      <th>Unnamed: 0</th>\n",
       "      <th>virusUprot</th>\n",
       "      <th>humanUprot</th>\n",
       "      <th>edge</th>\n",
       "    </tr>\n",
       "  </thead>\n",
       "  <tbody>\n",
       "    <tr>\n",
       "      <th>0</th>\n",
       "      <td>0</td>\n",
       "      <td>P03433</td>\n",
       "      <td>P49736</td>\n",
       "      <td>1.0</td>\n",
       "    </tr>\n",
       "    <tr>\n",
       "      <th>1</th>\n",
       "      <td>1</td>\n",
       "      <td>P03433</td>\n",
       "      <td>P15311</td>\n",
       "      <td>0.0</td>\n",
       "    </tr>\n",
       "    <tr>\n",
       "      <th>2</th>\n",
       "      <td>2</td>\n",
       "      <td>P03433</td>\n",
       "      <td>P11142</td>\n",
       "      <td>0.0</td>\n",
       "    </tr>\n",
       "    <tr>\n",
       "      <th>3</th>\n",
       "      <td>3</td>\n",
       "      <td>P03433</td>\n",
       "      <td>Q86U42</td>\n",
       "      <td>0.0</td>\n",
       "    </tr>\n",
       "    <tr>\n",
       "      <th>4</th>\n",
       "      <td>4</td>\n",
       "      <td>P03433</td>\n",
       "      <td>P33992</td>\n",
       "      <td>1.0</td>\n",
       "    </tr>\n",
       "  </tbody>\n",
       "</table>\n",
       "</div>"
      ],
      "text/plain": [
       "   Unnamed: 0 virusUprot humanUprot  edge\n",
       "0           0     P03433     P49736   1.0\n",
       "1           1     P03433     P15311   0.0\n",
       "2           2     P03433     P11142   0.0\n",
       "3           3     P03433     Q86U42   0.0\n",
       "4           4     P03433     P33992   1.0"
      ]
     },
     "execution_count": 4,
     "metadata": {},
     "output_type": "execute_result"
    }
   ],
   "source": [
    "fludf.head()"
   ]
  },
  {
   "cell_type": "markdown",
   "metadata": {},
   "source": [
    "### Numericalize proteins"
   ]
  },
  {
   "cell_type": "code",
   "execution_count": 5,
   "metadata": {},
   "outputs": [],
   "source": [
    "def numericalize(df):\n",
    "    vs = df['virusUprot'].unique()\n",
    "    hs = df['humanUprot'].unique()\n",
    "    vs_map = {v:i for i,v in enumerate(vs)}\n",
    "    hs_map = {h:i for i,h in enumerate(hs)}\n",
    "    \n",
    "    df.virusUprot = df.virusUprot.apply(lambda x : vs_map[x])\n",
    "    df.humanUprot = df.humanUprot.apply(lambda x : hs_map[x])\n",
    "    df = df.sample(frac=1).reset_index()\n",
    "    return df[['virusUprot', 'humanUprot', 'edge']], vs_map, hs_map"
   ]
  },
  {
   "cell_type": "code",
   "execution_count": 6,
   "metadata": {},
   "outputs": [
    {
     "data": {
      "text/html": [
       "<div>\n",
       "<style scoped>\n",
       "    .dataframe tbody tr th:only-of-type {\n",
       "        vertical-align: middle;\n",
       "    }\n",
       "\n",
       "    .dataframe tbody tr th {\n",
       "        vertical-align: top;\n",
       "    }\n",
       "\n",
       "    .dataframe thead th {\n",
       "        text-align: right;\n",
       "    }\n",
       "</style>\n",
       "<table border=\"1\" class=\"dataframe\">\n",
       "  <thead>\n",
       "    <tr style=\"text-align: right;\">\n",
       "      <th></th>\n",
       "      <th>virusUprot</th>\n",
       "      <th>humanUprot</th>\n",
       "      <th>edge</th>\n",
       "    </tr>\n",
       "  </thead>\n",
       "  <tbody>\n",
       "    <tr>\n",
       "      <th>0</th>\n",
       "      <td>56</td>\n",
       "      <td>1407</td>\n",
       "      <td>0.0</td>\n",
       "    </tr>\n",
       "    <tr>\n",
       "      <th>1</th>\n",
       "      <td>2</td>\n",
       "      <td>2298</td>\n",
       "      <td>0.0</td>\n",
       "    </tr>\n",
       "    <tr>\n",
       "      <th>2</th>\n",
       "      <td>51</td>\n",
       "      <td>534</td>\n",
       "      <td>0.0</td>\n",
       "    </tr>\n",
       "    <tr>\n",
       "      <th>3</th>\n",
       "      <td>109</td>\n",
       "      <td>245</td>\n",
       "      <td>0.0</td>\n",
       "    </tr>\n",
       "    <tr>\n",
       "      <th>4</th>\n",
       "      <td>53</td>\n",
       "      <td>876</td>\n",
       "      <td>1.0</td>\n",
       "    </tr>\n",
       "  </tbody>\n",
       "</table>\n",
       "</div>"
      ],
      "text/plain": [
       "   virusUprot  humanUprot  edge\n",
       "0          56        1407   0.0\n",
       "1           2        2298   0.0\n",
       "2          51         534   0.0\n",
       "3         109         245   0.0\n",
       "4          53         876   1.0"
      ]
     },
     "execution_count": 6,
     "metadata": {},
     "output_type": "execute_result"
    }
   ],
   "source": [
    "fludf, flu_vsmap, flu_hsmap = numericalize(fludf)\n",
    "fludf.head()"
   ]
  },
  {
   "cell_type": "code",
   "execution_count": null,
   "metadata": {},
   "outputs": [],
   "source": []
  },
  {
   "cell_type": "code",
   "execution_count": null,
   "metadata": {},
   "outputs": [],
   "source": []
  },
  {
   "cell_type": "markdown",
   "metadata": {},
   "source": [
    "### Make a dataloaders"
   ]
  },
  {
   "cell_type": "code",
   "execution_count": 11,
   "metadata": {},
   "outputs": [],
   "source": [
    "from sklearn.model_selection import train_test_split"
   ]
  },
  {
   "cell_type": "code",
   "execution_count": 12,
   "metadata": {},
   "outputs": [],
   "source": [
    "def arr_to_torch(arr, dtype):\n",
    "    t =  torch.from_numpy(np.array(arr)).type(dtype).to(device)\n",
    "    return t"
   ]
  },
  {
   "cell_type": "code",
   "execution_count": 13,
   "metadata": {},
   "outputs": [],
   "source": [
    "def getLoaders(df):\n",
    "    X = list(zip(df.virusUprot.values, df.humanUprot.values))\n",
    "    y = df['edge'].values\n",
    "    \n",
    "    X_train, X_test, y_train, y_test = train_test_split(X, y, test_size=test_pct, random_state=1)\n",
    "    X_train, X_val, y_train, y_val = train_test_split(X_train, y_train, test_size=val_pct, random_state=1)\n",
    "    \n",
    "    train_dset = TensorDataset(arr_to_torch(X_train, torch.long), arr_to_torch(y_train, torch.float32))\n",
    "    train_loader = DataLoader(train_dset, batch_size=bs, shuffle=True)\n",
    "    \n",
    "    val_dset = TensorDataset(arr_to_torch(X_val, torch.long), arr_to_torch(y_val, torch.float32))\n",
    "    val_loader = DataLoader(val_dset, batch_size=bs, shuffle=True)\n",
    "    \n",
    "    test_dset = TensorDataset(arr_to_torch(X_test, torch.long), arr_to_torch(y_test, torch.float32))\n",
    "    test_loader = DataLoader(test_dset, batch_size=bs, shuffle=True)\n",
    "    \n",
    "    return train_loader, val_loader, test_loader"
   ]
  },
  {
   "cell_type": "code",
   "execution_count": 14,
   "metadata": {},
   "outputs": [],
   "source": [
    "flutrain_loader, fluval_loader, flutest_loader = getLoaders(fludf)"
   ]
  },
  {
   "cell_type": "code",
   "execution_count": 15,
   "metadata": {},
   "outputs": [],
   "source": [
    "hepctrain_loader, hepcval_loader, hepctest_loader = getLoaders(hepcdf)"
   ]
  },
  {
   "cell_type": "code",
   "execution_count": 16,
   "metadata": {},
   "outputs": [],
   "source": [
    "ebolatrain_loader, ebolaval_loader, ebolatest_loader = getLoaders(eboladf)"
   ]
  },
  {
   "cell_type": "markdown",
   "metadata": {},
   "source": [
    "# Model"
   ]
  },
  {
   "cell_type": "code",
   "execution_count": 17,
   "metadata": {},
   "outputs": [],
   "source": [
    "def l2_regularize(array):\n",
    "    loss = torch.sum(array ** 2.0)\n",
    "    return loss"
   ]
  },
  {
   "cell_type": "code",
   "execution_count": 18,
   "metadata": {},
   "outputs": [],
   "source": [
    "class MF(nn.Module):\n",
    "    def __init__(self, n_virus, n_human, k=18, c_vector=1.0, c_bias=1.0, writer=None):\n",
    "        super(MF, self).__init__()\n",
    "        self.writer = writer\n",
    "        self.k = k\n",
    "        self.n_virus = n_virus\n",
    "        self.n_human = n_human\n",
    "        self.c_bias = c_bias\n",
    "        self.c_vector = c_vector\n",
    "        \n",
    "        self.virus = nn.Embedding(n_virus, k)\n",
    "        self.human = nn.Embedding(n_human, k)\n",
    "        \n",
    "        # We've added new terms here:\n",
    "        self.bias_virus = nn.Embedding(n_virus, 1)\n",
    "        self.bias_human = nn.Embedding(n_human, 1)\n",
    "        self.bias = nn.Parameter(torch.ones(1))\n",
    "    \n",
    "    def forward(self, train_x):\n",
    "        virus_id = train_x[:, 0]\n",
    "        human_id = train_x[:, 1]\n",
    "        vector_virus = self.virus(virus_id)\n",
    "        vector_human = self.human(human_id)\n",
    "        \n",
    "        # Pull out biases\n",
    "        bias_virus = self.bias_virus(virus_id).squeeze()\n",
    "        bias_human = self.bias_human(human_id).squeeze()\n",
    "        biases = (self.bias + bias_virus + bias_human)\n",
    "        \n",
    "        ui_interaction = torch.sum(vector_virus * vector_human, dim=1)\n",
    "        \n",
    "        prediction = ui_interaction + biases\n",
    "        return prediction\n",
    "    \n",
    "    def loss(self, prediction, target):\n",
    "#         loss_mse = F.binary_cross_entropy_with_logits(prediction, target.squeeze())\n",
    "        loss_mse = F.mse_loss(prediction, target.squeeze())\n",
    "    \n",
    "        # Add new regularization to the biases\n",
    "        prior_bias_virus =  l2_regularize(self.bias_virus.weight) * self.c_bias\n",
    "        prior_bias_human = l2_regularize(self.bias_human.weight) * self.c_bias\n",
    "        \n",
    "        prior_virus =  l2_regularize(self.virus.weight.data) * self.c_vector\n",
    "        prior_human = l2_regularize(self.human.weight.data) * self.c_vector\n",
    "        total = loss_mse + prior_virus + prior_human + prior_bias_virus + prior_bias_human\n",
    "        return total"
   ]
  },
  {
   "cell_type": "markdown",
   "metadata": {},
   "source": [
    "# Trainer"
   ]
  },
  {
   "cell_type": "code",
   "execution_count": 19,
   "metadata": {},
   "outputs": [],
   "source": [
    "from ignite.engine import Events, create_supervised_trainer, create_supervised_evaluator\n",
    "from ignite.metrics import Loss, Accuracy, Precision, Recall\n",
    "from tensorboardX import SummaryWriter\n",
    "from ignite.metrics import MeanSquaredError, Loss\n",
    "from ignite.contrib.metrics import AveragePrecision, ROC_AUC\n",
    "\n",
    "from datetime import datetime"
   ]
  },
  {
   "cell_type": "code",
   "execution_count": 26,
   "metadata": {},
   "outputs": [],
   "source": [
    "class Trainer:\n",
    "    \n",
    "    def __init__(self, model, crit, optim, writer, train_loader, val_loader, test_loader, modelname):\n",
    "        self.model = model\n",
    "        self.crit = crit\n",
    "        self.optim = optim\n",
    "        self.writer = writer\n",
    "        self.train_loader = train_loader\n",
    "        self.val_loader = val_loader\n",
    "        self.test_loader = test_loader\n",
    "        self.best_model = None\n",
    "        self.best_AP = -1.0\n",
    "        self.modelname = modelname\n",
    "        \n",
    "        self.trainer = create_supervised_trainer(model, optim, crit)\n",
    "        self.metrics = {'loss': Loss(crit), 'ap': AveragePrecision(), \"roc\": ROC_AUC()}\n",
    "        self.evaluator = create_supervised_evaluator(model, metrics=self.metrics)\n",
    "        \n",
    "        ## Add events\n",
    "        self.trainer.add_event_handler(event_name=Events.ITERATION_COMPLETED, handler=self.log_training_loss)\n",
    "        self.trainer.add_event_handler(event_name=Events.EPOCH_COMPLETED, handler=self.log_validation_results)\n",
    "        self.trainer.add_event_handler(event_name=Events.COMPLETED, handler=self.log_test_results)\n",
    "        \n",
    "        print(model)\n",
    "        \n",
    "    def log_training_loss(self, engine, log_interval=400):\n",
    "        epoch = engine.state.epoch\n",
    "        itr = engine.state.iteration\n",
    "        fmt = \"TRAIN: Epoch[{}] Iteration[{}/{}] Loss: {:.2f}\"\n",
    "        msg = fmt.format(epoch, itr, len(self.train_loader), engine.state.output)\n",
    "        self.model.itr = itr\n",
    "        if itr % log_interval == 0:\n",
    "            print(msg)\n",
    "#             self.evaluator.run(self.train_loader)\n",
    "            \n",
    "#             metrics = self.evaluator.state.metrics\n",
    "#             mse = metrics['loss']\n",
    "#             ap = metrics['ap']\n",
    "#             roc = metrics['roc']\n",
    "            \n",
    "#             print(\"Epoch[{}] Validation MSE: {:.2f} Avg Prec: {:.2f} ROC: {:.2f} \"\n",
    "#                   .format(engine.state.epoch, mse, ap, roc))\n",
    "            \n",
    "#             self.writer.add_scalar(\"training/mse\", mse, engine.state.epoch)\n",
    "#             self.writer.add_scalar(\"training/ap\", ap, engine.state.epoch)\n",
    "#             self.writer.add_scalar(\"training/roc\", roc, engine.state.epoch)\n",
    "            \n",
    "    def log_validation_results(self, engine):\n",
    "        self.evaluator.run(self.val_loader)\n",
    "        \n",
    "        metrics = self.evaluator.state.metrics\n",
    "        mse = metrics['loss']\n",
    "        ap = metrics['ap']\n",
    "        roc = metrics['roc']\n",
    "        \n",
    "        if ap > self.best_AP:\n",
    "            self.best_AP = ap\n",
    "            self.best_model = model.state_dict()\n",
    "        \n",
    "        print(\"VALIDATION Epoch[{}] Validation MSE: {:.2f} Avg Prec: {:.2f} ROC: {:.2f} \"\n",
    "              .format(engine.state.epoch, mse, ap, roc))\n",
    "        self.writer.add_scalar(\"validation/mse\", mse, engine.state.epoch)\n",
    "        self.writer.add_scalar(\"validation/ap\", ap, engine.state.epoch)\n",
    "        self.writer.add_scalar(\"validation/roc\", roc, engine.state.epoch)\n",
    "\n",
    "    def log_test_results(self, engine):\n",
    "        self.evaluator.run(self.test_loader)\n",
    "        \n",
    "        metrics = self.evaluator.state.metrics\n",
    "        mse = metrics['loss']\n",
    "        ap = metrics['ap']\n",
    "        roc = metrics['roc']\n",
    "\n",
    "        print(\"TEST: Epoch[{}] Validation MSE: {:.2f} Avg Prec: {:.2f} ROC: {:.2f}\"\n",
    "              .format(engine.state.epoch, mse, ap, roc))\n",
    "        \n",
    "        print(\"BEST AP: \", self.best_AP)\n",
    "        torch.save(self.best_model, './{}.pt'.format(self.modelname))\n",
    "        \n",
    "    def run(self, epochs):\n",
    "        self.trainer.run(self.train_loader, max_epochs=epochs)"
   ]
  },
  {
   "cell_type": "markdown",
   "metadata": {},
   "source": [
    "## Hyperparametrs"
   ]
  },
  {
   "cell_type": "code",
   "execution_count": 38,
   "metadata": {},
   "outputs": [],
   "source": [
    "lr = 1e-3\n",
    "k =20\n",
    "# regularizing bias\n",
    "c_bias = 1e-4\n",
    "c_vector = 1e-4\n",
    "batchsize = bs"
   ]
  },
  {
   "cell_type": "markdown",
   "metadata": {},
   "source": [
    "## Flu"
   ]
  },
  {
   "cell_type": "code",
   "execution_count": 28,
   "metadata": {},
   "outputs": [
    {
     "name": "stdout",
     "output_type": "stream",
     "text": [
      "runs/FLU_simple_mf_02_bias_2019-05-18_23:30:03.213090\n"
     ]
    }
   ],
   "source": [
    "log_dir = 'runs/FLU_simple_mf_02_bias_' + str(datetime.now()).replace(' ', '_')\n",
    "print(log_dir)"
   ]
  },
  {
   "cell_type": "code",
   "execution_count": 29,
   "metadata": {},
   "outputs": [],
   "source": [
    "writer = SummaryWriter(log_dir=log_dir)\n",
    "model = MF(len(flu_vsmap), len(flu_hsmap), writer=writer, k=k, c_bias=c_bias, c_vector=c_vector)\n",
    "crit = model.loss\n",
    "model.cuda()\n",
    "optim = torch.optim.Adam(model.parameters())"
   ]
  },
  {
   "cell_type": "code",
   "execution_count": 30,
   "metadata": {},
   "outputs": [
    {
     "name": "stdout",
     "output_type": "stream",
     "text": [
      "MF(\n",
      "  (virus): Embedding(203, 20)\n",
      "  (human): Embedding(2727, 20)\n",
      "  (bias_virus): Embedding(203, 1)\n",
      "  (bias_human): Embedding(2727, 1)\n",
      ")\n"
     ]
    }
   ],
   "source": [
    "flutrainer = Trainer(model, crit, optim, writer, flutrain_loader, fluval_loader, flutrain_loader, 'flumodel')"
   ]
  },
  {
   "cell_type": "code",
   "execution_count": 33,
   "metadata": {},
   "outputs": [
    {
     "name": "stdout",
     "output_type": "stream",
     "text": [
      "TRAIN: Epoch[1] Iteration[400/3114] Loss: 3.48\n",
      "TRAIN: Epoch[1] Iteration[800/3114] Loss: 3.48\n",
      "TRAIN: Epoch[1] Iteration[1200/3114] Loss: 3.46\n",
      "TRAIN: Epoch[1] Iteration[1600/3114] Loss: 3.46\n",
      "TRAIN: Epoch[1] Iteration[2000/3114] Loss: 3.45\n",
      "TRAIN: Epoch[1] Iteration[2400/3114] Loss: 3.44\n",
      "TRAIN: Epoch[1] Iteration[2800/3114] Loss: 3.42\n",
      "VALIDATION Epoch[1] Validation MSE: 3.42 Avg Prec: 0.16 ROC: 0.85 \n",
      "TRAIN: Epoch[2] Iteration[3200/3114] Loss: 3.43\n",
      "TRAIN: Epoch[2] Iteration[3600/3114] Loss: 3.41\n",
      "TRAIN: Epoch[2] Iteration[4000/3114] Loss: 3.38\n",
      "TRAIN: Epoch[2] Iteration[4400/3114] Loss: 3.38\n",
      "TRAIN: Epoch[2] Iteration[4800/3114] Loss: 3.40\n",
      "TRAIN: Epoch[2] Iteration[5200/3114] Loss: 3.36\n",
      "TRAIN: Epoch[2] Iteration[5600/3114] Loss: 3.34\n",
      "TRAIN: Epoch[2] Iteration[6000/3114] Loss: 3.31\n"
     ]
    },
    {
     "name": "stderr",
     "output_type": "stream",
     "text": [
      "/home/roncal/.conda/envs/deeplearning/lib/python3.6/site-packages/sklearn/metrics/ranking.py:526: RuntimeWarning: invalid value encountered in true_divide\n",
      "  recall = tps / tps[-1]\n",
      "/home/roncal/.conda/envs/deeplearning/lib/python3.6/site-packages/ignite/metrics/epoch_metric.py:76: RuntimeWarning: Probably, there can be a problem with `compute_fn`:\n",
      " Only one class present in y_true. ROC AUC score is not defined in that case.\n",
      "  RuntimeWarning)\n"
     ]
    },
    {
     "name": "stdout",
     "output_type": "stream",
     "text": [
      "VALIDATION Epoch[2] Validation MSE: 3.32 Avg Prec: 0.18 ROC: 0.85 \n"
     ]
    },
    {
     "name": "stderr",
     "output_type": "stream",
     "text": [
      "/home/roncal/.conda/envs/deeplearning/lib/python3.6/site-packages/sklearn/metrics/ranking.py:526: RuntimeWarning: invalid value encountered in true_divide\n",
      "  recall = tps / tps[-1]\n",
      "/home/roncal/.conda/envs/deeplearning/lib/python3.6/site-packages/ignite/metrics/epoch_metric.py:76: RuntimeWarning: Probably, there can be a problem with `compute_fn`:\n",
      " Only one class present in y_true. ROC AUC score is not defined in that case.\n",
      "  RuntimeWarning)\n"
     ]
    },
    {
     "name": "stdout",
     "output_type": "stream",
     "text": [
      "TEST: Epoch[2] Validation MSE: 3.32 Avg Prec: 0.37 ROC: 0.92\n",
      "BEST AP:  0.1808188976460829\n"
     ]
    }
   ],
   "source": [
    "flutrainer.run(2)"
   ]
  },
  {
   "cell_type": "markdown",
   "metadata": {},
   "source": [
    "## Hepc"
   ]
  },
  {
   "cell_type": "code",
   "execution_count": 39,
   "metadata": {},
   "outputs": [
    {
     "name": "stdout",
     "output_type": "stream",
     "text": [
      "runs/HEPC_simple_mf_02_bias_2019-05-18_23:33:24.186835\n"
     ]
    }
   ],
   "source": [
    "# Hyperparameters\n",
    "log_dir = 'runs/HEPC_simple_mf_02_bias_' + str(datetime.now()).replace(' ', '_')\n",
    "print(log_dir)"
   ]
  },
  {
   "cell_type": "code",
   "execution_count": 40,
   "metadata": {},
   "outputs": [],
   "source": [
    "writer = SummaryWriter(log_dir=log_dir)\n",
    "model = MF(len(hepc_vsmap), len(hepc_hsmap), writer=writer, k=k, c_bias=c_bias, c_vector=c_vector)\n",
    "crit = model.loss\n",
    "model.cuda()\n",
    "optim = torch.optim.Adam(model.parameters())"
   ]
  },
  {
   "cell_type": "code",
   "execution_count": 41,
   "metadata": {},
   "outputs": [
    {
     "name": "stdout",
     "output_type": "stream",
     "text": [
      "MF(\n",
      "  (virus): Embedding(174, 20)\n",
      "  (human): Embedding(1002, 20)\n",
      "  (bias_virus): Embedding(174, 1)\n",
      "  (bias_human): Embedding(1002, 1)\n",
      ")\n"
     ]
    }
   ],
   "source": [
    "hepctrainer = Trainer(model, crit, optim, writer, hepctrain_loader, hepcval_loader, hepctrain_loader, 'hepcmodel')"
   ]
  },
  {
   "cell_type": "code",
   "execution_count": 42,
   "metadata": {},
   "outputs": [
    {
     "name": "stdout",
     "output_type": "stream",
     "text": [
      "TRAIN: Epoch[1] Iteration[400/981] Loss: 17.08\n",
      "TRAIN: Epoch[1] Iteration[800/981] Loss: 12.33\n"
     ]
    },
    {
     "name": "stderr",
     "output_type": "stream",
     "text": [
      "/home/roncal/.conda/envs/deeplearning/lib/python3.6/site-packages/sklearn/metrics/ranking.py:526: RuntimeWarning: invalid value encountered in true_divide\n",
      "  recall = tps / tps[-1]\n",
      "/home/roncal/.conda/envs/deeplearning/lib/python3.6/site-packages/ignite/metrics/epoch_metric.py:76: RuntimeWarning: Probably, there can be a problem with `compute_fn`:\n",
      " Only one class present in y_true. ROC AUC score is not defined in that case.\n",
      "  RuntimeWarning)\n"
     ]
    },
    {
     "name": "stdout",
     "output_type": "stream",
     "text": [
      "VALIDATION Epoch[1] Validation MSE: 17.95 Avg Prec: 0.01 ROC: 0.50 \n",
      "TRAIN: Epoch[2] Iteration[1200/981] Loss: 14.16\n",
      "TRAIN: Epoch[2] Iteration[1600/981] Loss: 12.07\n"
     ]
    },
    {
     "name": "stderr",
     "output_type": "stream",
     "text": [
      "/home/roncal/.conda/envs/deeplearning/lib/python3.6/site-packages/sklearn/metrics/ranking.py:526: RuntimeWarning: invalid value encountered in true_divide\n",
      "  recall = tps / tps[-1]\n",
      "/home/roncal/.conda/envs/deeplearning/lib/python3.6/site-packages/ignite/metrics/epoch_metric.py:76: RuntimeWarning: Probably, there can be a problem with `compute_fn`:\n",
      " Only one class present in y_true. ROC AUC score is not defined in that case.\n",
      "  RuntimeWarning)\n"
     ]
    },
    {
     "name": "stdout",
     "output_type": "stream",
     "text": [
      "VALIDATION Epoch[2] Validation MSE: 13.65 Avg Prec: 0.01 ROC: 0.50 \n",
      "TEST: Epoch[2] Validation MSE: 12.88 Avg Prec: 0.01 ROC: 0.51\n",
      "BEST AP:  0.012158489177327269\n"
     ]
    }
   ],
   "source": [
    "hepctrainer.run(epochs)"
   ]
  },
  {
   "cell_type": "markdown",
   "metadata": {},
   "source": [
    "# Ebola"
   ]
  },
  {
   "cell_type": "code",
   "execution_count": 43,
   "metadata": {},
   "outputs": [
    {
     "name": "stdout",
     "output_type": "stream",
     "text": [
      "runs/EBOLA_simple_mf_02_bias_2019-05-18_23:33:37.565642\n"
     ]
    }
   ],
   "source": [
    "# Hyperparameters\n",
    "log_dir = 'runs/EBOLA_simple_mf_02_bias_' + str(datetime.now()).replace(' ', '_')\n",
    "print(log_dir)"
   ]
  },
  {
   "cell_type": "code",
   "execution_count": 44,
   "metadata": {},
   "outputs": [],
   "source": [
    "writer = SummaryWriter(log_dir=log_dir)\n",
    "model = MF(len(ebola_vsmap), len(ebola_hsmap), writer=writer, k=k, c_bias=c_bias, c_vector=c_vector)\n",
    "crit = model.loss\n",
    "model.cuda()\n",
    "optim = torch.optim.Adam(model.parameters())"
   ]
  },
  {
   "cell_type": "code",
   "execution_count": 45,
   "metadata": {},
   "outputs": [
    {
     "name": "stdout",
     "output_type": "stream",
     "text": [
      "MF(\n",
      "  (virus): Embedding(7, 20)\n",
      "  (human): Embedding(151, 20)\n",
      "  (bias_virus): Embedding(7, 1)\n",
      "  (bias_human): Embedding(151, 1)\n",
      ")\n"
     ]
    }
   ],
   "source": [
    "ebolatrainer = Trainer(model, crit, optim, writer, ebolatrain_loader, ebolaval_loader, ebolatest_loader, 'ebolamodel')"
   ]
  },
  {
   "cell_type": "code",
   "execution_count": 46,
   "metadata": {},
   "outputs": [
    {
     "name": "stdout",
     "output_type": "stream",
     "text": [
      "VALIDATION Epoch[1] Validation MSE: 24.54 Avg Prec: 0.20 ROC: 0.52 \n",
      "VALIDATION Epoch[2] Validation MSE: 24.39 Avg Prec: 0.20 ROC: 0.52 \n",
      "TEST: Epoch[2] Validation MSE: 24.79 Avg Prec: 0.22 ROC: 0.51\n",
      "BEST AP:  0.19557238544981628\n"
     ]
    }
   ],
   "source": [
    "ebolatrainer.run(epochs)"
   ]
  },
  {
   "cell_type": "code",
   "execution_count": null,
   "metadata": {},
   "outputs": [],
   "source": []
  }
 ],
 "metadata": {
  "kernelspec": {
   "display_name": "Python deeplearning",
   "language": "python",
   "name": "myenv"
  },
  "language_info": {
   "codemirror_mode": {
    "name": "ipython",
    "version": 3
   },
   "file_extension": ".py",
   "mimetype": "text/x-python",
   "name": "python",
   "nbconvert_exporter": "python",
   "pygments_lexer": "ipython3",
   "version": "3.6.8"
  }
 },
 "nbformat": 4,
 "nbformat_minor": 2
}
