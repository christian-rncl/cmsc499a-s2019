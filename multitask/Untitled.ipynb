{
 "cells": [
  {
   "cell_type": "code",
   "execution_count": 1,
   "metadata": {},
   "outputs": [],
   "source": [
    "import networkx as nx"
   ]
  },
  {
   "cell_type": "code",
   "execution_count": 25,
   "metadata": {},
   "outputs": [],
   "source": [
    "G = nx.bipartite.random_graph(3,3,1.0)"
   ]
  },
  {
   "cell_type": "code",
   "execution_count": 26,
   "metadata": {},
   "outputs": [],
   "source": [
    "observed = list(G.edges())"
   ]
  },
  {
   "cell_type": "code",
   "execution_count": 27,
   "metadata": {},
   "outputs": [
    {
     "data": {
      "text/plain": [
       "[(0, 3), (0, 4), (0, 5), (1, 3), (1, 4), (1, 5), (2, 3), (2, 4), (2, 5)]"
      ]
     },
     "execution_count": 27,
     "metadata": {},
     "output_type": "execute_result"
    }
   ],
   "source": [
    "observed"
   ]
  },
  {
   "cell_type": "code",
   "execution_count": 28,
   "metadata": {},
   "outputs": [],
   "source": [
    "nodes = list(G.nodes())"
   ]
  },
  {
   "cell_type": "code",
   "execution_count": 29,
   "metadata": {},
   "outputs": [
    {
     "data": {
      "text/plain": [
       "[0, 1, 2, 3, 4, 5]"
      ]
     },
     "execution_count": 29,
     "metadata": {},
     "output_type": "execute_result"
    }
   ],
   "source": [
    "nodes"
   ]
  },
  {
   "cell_type": "code",
   "execution_count": 30,
   "metadata": {},
   "outputs": [
    {
     "name": "stdout",
     "output_type": "stream",
     "text": [
      "(0, 1)\n",
      "False\n",
      "(0, 2)\n",
      "False\n",
      "(0, 3)\n",
      "True\n",
      "(0, 4)\n",
      "True\n",
      "(0, 5)\n",
      "True\n",
      "(1, 0)\n",
      "False\n",
      "(1, 2)\n",
      "False\n",
      "(1, 3)\n",
      "True\n",
      "(1, 4)\n",
      "True\n",
      "(1, 5)\n",
      "True\n",
      "(2, 0)\n",
      "False\n",
      "(2, 1)\n",
      "False\n",
      "(2, 3)\n",
      "True\n",
      "(2, 4)\n",
      "True\n",
      "(2, 5)\n",
      "True\n",
      "(3, 0)\n",
      "False\n",
      "(3, 1)\n",
      "False\n",
      "(3, 2)\n",
      "False\n",
      "(3, 4)\n",
      "False\n",
      "(3, 5)\n",
      "False\n",
      "(4, 0)\n",
      "False\n",
      "(4, 1)\n",
      "False\n",
      "(4, 2)\n",
      "False\n",
      "(4, 3)\n",
      "False\n",
      "(4, 5)\n",
      "False\n",
      "(5, 0)\n",
      "False\n",
      "(5, 1)\n",
      "False\n",
      "(5, 2)\n",
      "False\n",
      "(5, 3)\n",
      "False\n",
      "(5, 4)\n",
      "False\n"
     ]
    }
   ],
   "source": [
    "for i in range(len(nodes)):\n",
    "    for j in range(len(nodes)):\n",
    "        if i != j:\n",
    "            print((i, j))\n",
    "            print((i, j) in observed)"
   ]
  },
  {
   "cell_type": "code",
   "execution_count": null,
   "metadata": {},
   "outputs": [],
   "source": []
  },
  {
   "cell_type": "code",
   "execution_count": null,
   "metadata": {},
   "outputs": [],
   "source": []
  }
 ],
 "metadata": {
  "kernelspec": {
   "display_name": "Python deeplearning",
   "language": "python",
   "name": "myenv"
  },
  "language_info": {
   "codemirror_mode": {
    "name": "ipython",
    "version": 3
   },
   "file_extension": ".py",
   "mimetype": "text/x-python",
   "name": "python",
   "nbconvert_exporter": "python",
   "pygments_lexer": "ipython3",
   "version": "3.6.8"
  }
 },
 "nbformat": 4,
 "nbformat_minor": 2
}
