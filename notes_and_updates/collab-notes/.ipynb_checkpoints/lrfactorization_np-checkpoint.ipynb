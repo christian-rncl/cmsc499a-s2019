{
 "cells": [
  {
   "cell_type": "code",
   "execution_count": 23,
   "metadata": {},
   "outputs": [],
   "source": [
    "import numpy as np\n",
    "class MatrixFactorization():\n",
    "    \n",
    "    def __init__(self, n_R, n_C, K, reg, alpha):\n",
    "        '''\n",
    "        n_R: number of rows\n",
    "        n_C: number of cols\n",
    "        K: latent factors dimensionality\n",
    "        reg: regularization strength\n",
    "        alpha: learning rate\n",
    "        '''\n",
    "        self.R = np.random.randn(n_R, K)\n",
    "        self.C = np.random.randn(n_C, K)\n",
    "        self.R_bias = np.zeros(n_R)\n",
    "        self.C_bias = np.zeros(n_C)\n",
    "        self.reg = reg\n",
    "        self.alpha = alpha\n",
    "    \n",
    "    def forward(self):\n",
    "        return self.R.dot(self.C.T) + (self.R_bias[:,np.newaxis] + self.C_bias[np.newaxis:,])\n",
    "    \n",
    "    def backward(self, loss):\n",
    "        self.R += \n",
    "\n",
    "class mse_optimize():\n",
    "    \n",
    "    def __init__(self, lr):\n",
    "        self.lr = lr\n",
    "    \n",
    "    def mse_loss(self, y, y_hat):\n",
    "        return np.sqrt((y - y_hat)**2)\n",
    "        \n",
    "    def step(self, y, y_hat):\n",
    "        loss = self.mse_loss(y, y_hat)\n",
    "        "
   ]
  },
  {
   "cell_type": "code",
   "execution_count": 24,
   "metadata": {},
   "outputs": [],
   "source": [
    "R = np.array([\n",
    "    [5, 3, 0, 1],\n",
    "    [4, 0, 0, 1],\n",
    "    [1, 1, 0, 5],\n",
    "    [1, 0, 0, 4],\n",
    "    [0, 1, 5, 4],\n",
    "])\n",
    "\n",
    "model = MatrixFactorization(R.shape[0], R.shape[1], 3)"
   ]
  },
  {
   "cell_type": "code",
   "execution_count": 25,
   "metadata": {},
   "outputs": [
    {
     "data": {
      "text/plain": [
       "array([[-0.0224705 ,  1.02994922, -1.01690852,  0.69490186],\n",
       "       [ 0.51050657, -0.91268411,  3.98543638, -3.14324164],\n",
       "       [ 0.45303921,  4.05313359, -2.60457112, -0.77333741],\n",
       "       [-0.27014176, -4.57904061, -0.17147797, -2.03007948],\n",
       "       [-0.1495877 , -2.30512701, -0.00654714, -0.89275697]])"
      ]
     },
     "execution_count": 25,
     "metadata": {},
     "output_type": "execute_result"
    }
   ],
   "source": [
    "model.forward()"
   ]
  },
  {
   "cell_type": "code",
   "execution_count": 6,
   "metadata": {},
   "outputs": [
    {
     "data": {
      "text/plain": [
       "array([[4.98596018, 2.99711346, 4.39830552, 1.01492312],\n",
       "       [3.99446289, 1.38017911, 4.1498504 , 1.00933516],\n",
       "       [1.00897503, 1.00641636, 2.9884083 , 4.98404237],\n",
       "       [1.01072983, 1.08512512, 2.51156077, 3.99398914],\n",
       "       [3.35541058, 1.01706263, 4.9870571 , 3.99146628]])"
      ]
     },
     "execution_count": 6,
     "metadata": {},
     "output_type": "execute_result"
    }
   ],
   "source": [
    "mf.full_matrix()"
   ]
  },
  {
   "cell_type": "code",
   "execution_count": null,
   "metadata": {},
   "outputs": [],
   "source": []
  }
 ],
 "metadata": {
  "kernelspec": {
   "display_name": "Python 3",
   "language": "python",
   "name": "python3"
  },
  "language_info": {
   "codemirror_mode": {
    "name": "ipython",
    "version": 3
   },
   "file_extension": ".py",
   "mimetype": "text/x-python",
   "name": "python",
   "nbconvert_exporter": "python",
   "pygments_lexer": "ipython3",
   "version": "3.7.1"
  }
 },
 "nbformat": 4,
 "nbformat_minor": 2
}
