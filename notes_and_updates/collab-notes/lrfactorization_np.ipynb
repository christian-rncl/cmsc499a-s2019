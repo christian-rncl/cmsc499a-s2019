{
 "cells": [
  {
   "cell_type": "code",
   "execution_count": 111,
   "metadata": {},
   "outputs": [],
   "source": [
    "import numpy as np\n",
    "class LowRankFactorization():\n",
    "    \n",
    "    def __init__(self, n_R, n_C, K, alpha, reg):\n",
    "        '''\n",
    "        n_R: number of rows\n",
    "        n_C: number of cols\n",
    "        K: latent factors dimensionality\n",
    "        reg: regularization strength\n",
    "        alpha: learning rate\n",
    "        '''\n",
    "        self.R = np.random.randn(n_R, K) / K\n",
    "        self.C = np.random.randn(n_C, K) / K\n",
    "        self.R_bias = np.zeros(n_R)\n",
    "        self.C_bias = np.zeros(n_C)\n",
    "        self.reg = reg\n",
    "        self.alpha = alpha\n",
    "        self.F = None\n",
    "    \n",
    "    def forward(self):\n",
    "        self.F = self.R.dot(self.C.T) + (self.R_bias[:,np.newaxis] + self.C_bias[np.newaxis:,])\n",
    "        return np.copy(self.F)\n",
    "    \n",
    "    def mse_loss(self, y, y_hat):\n",
    "        return np.sqrt((y - y_hat)**2)\n",
    "    \n",
    "    def backward(self, M):\n",
    "        Z = np.argwhere(M > 0)\n",
    "        \n",
    "        # sgd\n",
    "        for i, j in Z:\n",
    "            loss = M[i, j] - self.F[i, j]\n",
    "            self.R_bias[i] += self.alpha * (loss - self.reg * self.R_bias[i])\n",
    "            self.C_bias[j] += self.alpha * (loss - self.reg * self.C_bias[j])\n",
    "            \n",
    "            self.R[i, :] += self.alpha * (loss * self.C[j, :] - self.reg * self.R[i, :])\n",
    "            self.C[j, :] += self.alpha * (loss * self.R[i, :] - self.reg * self.C[j, :])"
   ]
  },
  {
   "cell_type": "code",
   "execution_count": 112,
   "metadata": {},
   "outputs": [],
   "source": [
    "R = np.random.randint(5, size=(10,10))"
   ]
  },
  {
   "cell_type": "code",
   "execution_count": 114,
   "metadata": {},
   "outputs": [
    {
     "name": "stdout",
     "output_type": "stream",
     "text": [
      "real: \n",
      "[[3 1 3 4 3 3 4 3 1 0]\n",
      " [4 1 4 1 1 2 4 0 3 0]\n",
      " [1 2 4 3 4 2 4 3 0 0]\n",
      " [4 3 2 0 1 0 1 0 4 4]\n",
      " [3 3 3 4 3 0 2 4 0 1]\n",
      " [1 3 3 2 3 4 2 3 0 2]\n",
      " [0 0 1 4 1 4 0 4 3 1]\n",
      " [3 0 0 4 0 4 0 4 2 2]\n",
      " [4 4 3 3 2 1 2 3 4 2]\n",
      " [1 2 3 1 4 4 3 4 4 4]]\n",
      "pred: \n",
      "[[ 3.017  0.749  3.159  3.724  2.189  3.368  4.074  3.239  1.457  3.513]\n",
      " [ 3.736  1.312  3.683  1.626  2.049  1.057  3.998  1.883  2.508  5.258]\n",
      " [ 1.748  1.807  3.815  1.89   3.62   3.131  3.835  3.138  3.497  4.707]\n",
      " [ 3.868  2.964  2.395 -1.07   0.692 -2.172  1.099  0.076  4.121  3.844]\n",
      " [ 2.816  3.291  2.509  4.03   2.654  4.044  2.159  4.208  3.719  1.346]\n",
      " [ 0.997  2.834  2.62   2.12   3.284  3.53   1.941  3.539  4.14   2.142]\n",
      " [ 2.624  2.499  1.759  4.05   1.717  3.62   1.644  3.738  2.633  0.39 ]\n",
      " [ 2.872  1.639  2.648  4.255  2.199  3.939  3.162  3.797  2.057  2.093]\n",
      " [ 4.317  3.817  2.609  2.696  1.76   1.63   1.832  2.874  4.197  2.261]\n",
      " [ 0.576  2.172  3.457  1.615  4.037  3.683  3.094  3.444  4.049  3.855]]\n"
     ]
    }
   ],
   "source": [
    "model = LowRankFactorization(R.shape[0], R.shape[1], 3, .01, .001)\n",
    "epochs = 420\n",
    "\n",
    "for e in range(epochs):\n",
    "    model.forward()\n",
    "    model.backward(R)\n",
    "\n",
    "print(\"real: \")\n",
    "#print_matrix(R)\n",
    "print(R)\n",
    "print(\"pred: \")\n",
    "print(np.around(model.forward(), decimals=3))"
   ]
  },
  {
   "cell_type": "code",
   "execution_count": null,
   "metadata": {},
   "outputs": [],
   "source": []
  },
  {
   "cell_type": "code",
   "execution_count": null,
   "metadata": {},
   "outputs": [],
   "source": []
  }
 ],
 "metadata": {
  "kernelspec": {
   "display_name": "Python 3",
   "language": "python",
   "name": "python3"
  },
  "language_info": {
   "codemirror_mode": {
    "name": "ipython",
    "version": 3
   },
   "file_extension": ".py",
   "mimetype": "text/x-python",
   "name": "python",
   "nbconvert_exporter": "python",
   "pygments_lexer": "ipython3",
   "version": "3.7.1"
  }
 },
 "nbformat": 4,
 "nbformat_minor": 2
}
