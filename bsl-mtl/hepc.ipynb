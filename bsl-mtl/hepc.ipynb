{
 "cells": [
  {
   "cell_type": "code",
   "execution_count": 1,
   "metadata": {},
   "outputs": [],
   "source": [
    "import os\n",
    "import pandas as pd\n",
    "import numpy as np"
   ]
  },
  {
   "cell_type": "code",
   "execution_count": 2,
   "metadata": {},
   "outputs": [],
   "source": [
    "hepc = pd.read_csv('hepc.csv')"
   ]
  },
  {
   "cell_type": "code",
   "execution_count": 3,
   "metadata": {},
   "outputs": [
    {
     "data": {
      "text/html": [
       "<div>\n",
       "<style scoped>\n",
       "    .dataframe tbody tr th:only-of-type {\n",
       "        vertical-align: middle;\n",
       "    }\n",
       "\n",
       "    .dataframe tbody tr th {\n",
       "        vertical-align: top;\n",
       "    }\n",
       "\n",
       "    .dataframe thead th {\n",
       "        text-align: right;\n",
       "    }\n",
       "</style>\n",
       "<table border=\"1\" class=\"dataframe\">\n",
       "  <thead>\n",
       "    <tr style=\"text-align: right;\">\n",
       "      <th></th>\n",
       "      <th>Pathogen</th>\n",
       "      <th>Taxonomy</th>\n",
       "      <th>Uniprot</th>\n",
       "      <th>PathogenProtein</th>\n",
       "      <th>UniprotID</th>\n",
       "      <th>HumanProtein</th>\n",
       "      <th>Experimental Method</th>\n",
       "      <th>Pubmed ID</th>\n",
       "    </tr>\n",
       "  </thead>\n",
       "  <tbody>\n",
       "    <tr>\n",
       "      <th>0</th>\n",
       "      <td>Human papillomavirus TYPE 16 (HPV 16)</td>\n",
       "      <td>333760</td>\n",
       "      <td>P03129</td>\n",
       "      <td>VE7_HPV16</td>\n",
       "      <td>Q14978</td>\n",
       "      <td>NOLC1_HUMAN</td>\n",
       "      <td>affinity chromatography technology</td>\n",
       "      <td>16061792</td>\n",
       "    </tr>\n",
       "    <tr>\n",
       "      <th>1</th>\n",
       "      <td>Hepatitis C virus</td>\n",
       "      <td>11103</td>\n",
       "      <td>O39474</td>\n",
       "      <td>O39474_9HEPC</td>\n",
       "      <td>Q07812</td>\n",
       "      <td>BAX_HUMAN</td>\n",
       "      <td>anti bait coimmunoprecipitation</td>\n",
       "      <td>12925958</td>\n",
       "    </tr>\n",
       "    <tr>\n",
       "      <th>2</th>\n",
       "      <td>Hepatitis C virus</td>\n",
       "      <td>11103</td>\n",
       "      <td>O39474</td>\n",
       "      <td>O39474_9HEPC</td>\n",
       "      <td>P62993</td>\n",
       "      <td>GRB2_HUMAN</td>\n",
       "      <td>anti bait coimmunoprecipitation</td>\n",
       "      <td>10318918</td>\n",
       "    </tr>\n",
       "    <tr>\n",
       "      <th>3</th>\n",
       "      <td>Hepatitis C virus</td>\n",
       "      <td>11103</td>\n",
       "      <td>O39474</td>\n",
       "      <td>O39474_9HEPC</td>\n",
       "      <td>P08631</td>\n",
       "      <td>HCK_HUMAN</td>\n",
       "      <td>anti bait coimmunoprecipitation</td>\n",
       "      <td>14993658</td>\n",
       "    </tr>\n",
       "    <tr>\n",
       "      <th>4</th>\n",
       "      <td>Hepatitis C virus</td>\n",
       "      <td>11103</td>\n",
       "      <td>O39474</td>\n",
       "      <td>O39474_9HEPC</td>\n",
       "      <td>P06239</td>\n",
       "      <td>LCK_HUMAN</td>\n",
       "      <td>anti bait coimmunoprecipitation</td>\n",
       "      <td>14993658</td>\n",
       "    </tr>\n",
       "  </tbody>\n",
       "</table>\n",
       "</div>"
      ],
      "text/plain": [
       "                                Pathogen  Taxonomy Uniprot PathogenProtein  \\\n",
       "0  Human papillomavirus TYPE 16 (HPV 16)    333760  P03129      VE7_HPV16    \n",
       "1                      Hepatitis C virus     11103  O39474   O39474_9HEPC    \n",
       "2                      Hepatitis C virus     11103  O39474   O39474_9HEPC    \n",
       "3                      Hepatitis C virus     11103  O39474   O39474_9HEPC    \n",
       "4                      Hepatitis C virus     11103  O39474   O39474_9HEPC    \n",
       "\n",
       "  UniprotID  HumanProtein                 Experimental Method  Pubmed ID  \n",
       "0    Q14978  NOLC1_HUMAN   affinity chromatography technology   16061792  \n",
       "1    Q07812    BAX_HUMAN      anti bait coimmunoprecipitation   12925958  \n",
       "2    P62993   GRB2_HUMAN      anti bait coimmunoprecipitation   10318918  \n",
       "3    P08631    HCK_HUMAN      anti bait coimmunoprecipitation   14993658  \n",
       "4    P06239    LCK_HUMAN      anti bait coimmunoprecipitation   14993658  "
      ]
     },
     "execution_count": 3,
     "metadata": {},
     "output_type": "execute_result"
    }
   ],
   "source": [
    "hepc.head()"
   ]
  },
  {
   "cell_type": "code",
   "execution_count": 12,
   "metadata": {},
   "outputs": [],
   "source": [
    "tax_103 = hepc.loc[hepc['Taxonomy'] == 11103]"
   ]
  },
  {
   "cell_type": "code",
   "execution_count": 13,
   "metadata": {},
   "outputs": [],
   "source": [
    "tax_108 = hepc.loc[hepc['Taxonomy'] == 11108]"
   ]
  },
  {
   "cell_type": "code",
   "execution_count": 14,
   "metadata": {},
   "outputs": [],
   "source": [
    "hepc_proteins = pd.concat([tax_103, tax_108])"
   ]
  },
  {
   "cell_type": "code",
   "execution_count": 17,
   "metadata": {},
   "outputs": [],
   "source": [
    "hepc_proteins = hepc[['PathogenProtein', 'HumanProtein']]"
   ]
  },
  {
   "cell_type": "code",
   "execution_count": 113,
   "metadata": {},
   "outputs": [],
   "source": [
    "pathogens = hepc['PathogenProtein'].unique()"
   ]
  },
  {
   "cell_type": "code",
   "execution_count": 114,
   "metadata": {},
   "outputs": [],
   "source": [
    "humans = hepc['HumanProtein'].unique()"
   ]
  },
  {
   "cell_type": "code",
   "execution_count": 121,
   "metadata": {},
   "outputs": [
    {
     "name": "stdout",
     "output_type": "stream",
     "text": [
      "153 265\n"
     ]
    }
   ],
   "source": [
    "print(len(pathogens), len(humans))"
   ]
  },
  {
   "cell_type": "code",
   "execution_count": 122,
   "metadata": {},
   "outputs": [
    {
     "data": {
      "text/plain": [
       "1388"
      ]
     },
     "execution_count": 122,
     "metadata": {},
     "output_type": "execute_result"
    }
   ],
   "source": [
    "len(hepc)"
   ]
  },
  {
   "cell_type": "code",
   "execution_count": 112,
   "metadata": {},
   "outputs": [],
   "source": [
    "pairs = [(p.strip(), h.strip()) for p, h in zip(hepc.values[:,0], hepc.values[:,1])]"
   ]
  },
  {
   "cell_type": "code",
   "execution_count": 125,
   "metadata": {},
   "outputs": [
    {
     "data": {
      "text/plain": [
       "860"
      ]
     },
     "execution_count": 125,
     "metadata": {},
     "output_type": "execute_result"
    }
   ],
   "source": [
    "len(set(pairs))"
   ]
  },
  {
   "cell_type": "code",
   "execution_count": 117,
   "metadata": {},
   "outputs": [],
   "source": [
    "interactions = {'pathogen': [], 'human': [], 'interaction': []}\n",
    "# bad algo\n",
    "for p in pathogens:\n",
    "    p = p.strip()\n",
    "    for h in humans:\n",
    "        h = h.strip()\n",
    "        if ((p, h) in pairs):\n",
    "            interactions['pathogen'].append(p)\n",
    "            interactions['human'].append(h)\n",
    "            interactions['interaction'].append(1)\n",
    "        else:\n",
    "            interactions['pathogen'].append(p)\n",
    "            interactions['human'].append(h)\n",
    "            interactions['interaction'].append(0)"
   ]
  },
  {
   "cell_type": "code",
   "execution_count": 118,
   "metadata": {},
   "outputs": [],
   "source": [
    "hepc_interactions = pd.DataFrame.from_dict(interactions)"
   ]
  },
  {
   "cell_type": "code",
   "execution_count": 119,
   "metadata": {},
   "outputs": [
    {
     "data": {
      "text/plain": [
       "860"
      ]
     },
     "execution_count": 119,
     "metadata": {},
     "output_type": "execute_result"
    }
   ],
   "source": [
    "len(hepc_interactions[hepc_interactions['interaction'] == 1])"
   ]
  },
  {
   "cell_type": "code",
   "execution_count": 120,
   "metadata": {},
   "outputs": [
    {
     "data": {
      "text/plain": [
       "39685"
      ]
     },
     "execution_count": 120,
     "metadata": {},
     "output_type": "execute_result"
    }
   ],
   "source": [
    "len(hepc_interactions[hepc_interactions['interaction'] == 0])"
   ]
  },
  {
   "cell_type": "code",
   "execution_count": null,
   "metadata": {},
   "outputs": [],
   "source": [
    "860 / 39685"
   ]
  },
  {
   "cell_type": "code",
   "execution_count": 91,
   "metadata": {},
   "outputs": [],
   "source": [
    "hepc_interactions.to_csv('hepc_interactions.csv')"
   ]
  }
 ],
 "metadata": {
  "kernelspec": {
   "display_name": "Python deeplearning",
   "language": "python",
   "name": "deeplearning"
  },
  "language_info": {
   "codemirror_mode": {
    "name": "ipython",
    "version": 3
   },
   "file_extension": ".py",
   "mimetype": "text/x-python",
   "name": "python",
   "nbconvert_exporter": "python",
   "pygments_lexer": "ipython3",
   "version": "3.6.8"
  }
 },
 "nbformat": 4,
 "nbformat_minor": 2
}
