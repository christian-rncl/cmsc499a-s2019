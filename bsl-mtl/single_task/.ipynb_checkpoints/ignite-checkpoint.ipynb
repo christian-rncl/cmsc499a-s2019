{
 "cells": [
  {
   "cell_type": "code",
   "execution_count": 1,
   "metadata": {},
   "outputs": [],
   "source": [
    "import numpy as np\n",
    "import os\n",
    "import pandas as pd\n",
    "import torch\n",
    "from gmf import GMF\n",
    "from data import *\n",
    "import torch.nn as nn"
   ]
  },
  {
   "cell_type": "code",
   "execution_count": 28,
   "metadata": {},
   "outputs": [],
   "source": [
    "from ignite.engine import Engine, Events\n",
    "from ignite.metrics import Accuracy, Precision, Recall, Loss, RunningAverage\n",
    "from ignite.contrib.handlers import ProgressBar"
   ]
  },
  {
   "cell_type": "code",
   "execution_count": 3,
   "metadata": {},
   "outputs": [
    {
     "name": "stdout",
     "output_type": "stream",
     "text": [
      "using device: cpu\n"
     ]
    }
   ],
   "source": [
    "USE_GPU = True\n",
    "\n",
    "if USE_GPU and torch.cuda.is_available():\n",
    "    device = torch.device('cuda')\n",
    "else:\n",
    "    device = torch.device('cpu')\n",
    "\n",
    "print('using device:', device)"
   ]
  },
  {
   "cell_type": "markdown",
   "metadata": {},
   "source": [
    "# Data"
   ]
  },
  {
   "cell_type": "code",
   "execution_count": 4,
   "metadata": {},
   "outputs": [],
   "source": [
    "path = './data/'"
   ]
  },
  {
   "cell_type": "code",
   "execution_count": 5,
   "metadata": {},
   "outputs": [],
   "source": [
    "interactions = pd.read_csv(path + 't1_train.csv')\n",
    "human_feats = np.load(path + 'human_feats.npy')\n",
    "virus_feats = np.load(path + 'virus_feats.npy')"
   ]
  },
  {
   "cell_type": "code",
   "execution_count": 6,
   "metadata": {},
   "outputs": [
    {
     "data": {
      "text/html": [
       "<div>\n",
       "<style scoped>\n",
       "    .dataframe tbody tr th:only-of-type {\n",
       "        vertical-align: middle;\n",
       "    }\n",
       "\n",
       "    .dataframe tbody tr th {\n",
       "        vertical-align: top;\n",
       "    }\n",
       "\n",
       "    .dataframe thead th {\n",
       "        text-align: right;\n",
       "    }\n",
       "</style>\n",
       "<table border=\"1\" class=\"dataframe\">\n",
       "  <thead>\n",
       "    <tr style=\"text-align: right;\">\n",
       "      <th></th>\n",
       "      <th>node1</th>\n",
       "      <th>node2</th>\n",
       "      <th>edge</th>\n",
       "    </tr>\n",
       "  </thead>\n",
       "  <tbody>\n",
       "    <tr>\n",
       "      <th>0</th>\n",
       "      <td>151</td>\n",
       "      <td>2841</td>\n",
       "      <td>1.0</td>\n",
       "    </tr>\n",
       "    <tr>\n",
       "      <th>1</th>\n",
       "      <td>151</td>\n",
       "      <td>2874</td>\n",
       "      <td>1.0</td>\n",
       "    </tr>\n",
       "    <tr>\n",
       "      <th>2</th>\n",
       "      <td>151</td>\n",
       "      <td>780</td>\n",
       "      <td>1.0</td>\n",
       "    </tr>\n",
       "    <tr>\n",
       "      <th>3</th>\n",
       "      <td>151</td>\n",
       "      <td>1183</td>\n",
       "      <td>1.0</td>\n",
       "    </tr>\n",
       "    <tr>\n",
       "      <th>4</th>\n",
       "      <td>155</td>\n",
       "      <td>2346</td>\n",
       "      <td>1.0</td>\n",
       "    </tr>\n",
       "  </tbody>\n",
       "</table>\n",
       "</div>"
      ],
      "text/plain": [
       "   node1  node2  edge\n",
       "0    151   2841   1.0\n",
       "1    151   2874   1.0\n",
       "2    151    780   1.0\n",
       "3    151   1183   1.0\n",
       "4    155   2346   1.0"
      ]
     },
     "execution_count": 6,
     "metadata": {},
     "output_type": "execute_result"
    }
   ],
   "source": [
    "interactions.head()"
   ]
  },
  {
   "cell_type": "code",
   "execution_count": 7,
   "metadata": {},
   "outputs": [
    {
     "data": {
      "text/plain": [
       "(7209, 2799)"
      ]
     },
     "execution_count": 7,
     "metadata": {},
     "output_type": "execute_result"
    }
   ],
   "source": [
    "human_feats.shape"
   ]
  },
  {
   "cell_type": "code",
   "execution_count": 8,
   "metadata": {},
   "outputs": [
    {
     "data": {
      "text/plain": [
       "(172, 5225)"
      ]
     },
     "execution_count": 8,
     "metadata": {},
     "output_type": "execute_result"
    }
   ],
   "source": [
    "virus_idxs = sorted(interactions['node1'].unique())\n",
    "human_idxs = sorted(interactions['node2'].unique())\n",
    "len(virus_idxs), len(human_idxs)"
   ]
  },
  {
   "cell_type": "code",
   "execution_count": 9,
   "metadata": {},
   "outputs": [],
   "source": [
    "vtoi = {v : i for i, v in enumerate(virus_idxs)}\n",
    "itov = {i : v for i, v in enumerate(virus_idxs)}\n",
    "htoi = {h : i for i, h in enumerate(human_idxs)}\n",
    "itoh = {i : h for i, h in enumerate(human_idxs)}"
   ]
  },
  {
   "cell_type": "code",
   "execution_count": null,
   "metadata": {},
   "outputs": [],
   "source": []
  },
  {
   "cell_type": "code",
   "execution_count": 10,
   "metadata": {},
   "outputs": [],
   "source": [
    "gen = SingleTaskGenerator(interactions, human_feats, virus_feats, .10)"
   ]
  },
  {
   "cell_type": "code",
   "execution_count": 11,
   "metadata": {},
   "outputs": [],
   "source": [
    "train_loader = gen.create_train_loader(3)\n",
    "val_loader = gen.create_val_loader(3)\n",
    "test_loader = gen.create_test_loader(3)"
   ]
  },
  {
   "cell_type": "code",
   "execution_count": 12,
   "metadata": {},
   "outputs": [
    {
     "data": {
      "text/plain": [
       "[tensor([[  42, 2564],\n",
       "         [  45, 4288],\n",
       "         [   1, 3381]]),\n",
       " tensor([[0.5690, 0.6897, 0.8793,  ..., 0.0000, 0.0000, 1.0000],\n",
       "         [0.4636, 0.6689, 0.5629,  ..., 0.0000, 0.0000, 0.0000],\n",
       "         [0.5294, 0.9020, 0.6667,  ..., 0.0000, 0.0000, 1.0000]],\n",
       "        dtype=torch.float64),\n",
       " tensor([[0.6515, 0.7576, 0.5909,  ..., 0.0000, 0.0000, 1.0000],\n",
       "         [0.9375, 0.9375, 0.5000,  ..., 0.0000, 0.0000, 1.0000],\n",
       "         [0.2273, 0.5303, 0.0758,  ..., 0.0000, 0.0000, 1.0000]],\n",
       "        dtype=torch.float64),\n",
       " tensor([0., 0., 0.], dtype=torch.float64)]"
      ]
     },
     "execution_count": 12,
     "metadata": {},
     "output_type": "execute_result"
    }
   ],
   "source": [
    "next(iter(train_loader))"
   ]
  },
  {
   "cell_type": "markdown",
   "metadata": {},
   "source": [
    "# Model"
   ]
  },
  {
   "cell_type": "code",
   "execution_count": 13,
   "metadata": {},
   "outputs": [],
   "source": [
    "n_virus, n_human = len(virus_idxs), len(human_idxs)"
   ]
  },
  {
   "cell_type": "code",
   "execution_count": 14,
   "metadata": {},
   "outputs": [
    {
     "data": {
      "text/plain": [
       "GMF(\n",
       "  (virus): Embedding(172, 2799)\n",
       "  (human): Embedding(5225, 2799)\n",
       ")"
      ]
     },
     "execution_count": 14,
     "metadata": {},
     "output_type": "execute_result"
    }
   ],
   "source": [
    "config = {\n",
    "    'num_virus': n_virus,\n",
    "    'num_human': n_human,\n",
    "    'latent_dim': 2799,\n",
    "    'sparse': False\n",
    "}\n",
    "model = GMF(config)\n",
    "model.to(device)"
   ]
  },
  {
   "cell_type": "code",
   "execution_count": 15,
   "metadata": {},
   "outputs": [],
   "source": [
    "optimizer = torch.optim.SGD(model.parameters(), \n",
    "                            lr = 1e-3,  \n",
    "                            momentum=0.9, \n",
    "                            weight_decay=1e-5)\n",
    "criterion = nn.MSELoss()"
   ]
  },
  {
   "cell_type": "code",
   "execution_count": 16,
   "metadata": {},
   "outputs": [],
   "source": [
    "threshhold = .50"
   ]
  },
  {
   "cell_type": "markdown",
   "metadata": {},
   "source": [
    "### Trainer"
   ]
  },
  {
   "cell_type": "code",
   "execution_count": 36,
   "metadata": {},
   "outputs": [],
   "source": [
    "debug_loader = gen.create_debug_loader(3)"
   ]
  },
  {
   "cell_type": "code",
   "execution_count": 37,
   "metadata": {},
   "outputs": [
    {
     "data": {
      "text/plain": [
       "[tensor([[  56, 2067],\n",
       "         [  37, 1832],\n",
       "         [  35,  143]]),\n",
       " tensor([[0.3261, 0.4348, 0.3913,  ..., 0.0000, 0.0000, 1.0000],\n",
       "         [0.5152, 0.8788, 0.6970,  ..., 0.0000, 0.0000, 1.0000],\n",
       "         [0.9577, 0.9155, 0.9014,  ..., 0.0000, 0.0000, 1.0000]],\n",
       "        dtype=torch.float64),\n",
       " tensor([[0.6122, 0.9796, 0.7551,  ..., 0.0000, 0.0000, 1.0000],\n",
       "         [0.6939, 0.8163, 0.7959,  ..., 0.0000, 0.0000, 1.0000],\n",
       "         [0.2667, 0.5333, 0.2667,  ..., 0.0000, 0.0000, 1.0000]],\n",
       "        dtype=torch.float64),\n",
       " tensor([0., 0., 0.], dtype=torch.float64)]"
      ]
     },
     "execution_count": 37,
     "metadata": {},
     "output_type": "execute_result"
    }
   ],
   "source": [
    "next(iter(debug_loader))"
   ]
  },
  {
   "cell_type": "code",
   "execution_count": 38,
   "metadata": {},
   "outputs": [],
   "source": [
    "def train_batch(engine, batch):\n",
    "    model.train()\n",
    "    optimizer.zero_grad()\n",
    "    \n",
    "    x_pairs, human_feats, virus_feats, ys = batch\n",
    "    v_idxs, h_idxs = x_pairs[:,0], x_pairs[:,1]\n",
    "    pred = model(h_idxs, v_idxs, human_feats, virus_feats)\n",
    "#     pred = pred_help(pred)\n",
    "    loss = criterion(pred, ys)\n",
    "#     print(loss)\n",
    "    loss.backward()\n",
    "    optimizer.step()\n",
    "        \n",
    "    return loss.item()"
   ]
  },
  {
   "cell_type": "code",
   "execution_count": 39,
   "metadata": {},
   "outputs": [],
   "source": [
    "RunningAverage(output_transform=lambda x: x).attach(trainer, 'loss')"
   ]
  },
  {
   "cell_type": "code",
   "execution_count": 40,
   "metadata": {},
   "outputs": [],
   "source": [
    "pbar = ProgressBar(persist=True)\n",
    "pbar.attach(trainer, ['loss'])"
   ]
  },
  {
   "cell_type": "markdown",
   "metadata": {},
   "source": [
    "### train eval "
   ]
  },
  {
   "cell_type": "code",
   "execution_count": 41,
   "metadata": {},
   "outputs": [
    {
     "data": {
      "text/plain": [
       "<ignite.engine.engine.State at 0x7f96f24d1470>"
      ]
     },
     "execution_count": 41,
     "metadata": {},
     "output_type": "execute_result"
    }
   ],
   "source": [
    "trainer = Engine(train_batch)\n",
    "trainer.run(debug_loader)"
   ]
  },
  {
   "cell_type": "markdown",
   "metadata": {},
   "source": [
    "# evaluation"
   ]
  },
  {
   "cell_type": "code",
   "execution_count": 84,
   "metadata": {},
   "outputs": [],
   "source": [
    "trainer = Engine(train_batch)"
   ]
  },
  {
   "cell_type": "code",
   "execution_count": 85,
   "metadata": {},
   "outputs": [],
   "source": [
    "# round probabilities\n",
    "def thresholded_output_transform(output):\n",
    "    y_pred, y = output\n",
    "    y_pred = torch.round(y_pred)\n",
    "    return y_pred, y"
   ]
  },
  {
   "cell_type": "code",
   "execution_count": 86,
   "metadata": {},
   "outputs": [],
   "source": [
    "def eval_fn(engine, batch):\n",
    "    model.eval()\n",
    "    with torch.no_grad():\n",
    "        x_pairs, human_feats, virus_feats, ys = batch\n",
    "        v_idxs, h_idxs = x_pairs[:,0], x_pairs[:,1]\n",
    "        pred = model(h_idxs, v_idxs, human_feats, virus_feats)\n",
    "        return pred, ys"
   ]
  },
  {
   "cell_type": "code",
   "execution_count": 87,
   "metadata": {},
   "outputs": [],
   "source": [
    "train_evaluator = Engine(eval_fn)"
   ]
  },
  {
   "cell_type": "code",
   "execution_count": 88,
   "metadata": {},
   "outputs": [],
   "source": [
    "Accuracy(output_transform=thresholded_output_transform).attach(train_evaluator, 'accuracy')\n",
    "Precision(output_transform=thresholded_output_transform).attach(train_evaluator, 'precision')\n",
    "Recall(output_transform=thresholded_output_transform).attach(train_evaluator, 'recall')\n",
    "Loss(criterion).attach(train_evaluator, 'loss')"
   ]
  },
  {
   "cell_type": "code",
   "execution_count": 89,
   "metadata": {},
   "outputs": [],
   "source": [
    "@trainer.on(Events.EPOCH_COMPLETED)\n",
    "def log_training_results(engine):\n",
    "    train_evaluator.run(debug_loader)\n",
    "    metrics = train_evaluator.state.metrics\n",
    "    avg_accuracy = metrics['accuracy']\n",
    "    avg_loss = metrics['loss']\n",
    "    prec = metrics['precision']\n",
    "    rec = metrics['recall']\n",
    "    pbar.log_message(\n",
    "        \"Training Results - Epoch: {}  Avg accuracy: {:.2f} Avg loss: {:.2f} Prec: {:.2f} Rec: {:.2f}\"\n",
    "        .format(engine.state.epoch, avg_accuracy, avg_loss, prec, rec))"
   ]
  },
  {
   "cell_type": "code",
   "execution_count": 90,
   "metadata": {},
   "outputs": [],
   "source": [
    "RunningAverage(output_transform=lambda x: x).attach(trainer, 'loss')"
   ]
  },
  {
   "cell_type": "code",
   "execution_count": 91,
   "metadata": {},
   "outputs": [],
   "source": [
    "pbar = ProgressBar(persist=True)\n",
    "pbar.attach(trainer, ['loss'])"
   ]
  },
  {
   "cell_type": "code",
   "execution_count": 92,
   "metadata": {},
   "outputs": [
    {
     "name": "stderr",
     "output_type": "stream",
     "text": [
      "\n",
      "\n",
      "[0/4]   0%|           [00:00<?]\u001b[A\u001b[A\n",
      "\n",
      "Epoch [1/1]: [0/4]   0%|           [00:00<?]\u001b[A\u001b[A\n",
      "\n",
      "Epoch [1/1]: [0/4]   0%|          , loss=3.33e-05 [00:00<?]\u001b[A\u001b[A\n",
      "\n",
      "Epoch [1/1]: [1/4]  25%|██▌       , loss=3.33e-05 [00:00<00:00]\u001b[A\u001b[A\n",
      "\n",
      "Epoch [1/1]: [1/4]  25%|██▌       , loss=3.34e-05 [00:00<00:00]\u001b[A\u001b[A\n",
      "\n",
      "Epoch [1/1]: [2/4]  50%|█████     , loss=3.34e-05 [00:00<00:00]\u001b[A\u001b[A\n",
      "\n",
      "Epoch [1/1]: [2/4]  50%|█████     , loss=3.34e-05 [00:00<00:00]\u001b[A\u001b[A\n",
      "\n",
      "Epoch [1/1]: [2/4]  50%|█████     , loss=3.30e-05 [00:00<00:00]\u001b[A\u001b[A\n",
      "\n",
      "Epoch [1/1]: [3/4]  75%|███████▌  , loss=3.30e-05 [00:00<00:00]\u001b[A\u001b[A\n",
      "\n",
      "Epoch [1/1]: [3/4]  75%|███████▌  , loss=3.30e-05 [00:00<00:00]\u001b[A\u001b[A\n",
      "\n",
      "Epoch [1/1]: [3/4]  75%|███████▌  , loss=3.29e-05 [00:00<00:00]\u001b[A\u001b[A\n",
      "\n",
      "                                                                   \n",
      "\u001b[A\n",
      "\n",
      "Epoch [1/1]: [63/2512]   3%|▎         , loss=1.51e-02 [00:59<05:23]\n",
      "Epoch [1/1]: [4/4] 100%|██████████, loss=3.40e-05 [00:32<00:00]\u001b[A\n",
      "\n",
      "Epoch [1/1]: [4/4] 100%|██████████, loss=3.29e-05 [00:00<00:00]\u001b[A\u001b[A\n",
      "\n",
      "\u001b[A\u001b[A"
     ]
    },
    {
     "name": "stdout",
     "output_type": "stream",
     "text": [
      "Training Results - Epoch: 1  Avg accuracy: 1.00 Avg loss: 0.00 Prec: 0.00 Rec: 0.00\n"
     ]
    },
    {
     "data": {
      "text/plain": [
       "<ignite.engine.engine.State at 0x7f96f24d1320>"
      ]
     },
     "execution_count": 92,
     "metadata": {},
     "output_type": "execute_result"
    }
   ],
   "source": [
    "trainer.run(debug_loader)"
   ]
  },
  {
   "cell_type": "code",
   "execution_count": null,
   "metadata": {},
   "outputs": [],
   "source": []
  }
 ],
 "metadata": {
  "kernelspec": {
   "display_name": "Python deeplearning",
   "language": "python",
   "name": "myenv"
  },
  "language_info": {
   "codemirror_mode": {
    "name": "ipython",
    "version": 3
   },
   "file_extension": ".py",
   "mimetype": "text/x-python",
   "name": "python",
   "nbconvert_exporter": "python",
   "pygments_lexer": "ipython3",
   "version": "3.6.8"
  }
 },
 "nbformat": 4,
 "nbformat_minor": 2
}
