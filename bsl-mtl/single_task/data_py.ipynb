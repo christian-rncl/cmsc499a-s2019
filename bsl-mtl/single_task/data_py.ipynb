{
 "cells": [
  {
   "cell_type": "code",
   "execution_count": 7,
   "metadata": {},
   "outputs": [],
   "source": [
    "import numpy as np\n",
    "import os\n",
    "import pandas as pd\n",
    "import torch\n",
    "import numpy.random as rand\n",
    "from data import *"
   ]
  },
  {
   "cell_type": "markdown",
   "metadata": {},
   "source": [
    "# load data for testing"
   ]
  },
  {
   "cell_type": "code",
   "execution_count": 8,
   "metadata": {},
   "outputs": [],
   "source": [
    "path = \"./data/\""
   ]
  },
  {
   "cell_type": "code",
   "execution_count": 9,
   "metadata": {},
   "outputs": [],
   "source": [
    "human = np.load(path + 'human_feats.npy')\n",
    "virus = np.load(path + 'virus_feats.npy')"
   ]
  },
  {
   "cell_type": "code",
   "execution_count": 10,
   "metadata": {},
   "outputs": [
    {
     "data": {
      "text/plain": [
       "(array([[0.2581 , 0.3226 , 0.3226 , 0.     , 0.06452],\n",
       "        [0.2381 , 0.619  , 0.3333 , 0.2381 , 0.09524],\n",
       "        [0.25   , 0.3333 , 0.9167 , 0.5    , 0.25   ],\n",
       "        [0.7143 , 0.5238 , 0.9524 , 0.2381 , 0.04762],\n",
       "        [0.2727 , 0.4545 , 0.2273 , 0.09091, 0.5    ]]),\n",
       " array([[0.9615 , 0.6154 , 0.8846 , 0.4231 , 0.5769 ],\n",
       "        [0.2273 , 0.5303 , 0.07576, 0.0303 , 0.     ],\n",
       "        [0.7589 , 0.7768 , 0.9196 , 0.3393 , 0.4911 ],\n",
       "        [0.9924 , 0.4697 , 0.4091 , 0.2121 , 0.2273 ],\n",
       "        [0.6897 , 0.5517 , 0.931  , 0.3793 , 0.5172 ]]))"
      ]
     },
     "execution_count": 10,
     "metadata": {},
     "output_type": "execute_result"
    }
   ],
   "source": [
    "human[:5, :5], virus[:5,:5]"
   ]
  },
  {
   "cell_type": "code",
   "execution_count": 11,
   "metadata": {},
   "outputs": [],
   "source": [
    "interactions = pd.read_csv(path + 't1_train.csv')"
   ]
  },
  {
   "cell_type": "code",
   "execution_count": 12,
   "metadata": {},
   "outputs": [
    {
     "data": {
      "text/html": [
       "<div>\n",
       "<style scoped>\n",
       "    .dataframe tbody tr th:only-of-type {\n",
       "        vertical-align: middle;\n",
       "    }\n",
       "\n",
       "    .dataframe tbody tr th {\n",
       "        vertical-align: top;\n",
       "    }\n",
       "\n",
       "    .dataframe thead th {\n",
       "        text-align: right;\n",
       "    }\n",
       "</style>\n",
       "<table border=\"1\" class=\"dataframe\">\n",
       "  <thead>\n",
       "    <tr style=\"text-align: right;\">\n",
       "      <th></th>\n",
       "      <th>node1</th>\n",
       "      <th>node2</th>\n",
       "      <th>edge</th>\n",
       "    </tr>\n",
       "  </thead>\n",
       "  <tbody>\n",
       "    <tr>\n",
       "      <th>0</th>\n",
       "      <td>151</td>\n",
       "      <td>2841</td>\n",
       "      <td>1</td>\n",
       "    </tr>\n",
       "    <tr>\n",
       "      <th>1</th>\n",
       "      <td>151</td>\n",
       "      <td>2874</td>\n",
       "      <td>1</td>\n",
       "    </tr>\n",
       "    <tr>\n",
       "      <th>2</th>\n",
       "      <td>151</td>\n",
       "      <td>780</td>\n",
       "      <td>1</td>\n",
       "    </tr>\n",
       "    <tr>\n",
       "      <th>3</th>\n",
       "      <td>151</td>\n",
       "      <td>1183</td>\n",
       "      <td>1</td>\n",
       "    </tr>\n",
       "    <tr>\n",
       "      <th>4</th>\n",
       "      <td>155</td>\n",
       "      <td>2346</td>\n",
       "      <td>1</td>\n",
       "    </tr>\n",
       "  </tbody>\n",
       "</table>\n",
       "</div>"
      ],
      "text/plain": [
       "   node1  node2  edge\n",
       "0    151   2841     1\n",
       "1    151   2874     1\n",
       "2    151    780     1\n",
       "3    151   1183     1\n",
       "4    155   2346     1"
      ]
     },
     "execution_count": 12,
     "metadata": {},
     "output_type": "execute_result"
    }
   ],
   "source": [
    "interactions.head()"
   ]
  },
  {
   "cell_type": "code",
   "execution_count": 13,
   "metadata": {},
   "outputs": [],
   "source": [
    "pool = interactions.loc[interactions['edge'] == 1].index.values"
   ]
  },
  {
   "cell_type": "markdown",
   "metadata": {},
   "source": [
    "## test create_data_loader"
   ]
  },
  {
   "cell_type": "code",
   "execution_count": 14,
   "metadata": {},
   "outputs": [],
   "source": [
    "gen = SingleTaskGenerator(interactions, human, virus, .80)"
   ]
  },
  {
   "cell_type": "code",
   "execution_count": 15,
   "metadata": {},
   "outputs": [],
   "source": [
    "dl = gen.create_data_loader(24)"
   ]
  },
  {
   "cell_type": "code",
   "execution_count": 16,
   "metadata": {},
   "outputs": [
    {
     "data": {
      "text/plain": [
       "[tensor([[0.8889, 0.9778, 0.8222,  ..., 0.0000, 0.0000, 1.0000],\n",
       "         [0.2727, 0.9091, 0.7273,  ..., 0.0000, 0.0000, 1.0000],\n",
       "         [0.7755, 0.7653, 0.3673,  ..., 0.0000, 0.0000, 1.0000],\n",
       "         ...,\n",
       "         [0.9750, 0.6250, 0.4000,  ..., 0.0000, 0.0000, 1.0000],\n",
       "         [0.9744, 0.8462, 0.4103,  ..., 0.0000, 0.0000, 1.0000],\n",
       "         [0.9750, 0.6250, 0.4000,  ..., 0.0000, 0.0000, 1.0000]],\n",
       "        dtype=torch.float64),\n",
       " tensor([[0.2000, 0.6000, 0.4500,  ..., 0.0000, 0.0000, 1.0000],\n",
       "         [0.2590, 0.5361, 0.4639,  ..., 0.0000, 0.0000, 1.0000],\n",
       "         [0.2000, 0.4000, 0.0000,  ..., 0.0000, 0.0000, 1.0000],\n",
       "         ...,\n",
       "         [0.8667, 0.5333, 0.4000,  ..., 0.0000, 0.0000, 1.0000],\n",
       "         [0.8667, 0.5333, 0.4000,  ..., 0.0000, 0.0000, 1.0000],\n",
       "         [0.8667, 0.5333, 0.4000,  ..., 0.0000, 0.0000, 1.0000]],\n",
       "        dtype=torch.float64),\n",
       " tensor([888,   2, 829, 878, 825,   3, 899, 809, 864, 838, 852, 844, 873, 848,\n",
       "         831,   5, 855, 819, 847, 894, 840, 893, 857, 820])]"
      ]
     },
     "execution_count": 16,
     "metadata": {},
     "output_type": "execute_result"
    }
   ],
   "source": [
    "next(iter(dl))"
   ]
  },
  {
   "cell_type": "code",
   "execution_count": null,
   "metadata": {},
   "outputs": [],
   "source": []
  }
 ],
 "metadata": {
  "kernelspec": {
   "display_name": "Python deeplearning",
   "language": "python",
   "name": "deeplearning"
  },
  "language_info": {
   "codemirror_mode": {
    "name": "ipython",
    "version": 3
   },
   "file_extension": ".py",
   "mimetype": "text/x-python",
   "name": "python",
   "nbconvert_exporter": "python",
   "pygments_lexer": "ipython3",
   "version": "3.6.8"
  }
 },
 "nbformat": 4,
 "nbformat_minor": 2
}
