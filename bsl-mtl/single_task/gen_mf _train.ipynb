{
 "cells": [
  {
   "cell_type": "markdown",
   "metadata": {},
   "source": [
    "# General Matrix Fact training test/debug"
   ]
  },
  {
   "cell_type": "code",
   "execution_count": 1,
   "metadata": {},
   "outputs": [],
   "source": [
    "import torch\n",
    "import numpy as np\n",
    "import pandas as pd\n",
    "from data import SingleTaskGenerator\n",
    "from gmf import GMFEngine"
   ]
  },
  {
   "cell_type": "markdown",
   "metadata": {},
   "source": [
    "## Load data"
   ]
  },
  {
   "cell_type": "code",
   "execution_count": 2,
   "metadata": {},
   "outputs": [],
   "source": [
    "path = './data/'"
   ]
  },
  {
   "cell_type": "code",
   "execution_count": 3,
   "metadata": {},
   "outputs": [],
   "source": [
    "t1_interactions = pd.read_csv(path + 't1_train.csv')"
   ]
  },
  {
   "cell_type": "code",
   "execution_count": 4,
   "metadata": {},
   "outputs": [
    {
     "data": {
      "text/html": [
       "<div>\n",
       "<style scoped>\n",
       "    .dataframe tbody tr th:only-of-type {\n",
       "        vertical-align: middle;\n",
       "    }\n",
       "\n",
       "    .dataframe tbody tr th {\n",
       "        vertical-align: top;\n",
       "    }\n",
       "\n",
       "    .dataframe thead th {\n",
       "        text-align: right;\n",
       "    }\n",
       "</style>\n",
       "<table border=\"1\" class=\"dataframe\">\n",
       "  <thead>\n",
       "    <tr style=\"text-align: right;\">\n",
       "      <th></th>\n",
       "      <th>node1</th>\n",
       "      <th>node2</th>\n",
       "      <th>edge</th>\n",
       "    </tr>\n",
       "  </thead>\n",
       "  <tbody>\n",
       "    <tr>\n",
       "      <th>0</th>\n",
       "      <td>151</td>\n",
       "      <td>2841</td>\n",
       "      <td>1</td>\n",
       "    </tr>\n",
       "    <tr>\n",
       "      <th>1</th>\n",
       "      <td>151</td>\n",
       "      <td>2874</td>\n",
       "      <td>1</td>\n",
       "    </tr>\n",
       "    <tr>\n",
       "      <th>2</th>\n",
       "      <td>151</td>\n",
       "      <td>780</td>\n",
       "      <td>1</td>\n",
       "    </tr>\n",
       "    <tr>\n",
       "      <th>3</th>\n",
       "      <td>151</td>\n",
       "      <td>1183</td>\n",
       "      <td>1</td>\n",
       "    </tr>\n",
       "    <tr>\n",
       "      <th>4</th>\n",
       "      <td>155</td>\n",
       "      <td>2346</td>\n",
       "      <td>1</td>\n",
       "    </tr>\n",
       "  </tbody>\n",
       "</table>\n",
       "</div>"
      ],
      "text/plain": [
       "   node1  node2  edge\n",
       "0    151   2841     1\n",
       "1    151   2874     1\n",
       "2    151    780     1\n",
       "3    151   1183     1\n",
       "4    155   2346     1"
      ]
     },
     "execution_count": 4,
     "metadata": {},
     "output_type": "execute_result"
    }
   ],
   "source": [
    "t1_interactions.head()"
   ]
  },
  {
   "cell_type": "code",
   "execution_count": 5,
   "metadata": {},
   "outputs": [],
   "source": [
    "x = np.load(path + 'human_feats.npy')\n",
    "y = np.load(path + 'virus_feats.npy')"
   ]
  },
  {
   "cell_type": "code",
   "execution_count": 6,
   "metadata": {},
   "outputs": [
    {
     "name": "stdout",
     "output_type": "stream",
     "text": [
      "(7209, 2799) (1107, 2799)\n"
     ]
    }
   ],
   "source": [
    "print(x.shape, y.shape)"
   ]
  },
  {
   "cell_type": "markdown",
   "metadata": {},
   "source": [
    "# Config"
   ]
  },
  {
   "cell_type": "code",
   "execution_count": 7,
   "metadata": {},
   "outputs": [
    {
     "name": "stdout",
     "output_type": "stream",
     "text": [
      "using device: cuda\n"
     ]
    }
   ],
   "source": [
    "USE_GPU = True\n",
    "\n",
    "if USE_GPU and torch.cuda.is_available():\n",
    "    device = torch.device('cuda')\n",
    "else:\n",
    "    device = torch.device('cpu')\n",
    "\n",
    "print('using device:', device)"
   ]
  },
  {
   "cell_type": "code",
   "execution_count": 8,
   "metadata": {},
   "outputs": [],
   "source": [
    "num_human, num_virus = x.shape[0], y.shape[0]\n",
    "assert(x.shape[1] == y.shape[1])\n",
    "latent_dim = x.shape[1]"
   ]
  },
  {
   "cell_type": "code",
   "execution_count": 9,
   "metadata": {},
   "outputs": [],
   "source": [
    "config = {'alias': 'gmf',\n",
    "          'num_epoch': 3,\n",
    "          'batch_size': 32,\n",
    "          'optimizer': 'sgd',\n",
    "          'sgd_lr': 1e-3,\n",
    "          'sgd_momentum': 0.9,\n",
    "          'interactions': t1_interactions,\n",
    "          'num_human': num_human,\n",
    "          'num_virus': num_virus,\n",
    "          'latent_dim': latent_dim,\n",
    "          'sparse': False,\n",
    "          'cuda': True,\n",
    "          'device_id': 0}"
   ]
  },
  {
   "cell_type": "markdown",
   "metadata": {},
   "source": [
    "# Training loop"
   ]
  },
  {
   "cell_type": "code",
   "execution_count": 10,
   "metadata": {},
   "outputs": [],
   "source": [
    "singletaskgen = SingleTaskGenerator(t1_interactions, x, y, .90)\n",
    "engine = GMFEngine(config)"
   ]
  },
  {
   "cell_type": "code",
   "execution_count": 11,
   "metadata": {},
   "outputs": [
    {
     "name": "stdout",
     "output_type": "stream",
     "text": [
      "Epoch 0 starts !\n",
      "--------------------------------------------------------------------------------\n",
      "torch.Size([]) tensor(0.9833, device='cuda:0', dtype=torch.float64, grad_fn=<MeanBackward1>)\n",
      "[Training Epoch 0] Batch 0, Loss 0.9832570521675918\n",
      "torch.Size([]) tensor(0.9266, device='cuda:0', dtype=torch.float64, grad_fn=<MeanBackward1>)\n",
      "[Training Epoch 0] Batch 1, Loss 0.9266146409553344\n",
      "torch.Size([]) tensor(0.9825, device='cuda:0', dtype=torch.float64, grad_fn=<MeanBackward1>)\n",
      "[Training Epoch 0] Batch 2, Loss 0.9824903744202932\n",
      "Epoch 1 starts !\n",
      "--------------------------------------------------------------------------------\n",
      "torch.Size([]) tensor(0.9620, device='cuda:0', dtype=torch.float64, grad_fn=<MeanBackward1>)\n",
      "[Training Epoch 1] Batch 0, Loss 0.9619765423502458\n",
      "torch.Size([]) tensor(0.9175, device='cuda:0', dtype=torch.float64, grad_fn=<MeanBackward1>)\n",
      "[Training Epoch 1] Batch 1, Loss 0.9175336119069726\n",
      "torch.Size([]) tensor(0.9236, device='cuda:0', dtype=torch.float64, grad_fn=<MeanBackward1>)\n",
      "[Training Epoch 1] Batch 2, Loss 0.9235713408918508\n",
      "Epoch 2 starts !\n",
      "--------------------------------------------------------------------------------\n",
      "torch.Size([]) tensor(0.8895, device='cuda:0', dtype=torch.float64, grad_fn=<MeanBackward1>)\n",
      "[Training Epoch 2] Batch 0, Loss 0.8894892659270164\n",
      "torch.Size([]) tensor(0.7826, device='cuda:0', dtype=torch.float64, grad_fn=<MeanBackward1>)\n",
      "[Training Epoch 2] Batch 1, Loss 0.7825849643851663\n",
      "torch.Size([]) tensor(0.9144, device='cuda:0', dtype=torch.float64, grad_fn=<MeanBackward1>)\n",
      "[Training Epoch 2] Batch 2, Loss 0.914442398000166\n"
     ]
    }
   ],
   "source": [
    "for epoch in range(config['num_epoch']):\n",
    "    print('Epoch {} starts !'.format(epoch))\n",
    "    print('-' * 80)\n",
    "    \n",
    "    train_loader = singletaskgen.create_loader(config['batch_size'])\n",
    "    engine.train_an_epoch(train_loader, epoch_id=epoch)"
   ]
  },
  {
   "cell_type": "code",
   "execution_count": null,
   "metadata": {},
   "outputs": [],
   "source": []
  },
  {
   "cell_type": "code",
   "execution_count": null,
   "metadata": {},
   "outputs": [],
   "source": []
  }
 ],
 "metadata": {
  "kernelspec": {
   "display_name": "Python deeplearning",
   "language": "python",
   "name": "myenv"
  },
  "language_info": {
   "codemirror_mode": {
    "name": "ipython",
    "version": 3
   },
   "file_extension": ".py",
   "mimetype": "text/x-python",
   "name": "python",
   "nbconvert_exporter": "python",
   "pygments_lexer": "ipython3",
   "version": "3.6.8"
  }
 },
 "nbformat": 4,
 "nbformat_minor": 2
}
