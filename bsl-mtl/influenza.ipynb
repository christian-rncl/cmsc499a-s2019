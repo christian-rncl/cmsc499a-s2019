{
 "cells": [
  {
   "cell_type": "code",
   "execution_count": 1,
   "metadata": {},
   "outputs": [],
   "source": [
    "import pandas as pd\n",
    "import numpy as np"
   ]
  },
  {
   "cell_type": "code",
   "execution_count": 2,
   "metadata": {},
   "outputs": [],
   "source": [
    "flu = pd.read_csv('flu.csv')"
   ]
  },
  {
   "cell_type": "code",
   "execution_count": 3,
   "metadata": {},
   "outputs": [
    {
     "data": {
      "text/html": [
       "<div>\n",
       "<style scoped>\n",
       "    .dataframe tbody tr th:only-of-type {\n",
       "        vertical-align: middle;\n",
       "    }\n",
       "\n",
       "    .dataframe tbody tr th {\n",
       "        vertical-align: top;\n",
       "    }\n",
       "\n",
       "    .dataframe thead th {\n",
       "        text-align: right;\n",
       "    }\n",
       "</style>\n",
       "<table border=\"1\" class=\"dataframe\">\n",
       "  <thead>\n",
       "    <tr style=\"text-align: right;\">\n",
       "      <th></th>\n",
       "      <th>Pathogen</th>\n",
       "      <th>Taxonomy ID</th>\n",
       "      <th>Uniprot ID</th>\n",
       "      <th>Pathogen Protein</th>\n",
       "      <th>Uniprot ID.1</th>\n",
       "      <th>Human Protein</th>\n",
       "      <th>Experimental Method</th>\n",
       "      <th>Pubmed ID</th>\n",
       "    </tr>\n",
       "  </thead>\n",
       "  <tbody>\n",
       "    <tr>\n",
       "      <th>0</th>\n",
       "      <td>Influenza A virus STRAIN A / PUERTO RICO / 8 /...</td>\n",
       "      <td>211044</td>\n",
       "      <td>P03433</td>\n",
       "      <td>PA_I34A1</td>\n",
       "      <td>P49736</td>\n",
       "      <td>MCM2_HUMAN</td>\n",
       "      <td>anti bait coimmunoprecipitation</td>\n",
       "      <td>17932485</td>\n",
       "    </tr>\n",
       "    <tr>\n",
       "      <th>1</th>\n",
       "      <td>Influenza A virus STRAIN A / PUERTO RICO / 8 /...</td>\n",
       "      <td>211044</td>\n",
       "      <td>P03466</td>\n",
       "      <td>NCAP_I34A1</td>\n",
       "      <td>P49736</td>\n",
       "      <td>MCM2_HUMAN</td>\n",
       "      <td>anti bait coimmunoprecipitation</td>\n",
       "      <td>17932485</td>\n",
       "    </tr>\n",
       "    <tr>\n",
       "      <th>2</th>\n",
       "      <td>Influenza A virus STRAIN A / PUERTO RICO / 8 /...</td>\n",
       "      <td>211044</td>\n",
       "      <td>P03428</td>\n",
       "      <td>PB2_I34A1</td>\n",
       "      <td>P49736</td>\n",
       "      <td>MCM2_HUMAN</td>\n",
       "      <td>anti bait coimmunoprecipitation</td>\n",
       "      <td>17932485</td>\n",
       "    </tr>\n",
       "    <tr>\n",
       "      <th>3</th>\n",
       "      <td>Influenza A virus STRAIN A / PUERTO RICO / 8 /...</td>\n",
       "      <td>211044</td>\n",
       "      <td>P03485</td>\n",
       "      <td>M1_I34A1</td>\n",
       "      <td>P15311</td>\n",
       "      <td>EZRI_HUMAN</td>\n",
       "      <td>anti bait coimmunoprecipitation</td>\n",
       "      <td>17022977</td>\n",
       "    </tr>\n",
       "    <tr>\n",
       "      <th>4</th>\n",
       "      <td>Influenza A virus STRAIN A / PUERTO RICO / 8 /...</td>\n",
       "      <td>211044</td>\n",
       "      <td>P03485</td>\n",
       "      <td>M1_I34A1</td>\n",
       "      <td>P11142</td>\n",
       "      <td>HSP7C_HUMAN</td>\n",
       "      <td>anti bait coimmunoprecipitation</td>\n",
       "      <td>17022977</td>\n",
       "    </tr>\n",
       "  </tbody>\n",
       "</table>\n",
       "</div>"
      ],
      "text/plain": [
       "                                            Pathogen  Taxonomy ID Uniprot ID  \\\n",
       "0  Influenza A virus STRAIN A / PUERTO RICO / 8 /...       211044     P03433   \n",
       "1  Influenza A virus STRAIN A / PUERTO RICO / 8 /...       211044     P03466   \n",
       "2  Influenza A virus STRAIN A / PUERTO RICO / 8 /...       211044     P03428   \n",
       "3  Influenza A virus STRAIN A / PUERTO RICO / 8 /...       211044     P03485   \n",
       "4  Influenza A virus STRAIN A / PUERTO RICO / 8 /...       211044     P03485   \n",
       "\n",
       "  Pathogen Protein Uniprot ID.1 Human Protein  \\\n",
       "0        PA_I34A1        P49736   MCM2_HUMAN    \n",
       "1      NCAP_I34A1        P49736   MCM2_HUMAN    \n",
       "2       PB2_I34A1        P49736   MCM2_HUMAN    \n",
       "3        M1_I34A1        P15311   EZRI_HUMAN    \n",
       "4        M1_I34A1        P11142  HSP7C_HUMAN    \n",
       "\n",
       "               Experimental Method  Pubmed ID  \n",
       "0  anti bait coimmunoprecipitation   17932485  \n",
       "1  anti bait coimmunoprecipitation   17932485  \n",
       "2  anti bait coimmunoprecipitation   17932485  \n",
       "3  anti bait coimmunoprecipitation   17022977  \n",
       "4  anti bait coimmunoprecipitation   17022977  "
      ]
     },
     "execution_count": 3,
     "metadata": {},
     "output_type": "execute_result"
    }
   ],
   "source": [
    "flu.head()"
   ]
  },
  {
   "cell_type": "code",
   "execution_count": null,
   "metadata": {},
   "outputs": [],
   "source": []
  }
 ],
 "metadata": {
  "kernelspec": {
   "display_name": "Python deeplearning",
   "language": "python",
   "name": "deeplearning"
  },
  "language_info": {
   "codemirror_mode": {
    "name": "ipython",
    "version": 3
   },
   "file_extension": ".py",
   "mimetype": "text/x-python",
   "name": "python",
   "nbconvert_exporter": "python",
   "pygments_lexer": "ipython3",
   "version": "3.6.8"
  }
 },
 "nbformat": 4,
 "nbformat_minor": 2
}
