{
 "cells": [
  {
   "cell_type": "code",
   "execution_count": 1,
   "metadata": {},
   "outputs": [],
   "source": [
    "import pandas as pd\n",
    "import matplotlib.pyplot as plt\n",
    "import numpy as np\n",
    "import re\n",
    "import os"
   ]
  },
  {
   "cell_type": "markdown",
   "metadata": {},
   "source": [
    "# 1. Loading data"
   ]
  },
  {
   "cell_type": "markdown",
   "metadata": {},
   "source": [
    "We're given two types of data, train.txt representst the ajacency matrix, while kmerfeats for human/viruses represent x, y respectively. Loading train.txt is straightforward, but we should split the others just to be clean"
   ]
  },
  {
   "cell_type": "markdown",
   "metadata": {},
   "source": [
    "### 1.1 Load train.csv"
   ]
  },
  {
   "cell_type": "code",
   "execution_count": 2,
   "metadata": {},
   "outputs": [],
   "source": [
    "df_train = pd.read_csv('data/old_data/train.txt', delimiter=' ', header=None, names=['node1', 'node2', 'edge'])"
   ]
  },
  {
   "cell_type": "code",
   "execution_count": 3,
   "metadata": {},
   "outputs": [
    {
     "data": {
      "text/html": [
       "<div>\n",
       "<style scoped>\n",
       "    .dataframe tbody tr th:only-of-type {\n",
       "        vertical-align: middle;\n",
       "    }\n",
       "\n",
       "    .dataframe tbody tr th {\n",
       "        vertical-align: top;\n",
       "    }\n",
       "\n",
       "    .dataframe thead th {\n",
       "        text-align: right;\n",
       "    }\n",
       "</style>\n",
       "<table border=\"1\" class=\"dataframe\">\n",
       "  <thead>\n",
       "    <tr style=\"text-align: right;\">\n",
       "      <th></th>\n",
       "      <th>node1</th>\n",
       "      <th>node2</th>\n",
       "      <th>edge</th>\n",
       "    </tr>\n",
       "  </thead>\n",
       "  <tbody>\n",
       "    <tr>\n",
       "      <th>0</th>\n",
       "      <td>151</td>\n",
       "      <td>2841</td>\n",
       "      <td>1</td>\n",
       "    </tr>\n",
       "    <tr>\n",
       "      <th>1</th>\n",
       "      <td>151</td>\n",
       "      <td>2874</td>\n",
       "      <td>1</td>\n",
       "    </tr>\n",
       "    <tr>\n",
       "      <th>2</th>\n",
       "      <td>151</td>\n",
       "      <td>780</td>\n",
       "      <td>1</td>\n",
       "    </tr>\n",
       "    <tr>\n",
       "      <th>3</th>\n",
       "      <td>151</td>\n",
       "      <td>1183</td>\n",
       "      <td>1</td>\n",
       "    </tr>\n",
       "    <tr>\n",
       "      <th>4</th>\n",
       "      <td>155</td>\n",
       "      <td>2346</td>\n",
       "      <td>1</td>\n",
       "    </tr>\n",
       "  </tbody>\n",
       "</table>\n",
       "</div>"
      ],
      "text/plain": [
       "   node1  node2  edge\n",
       "0    151   2841     1\n",
       "1    151   2874     1\n",
       "2    151    780     1\n",
       "3    151   1183     1\n",
       "4    155   2346     1"
      ]
     },
     "execution_count": 3,
     "metadata": {},
     "output_type": "execute_result"
    }
   ],
   "source": [
    "df_train.head()"
   ]
  },
  {
   "cell_type": "code",
   "execution_count": 4,
   "metadata": {},
   "outputs": [],
   "source": [
    "df_train.to_csv('data/train.csv', index=False)"
   ]
  },
  {
   "cell_type": "markdown",
   "metadata": {},
   "source": [
    "### 1.2 Split up human/virus kmerfeats\n",
    "\n",
    "We have three tasks: Influenza, hep C, Ebola. I plan to make three separate dataframes for each."
   ]
  },
  {
   "cell_type": "code",
   "execution_count": 5,
   "metadata": {},
   "outputs": [],
   "source": [
    "with open('./data/old_data/human_ids_kmerfeats.txt', mode='r') as h:\n",
    "    human_feats = h.read().split('\\n')[:-1] # read txt file as str and then split at newlines to create array\n",
    "\n",
    "with open('./data/old_data/virus_ids_kmerfeats.txt', mode='r') as v:\n",
    "    virus_feats = v.read().split('\\n')[: -1] #skip the last item which is just an empty line\n",
    "\n",
    "assert(len(human_feats) == 7210 and len(virus_feats) == 1108)"
   ]
  },
  {
   "cell_type": "markdown",
   "metadata": {},
   "source": [
    "The files are in a weird format, I'm not sure how to interact with. Exploring the data we find that\n",
    "human feats contain 7210 lines and each line is a key:value pair with keys going from 1 to 2799. This is the same case for virus feats, but instead of 7210, there's 1108"
   ]
  },
  {
   "cell_type": "code",
   "execution_count": 6,
   "metadata": {},
   "outputs": [
    {
     "data": {
      "text/plain": [
       "'1 1:0.5079 2:0.8413 3:0.4286 4:0.4603 5:0.4127 6:0.127 7:0.03175 8:0.9206 9:0.9841 10:0.6667 11:0.3492 12:0.4286 13:0.5397 14:0.03175 15:0.381 16:0.6667 17:0.3492 18:0.3016 19:0.1905 20:0.254 22:0.2381 23:0.619 24:0.254 25:0.1429 26:0.2063 27:0.1429 28:0.03175 29:0.4762 30:0.381 31:0.3175 32:0.1905 33:0.2698 34:0.1746 36:0.2857 37:0.4444 38:0.1111 39:0.1905 40:0.2381 41:0.2381 47:0.04762 48:0.01587 50:0.3889 51:0.4444 52:0.05556 53:0.3333 54:0.3333 57:0.6667 58:0.6667 59:0.6111 60:0.2222 61:0.3889 62:0.1111 64:0.05556 65:0.2222 66:0.1667 67:0.1667 68:0.1667 69:0.3889 71:0.1111 72:0.4444 73:0.1667 74:0.05556 75:0.2222 76:0.2222 77:0.05556 78:0.3889 79:0.05556 80:0.2778 81:0.1111 82:0.2222 83:0.1111 85:0.05556 89:0.1667 99:0.6111 100:0.8333 101:0.6667 102:0.5 103:0.2222 104:0.05556 106:0.9444 107:0.7222 108:0.2778 109:0.1111 110:0.2222 111:0.8333 113:0.3889 114:0.8889 115:0.2778 116:0.2222 117:0.1111 118:0.1667 120:0.3333 121:0.4444 122:0.05556 123:0.05556 124:0.05556 127:0.4444 128:0.2778 129:0.1667 130:0.1667 131:0.1111 132:0.05556 134:0.3333 135:0.5556 136:0.05556 137:0.2222 138:0.2222 139:0.2222 145:0.05556 148:0.05556 149:0.3889 150:0.1667 151:0.05556 152:0.3889 155:0.5556 156:0.5 157:0.3333 158:0.1111 159:0.2222 160:0.2778 162:0.2222 163:0.3889 164:0.1111 165:0.1667 167:0.05556 169:0.1111 170:0.2778 171:0.1667 173:0.1667 174:0.05556 176:0.1667 177:0.2222 181:0.05556 183:0.05556 184:0.2222 186:0.05556 187:0.05556 188:0.2222 198:0.1667 199:0.2222 200:0.05556 201:0.05556 204:0.3333 205:0.6667 206:0.4444 207:0.1667 208:0.1667 209:0.1111 211:0.2222 212:0.1111 213:0.1667 214:0.1111 219:0.1111 220:0.1111 221:0.05556 225:0.05556 226:0.2222 228:0.1111 229:0.05556 232:0.05556 233:0.2778 246:0.2778 247:0.6667 249:0.1667 250:0.1111 251:0.1111 253:0.2778 254:0.2778 255:0.1111 256:0.2222 257:0.1111 260:0.1667 261:0.2778 262:0.1111 263:0.1667 264:0.1111 268:0.2222 269:0.1111 271:0.1111 275:0.1111 276:0.3889 277:0.05556 278:0.1111 281:0.05556 283:0.05556 284:0.05556 285:0.1111 286:0.05556 295:0.1667 296:0.1667 297:0.1111 298:0.1667 299:0.05556 300:0.05556 302:0.1667 303:0.3333 304:0.2778 305:0.1111 306:0.1111 307:0.2778 310:0.1111 311:0.05556 316:0.1111 317:0.3333 319:0.05556 323:0.2222 324:0.1667 327:0.1111 328:0.1111 330:0.1667 331:0.1111 333:0.1111 334:0.05556 335:0.1111 372:0.05556 380:0.05556 393:0.1667 394:0.3333 397:0.1667 402:0.5 416:0.1667 417:0.1667 421:0.3333 442:0.3333 443:0.5 444:0.5 449:0.6667 450:0.1667 451:0.1667 454:0.1667 457:0.3333 458:0.3333 461:0.3333 463:0.1667 470:0.6667 471:0.1667 480:0.1667 498:0.3333 520:0.1667 526:0.1667 527:0.1667 531:0.1667 547:0.1667 548:0.3333 551:0.1667 557:0.1667 562:0.1667 576:0.1667 590:0.3333 604:0.1667 605:0.1667 612:0.1667 618:0.1667 621:0.1667 671:0.1667 736:0.3333 737:0.1667 738:0.1667 739:0.1667 740:0.3333 743:0.5 744:0.6667 745:0.1667 747:0.1667 748:0.1667 750:0.1667 751:0.3333 755:0.6667 758:0.6667 762:0.1667 764:0.3333 766:0.1667 785:0.1667 786:0.6667 787:0.6667 788:0.5 792:0.3333 793:0.3333 797:0.5 802:0.1667 814:0.1667 820:0.6667 821:0.5 824:0.1667 825:0.3333 835:0.1667 836:0.1667 838:0.3333 841:0.3333 842:0.5 843:0.5 845:0.1667 846:0.3333 849:0.1667 851:0.1667 856:0.1667 857:0.1667 874:0.1667 884:0.1667 885:0.3333 890:0.1667 892:0.3333 932:0.1667 933:0.5 942:0.1667 950:0.1667 981:0.1667 984:0.1667 986:0.1667 989:0.5 991:0.1667 993:0.1667 1003:0.1667 1013:0.1667 1016:0.1667 1021:0.1667 1058:0.1667 1086:0.1667 1087:0.3333 1088:0.1667 1094:0.1667 1107:0.1667 1110:0.1667 1111:0.1667 1129:0.6667 1130:0.1667 1131:0.3333 1135:0.3333 1136:0.6667 1143:0.6667 1150:0.1667 1158:0.1667 1159:0.1667 1164:0.3333 1179:0.1667 1184:0.1667 1185:0.1667 1188:0.3333 1202:0.3333 1227:0.1667 1234:0.3333 1240:0.1667 1257:0.1667 1262:0.1667 1276:0.3333 1282:0.3333 1333:0.5 1359:0.1667 1438:0.1667 1471:0.1667 1474:0.1667 1478:0.1667 1479:0.1667 1480:0.1667 1483:0.6667 1486:0.8333 1493:0.1667 1500:0.1667 1510:0.1667 1521:0.3333 1534:0.1667 1542:0.1667 1577:0.1667 1583:0.1667 1629:0.1667 1643:0.1667 1648:0.1667 1674:0.1667 1679:0.1667 1765:0.1667 1768:0.1667 1772:0.3333 1773:0.3333 1774:0.1667 1776:0.5 1795:0.1667 1814:0.3333 1816:0.1667 1821:0.1667 1826:0.1667 1828:0.1667 1835:0.1667 1836:0.3333 1844:0.1667 1867:0.3333 1873:0.1667 1878:0.1667 1884:0.1667 1920:0.3333 1941:0.1667 1970:0.1667 1975:0.1667 1976:0.3333 1991:0.1667 2039:0.1667 2109:0.1667 2115:0.1667 2127:0.1667 2130:0.1667 2161:0.1667 2164:0.3333 2169:0.1667 2171:0.3333 2172:0.1667 2193:0.5 2214:0.1667 2262:0.1667 2264:0.5 2279:0.1667 2305:0.1667 2312:0.3333 2355:0.1667 2375:0.1667 2381:0.1667 2799:1'"
      ]
     },
     "execution_count": 6,
     "metadata": {},
     "output_type": "execute_result"
    }
   ],
   "source": [
    "human_feats[0]"
   ]
  },
  {
   "cell_type": "code",
   "execution_count": 7,
   "metadata": {},
   "outputs": [
    {
     "data": {
      "text/plain": [
       "'2 1:0.9615 2:0.6154 3:0.8846 4:0.4231 5:0.5769 6:0.1923 7:0.03846 8:0.5385 9:0.6923 10:0.6923 11:0.4231 12:0.6154 13:0.4231 15:0.8462 16:0.7692 17:0.6154 18:0.3846 19:0.3846 20:0.7692 21:0.1154 22:0.4615 23:0.3846 24:0.4615 25:0.2308 26:0.3077 27:0.1538 29:0.6154 30:0.3462 31:0.8462 32:0.2308 33:0.2692 34:0.1538 36:0.2692 37:0.5385 38:0.3077 39:0.2308 40:0.3077 41:0.3077 45:0.03846 46:0.03846 50:0.5455 51:0.6364 52:0.1818 53:0.3636 54:0.1818 57:0.1818 58:0.09091 59:0.3636 61:0.09091 62:0.2727 64:0.4545 65:0.09091 66:0.5455 67:0.09091 68:0.09091 69:0.3636 71:0.09091 72:0.09091 73:0.1818 75:0.2727 78:0.09091 79:0.3636 80:0.3636 83:0.09091 88:0.09091 90:0.09091 99:0.1818 101:0.09091 102:0.1818 103:0.2727 106:0.2727 107:0.1818 108:0.09091 109:0.09091 110:0.5455 113:0.3636 114:0.5455 116:0.09091 118:0.1818 122:0.09091 123:0.1818 124:0.09091 125:0.1818 127:0.4545 128:0.1818 129:0.2727 131:0.2727 135:0.1818 138:0.1818 139:0.3636 148:0.9091 149:0.2727 150:0.2727 151:0.09091 155:0.09091 156:0.4545 157:0.2727 158:0.2727 160:0.2727 163:0.5455 165:0.09091 167:0.3636 169:0.2727 170:0.09091 174:0.09091 176:0.1818 178:0.1818 180:0.09091 183:0.1818 184:0.4545 185:0.4545 186:0.09091 187:0.09091 192:0.09091 199:0.2727 201:0.2727 202:0.1818 204:0.2727 205:0.09091 206:0.1818 207:0.09091 211:0.1818 214:0.1818 216:0.1818 218:0.09091 220:0.1818 225:0.1818 227:0.2727 228:0.09091 232:0.09091 235:0.09091 246:0.3636 247:0.1818 248:0.3636 250:0.09091 254:0.09091 255:0.1818 256:0.1818 260:0.4545 261:0.1818 262:0.2727 263:0.09091 264:0.2727 266:0.1818 268:0.1818 274:0.09091 276:0.2727 282:0.09091 297:0.3636 299:0.09091 303:0.1818 304:0.09091 306:0.5455 307:0.09091 311:0.1818 313:0.09091 314:0.1818 316:0.1818 317:0.09091 318:0.09091 325:0.1818 326:0.09091 328:0.09091 330:0.09091 331:0.1818 334:0.09091 393:0.75 395:0.25 402:0.25 405:0.5 415:0.25 418:0.25 446:0.25 456:0.25 457:0.25 478:0.25 482:0.25 491:0.75 506:0.75 527:0.75 570:0.25 589:0.25 598:0.25 603:0.25 604:0.25 659:0.25 737:0.25 766:0.5 809:0.25 813:0.5 814:0.25 834:0.25 837:0.25 842:0.25 844:0.25 846:0.25 906:0.5 934:0.5 936:0.25 950:0.25 962:0.25 1011:0.25 1017:0.25 1080:0.75 1082:0.75 1083:0.25 1098:0.5 1128:0.25 1135:0.5 1139:0.5 1142:0.25 1185:0.5 1214:0.5 1215:0.25 1228:0.5 1275:0.25 1328:0.25 1335:0.5 1340:0.25 1343:0.25 1438:0.25 1462:0.25 1474:0.5 1486:0.25 1520:0.25 1557:0.25 1586:0.25 1620:0.25 1669:0.25 1766:0.25 1779:0.5 1794:0.25 1824:0.25 1863:0.5 1864:0.25 1882:0.5 1893:0.25 1975:0.25 2124:0.5 2168:0.25 2185:0.25 2187:0.25 2189:0.25 2241:0.25 2259:0.25 2274:0.25 2355:0.25 2364:0.25 2799:1'"
      ]
     },
     "execution_count": 7,
     "metadata": {},
     "output_type": "execute_result"
    }
   ],
   "source": [
    "virus_feats[1]"
   ]
  },
  {
   "cell_type": "markdown",
   "metadata": {},
   "source": [
    "I believe this is supposed to be a matrix. human_feats is 7210 x 2799 while virus_feats is 1108 x 2799. We can easily make a dataframe for both with regex. Notice, however that while the keys are increasing, there are gaps: 2259 follows 2241 etc... We can also show this by looking at two different rows"
   ]
  },
  {
   "cell_type": "code",
   "execution_count": 8,
   "metadata": {},
   "outputs": [
    {
     "name": "stdout",
     "output_type": "stream",
     "text": [
      "416 116\n"
     ]
    }
   ],
   "source": [
    "print(len(human_feats[0].split()), len(human_feats[1].split()))"
   ]
  },
  {
   "cell_type": "markdown",
   "metadata": {},
   "source": [
    "We can make a dataframe with row_idx, col_idx, value for both"
   ]
  },
  {
   "cell_type": "code",
   "execution_count": 41,
   "metadata": {},
   "outputs": [],
   "source": [
    "def make_df(feature_list):\n",
    "    n = len(feature_list)\n",
    "    out = np.zeros((n, 2799))\n",
    "    key_pattern = re.compile('(\\d+):')\n",
    "#     val_pattern = re.compile(':(\\d+\\.\\d+)|:(\\d+)')\n",
    "    val_pattern = re.compile(':(\\d+\\.\\d+)')\n",
    "    data_dict = {'row':[], 'col':[], 'val': []}\n",
    "        \n",
    "    for i in range(n):\n",
    "        keys = key_pattern.findall(feature_list[i])\n",
    "        if '2799' in keys: keys.remove('2799')\n",
    "        vals = val_pattern.findall(feature_list[i])\n",
    "#         print(len(keys), len(vals))\n",
    "        assert(len(keys) == len(vals))\n",
    "#         vals = [m1 if m2 == '' else m2 for m1, m2 in vals]\n",
    "        \n",
    "        pairs = zip(keys, vals)\n",
    "        \n",
    "        for k,v in pairs:\n",
    "            data_dict['row'].append(i)\n",
    "            data_dict['col'].append(k)\n",
    "            data_dict['val'].append(v)\n",
    "            \n",
    "    return pd.DataFrame(data_dict)"
   ]
  },
  {
   "cell_type": "code",
   "execution_count": 46,
   "metadata": {},
   "outputs": [],
   "source": [
    "human_df = make_df(human_feats)\n",
    "virus_df = make_df(virus_feats)"
   ]
  },
  {
   "cell_type": "code",
   "execution_count": 48,
   "metadata": {},
   "outputs": [
    {
     "data": {
      "text/plain": [
       "1107"
      ]
     },
     "execution_count": 48,
     "metadata": {},
     "output_type": "execute_result"
    }
   ],
   "source": [
    "max(virus_df['row'])"
   ]
  },
  {
   "cell_type": "code",
   "execution_count": 43,
   "metadata": {},
   "outputs": [
    {
     "data": {
      "text/html": [
       "<div>\n",
       "<style scoped>\n",
       "    .dataframe tbody tr th:only-of-type {\n",
       "        vertical-align: middle;\n",
       "    }\n",
       "\n",
       "    .dataframe tbody tr th {\n",
       "        vertical-align: top;\n",
       "    }\n",
       "\n",
       "    .dataframe thead th {\n",
       "        text-align: right;\n",
       "    }\n",
       "</style>\n",
       "<table border=\"1\" class=\"dataframe\">\n",
       "  <thead>\n",
       "    <tr style=\"text-align: right;\">\n",
       "      <th></th>\n",
       "      <th>row</th>\n",
       "      <th>col</th>\n",
       "      <th>val</th>\n",
       "    </tr>\n",
       "  </thead>\n",
       "  <tbody>\n",
       "    <tr>\n",
       "      <th>0</th>\n",
       "      <td>0</td>\n",
       "      <td>1</td>\n",
       "      <td>0.5079</td>\n",
       "    </tr>\n",
       "    <tr>\n",
       "      <th>1</th>\n",
       "      <td>0</td>\n",
       "      <td>2</td>\n",
       "      <td>0.8413</td>\n",
       "    </tr>\n",
       "    <tr>\n",
       "      <th>2</th>\n",
       "      <td>0</td>\n",
       "      <td>3</td>\n",
       "      <td>0.4286</td>\n",
       "    </tr>\n",
       "    <tr>\n",
       "      <th>3</th>\n",
       "      <td>0</td>\n",
       "      <td>4</td>\n",
       "      <td>0.4603</td>\n",
       "    </tr>\n",
       "    <tr>\n",
       "      <th>4</th>\n",
       "      <td>0</td>\n",
       "      <td>5</td>\n",
       "      <td>0.4127</td>\n",
       "    </tr>\n",
       "  </tbody>\n",
       "</table>\n",
       "</div>"
      ],
      "text/plain": [
       "   row col     val\n",
       "0    0   1  0.5079\n",
       "1    0   2  0.8413\n",
       "2    0   3  0.4286\n",
       "3    0   4  0.4603\n",
       "4    0   5  0.4127"
      ]
     },
     "execution_count": 43,
     "metadata": {},
     "output_type": "execute_result"
    }
   ],
   "source": [
    "human_df.head()"
   ]
  },
  {
   "cell_type": "code",
   "execution_count": 44,
   "metadata": {},
   "outputs": [
    {
     "data": {
      "text/html": [
       "<div>\n",
       "<style scoped>\n",
       "    .dataframe tbody tr th:only-of-type {\n",
       "        vertical-align: middle;\n",
       "    }\n",
       "\n",
       "    .dataframe tbody tr th {\n",
       "        vertical-align: top;\n",
       "    }\n",
       "\n",
       "    .dataframe thead th {\n",
       "        text-align: right;\n",
       "    }\n",
       "</style>\n",
       "<table border=\"1\" class=\"dataframe\">\n",
       "  <thead>\n",
       "    <tr style=\"text-align: right;\">\n",
       "      <th></th>\n",
       "      <th>row</th>\n",
       "      <th>col</th>\n",
       "      <th>val</th>\n",
       "    </tr>\n",
       "  </thead>\n",
       "  <tbody>\n",
       "    <tr>\n",
       "      <th>0</th>\n",
       "      <td>0</td>\n",
       "      <td>1</td>\n",
       "      <td>0.8056</td>\n",
       "    </tr>\n",
       "    <tr>\n",
       "      <th>1</th>\n",
       "      <td>0</td>\n",
       "      <td>2</td>\n",
       "      <td>0.6667</td>\n",
       "    </tr>\n",
       "    <tr>\n",
       "      <th>2</th>\n",
       "      <td>0</td>\n",
       "      <td>3</td>\n",
       "      <td>0.4722</td>\n",
       "    </tr>\n",
       "    <tr>\n",
       "      <th>3</th>\n",
       "      <td>0</td>\n",
       "      <td>4</td>\n",
       "      <td>0.05556</td>\n",
       "    </tr>\n",
       "    <tr>\n",
       "      <th>4</th>\n",
       "      <td>0</td>\n",
       "      <td>5</td>\n",
       "      <td>0.2222</td>\n",
       "    </tr>\n",
       "  </tbody>\n",
       "</table>\n",
       "</div>"
      ],
      "text/plain": [
       "   row col      val\n",
       "0    0   1   0.8056\n",
       "1    0   2   0.6667\n",
       "2    0   3   0.4722\n",
       "3    0   4  0.05556\n",
       "4    0   5   0.2222"
      ]
     },
     "execution_count": 44,
     "metadata": {},
     "output_type": "execute_result"
    }
   ],
   "source": [
    "virus_df.head()"
   ]
  },
  {
   "cell_type": "code",
   "execution_count": 45,
   "metadata": {},
   "outputs": [],
   "source": [
    "human_df.to_csv('human_feats.csv', index=False)\n",
    "virus_df.to_csv('virus_feats.csv', index=False)"
   ]
  },
  {
   "cell_type": "code",
   "execution_count": null,
   "metadata": {},
   "outputs": [],
   "source": []
  },
  {
   "cell_type": "code",
   "execution_count": null,
   "metadata": {},
   "outputs": [],
   "source": []
  }
 ],
 "metadata": {
  "kernelspec": {
   "display_name": "Python deeplearning",
   "language": "python",
   "name": "deeplearning"
  },
  "language_info": {
   "codemirror_mode": {
    "name": "ipython",
    "version": 3
   },
   "file_extension": ".py",
   "mimetype": "text/x-python",
   "name": "python",
   "nbconvert_exporter": "python",
   "pygments_lexer": "ipython3",
   "version": "3.6.8"
  }
 },
 "nbformat": 4,
 "nbformat_minor": 2
}
