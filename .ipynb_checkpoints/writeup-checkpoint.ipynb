{
 "cells": [
  {
   "cell_type": "markdown",
   "metadata": {},
   "source": [
    "## 1. Background"
   ]
  },
  {
   "cell_type": "markdown",
   "metadata": {},
   "source": [
    "### 1.1 Introduction"
   ]
  },
  {
   "cell_type": "markdown",
   "metadata": {},
   "source": [
    "Genetic interactions between two genes occur when the allele of one gene combines with another. This combination could result in synthetic lethality which occurs when two mutations who are non lethal by themselves, combine and cause lethality. Synthetic lethality based cancer therapies has shown promising results, but gene pairs with synthetic lethal interactions are hard to identify. Mapping genetic interaction networks could enable identifiaction of synthetic lethal gene pairs, but proves very difficult. This paper seeks to investigate a potential extension of a multitask matrix completion method for Protein-Protein Interactions to genetic interactions.\n",
    "\n",
    "The paper “Multitask matrix completion for learning protein interactions across diseases” by Kshirsagar et al.. shows that it’s possible to predict protein-protein interactions between pathogen and host proteins. When pathogens infect host cells, they introduce their own proteins to interact with host cell proteins hijacking the host cell's mechanisms. Host and pathogen PPI networks then follow the structure of an undirected bipartite graph. Because of this graph structure, the problem of predicting PPI can then be formulated as a graph completion problem where new interactions are predicted based on prior observed interactions.\n",
    "\n",
    "This problem formulation comes with the cold start problem where there isn’t enough prior information (observed edges) to produce quality predictions (predict never before seen interactions). This problem is exacerbated in this setting because of the lack of data. For any single disease, protein protein interactions are rarely observed, making the interaction networks very sparse to begin with. For example. the PPI dataset for Hepatitis contains only 1% positive interactions.\n",
    "\n",
    "To combat this, Kshirsagar used bi-linear matrix factorization using side features in a multi-task setting. Matrix factorization is an approach for the matrix completion problem where a matrix $M$ is decomposed to its low rank factors UV. This is an answer to the cold start problem because for any arbitrary entry in $M, x_i,$ can be calculated through the function $f(x_i) = U_i * V_i$, requiring very little prior information. Kshirsagar uses a form of matrix factorization called bilinear matrix factorization where two side feature vectors, $p_i, q_i$ are multiplied to the low rank factorization making the function for predicting any arbitrary $x_i$ $f(x_i) = p_iU_iV_iq_i$. Because of the extreme sparsity of the interaction networks, these side features provide crucial information. Finally, the multi-task setting refers to leveraging shared infection mechanisms among different virus species (tasks) evolved from a common ancestor. \n"
   ]
  },
  {
   "cell_type": "markdown",
   "metadata": {},
   "source": [
    "### 1.2 Matrix Factorization:"
   ]
  },
  {
   "cell_type": "markdown",
   "metadata": {},
   "source": [
    "### 1.3 Bilinear Matrix Factorization: TODO"
   ]
  },
  {
   "cell_type": "markdown",
   "metadata": {},
   "source": [
    "## 2. Methods"
   ]
  },
  {
   "cell_type": "markdown",
   "metadata": {},
   "source": [
    "### 2.1 Data Set"
   ]
  },
  {
   "cell_type": "markdown",
   "metadata": {},
   "source": [
    "I used three different virus/human Protein Protein Interactions datasets from PHISTO - Pathogen Host Interaction Tool. The three different viruses were Ebola, Hepatitis C, and Influenza A. Details about the dataset are summarized below"
   ]
  },
  {
   "cell_type": "markdown",
   "metadata": {},
   "source": [
    "| **Tasks --->**                      | Influenza A | Hepatitis C | Ebola | \n",
    "|-----------------------------------|-------------|-------      |-------|\n",
    "| No. Positive Protein Interactions | 10244       | 1787      | 161 |\n",
    "| No. of unique virus proteins      | 203       |174      | 7|\n",
    "| No. of unique human proteins      | 2727       |1002      | 151|\n",
    "| No. Negative Protein Interactions | 543337       |172561      | 896 |\n",
    "| Density of graph                  | .019       |.010      | .169|"
   ]
  },
  {
   "cell_type": "markdown",
   "metadata": {},
   "source": [
    "### 2.2 Side Features"
   ]
  },
  {
   "cell_type": "markdown",
   "metadata": {},
   "source": [
    "Khrishagar uses a version of conjoint triad featurization to represent the side features. Conjoint triad featurization was introduced by Shen et al to predict PPI using only sequences information. This featurization categorizes the 20 amino acids based on amino acid dipoles, and volume of amino acid side chains.  Dipoles are calculated using the method B3LYP/6-31G* while volumes of side chains of amino acids are calculated through a molecular modeling approach. The takeaway is that amino acids in the same class  - and hence similar in the two parameters above - will produce similar mutations and consequently similar protein bindings). These are the groupings (from the paper) that I will be using.\n",
    "\n",
    "| Group 1       | Group 2 | Group 3 | Group 4 | Group 5 | Group 6 | Group 7|\n",
    "|---------------|---------|---------|---------|---------|---------|--------|\n",
    "| Ala, Gly, Val |  Ile, Leu, Phe, Pro  | Tyr, Met, Thr, Ser | His, Asn, Gln, Tpr| Arg, Lys|Asp, Glu| Cys|\n",
    "| A, G, V| I, F, L, P | Y, M, T, S | H, N, Q, W | R, K | D, E | C"
   ]
  },
  {
   "cell_type": "markdown",
   "metadata": {},
   "source": [
    "<p>Given a sequence of amino acids, each amino acid is replaced by its group number. For example, the amino acid sequence 'MSTNPKPQRK' will be encoded to'3334252455'. From this encoding we then create two feature spaces $V, F$. $V$ represents the feature space of every possible three neighboring amino acids, while $F$ represents the count of each instance in $V$.</p>\n",
    "\n",
    "<center> <img width=500px src='./ctf.png'></center>\n",
    "\n",
    "<p> After calculating $V, F$, a new vector space $D$ is calculated. $D$ is a normalization of $F$ with $$d_i = \\frac{f_i  - min(f_1, f_2, f_3, ..., f_{343})}{max(f_1, f_2, f_3, ..., f_{343})} $$"
   ]
  },
  {
   "cell_type": "markdown",
   "metadata": {},
   "source": [
    "Khirshagar uses a slightly modified version of this featurization where the feature space V is calculated for every 2/3/4 possible neighbors such that we end up with three different $V$'s $F$'s: $\\in \\mathbb{R}^{7^2},\\in \\mathbb{R}^{7^3}, \\in \\mathbb{R}^{7^4},$ The final side feature for a single sequence  is a concatenation of the three resulting normalized $F$. Formally, for some amino acid sequence, $S$, the final featurization is as follows:\n",
    "\n",
    "$$D_s = D^{7^2} \\oplus D^{7^3} \\oplus D^{7^4}$$"
   ]
  },
  {
   "cell_type": "markdown",
   "metadata": {},
   "source": [
    "### 2.3 Experimental Setup"
   ]
  },
  {
   "cell_type": "markdown",
   "metadata": {},
   "source": [
    "#### Matrix Factorization Comparison"
   ]
  },
  {
   "cell_type": "markdown",
   "metadata": {},
   "source": [
    "#### Evaluation"
   ]
  },
  {
   "cell_type": "markdown",
   "metadata": {},
   "source": [
    "## 3. Results: TODO"
   ]
  },
  {
   "cell_type": "markdown",
   "metadata": {},
   "source": [
    "## 4. Conclusion: TODO"
   ]
  },
  {
   "cell_type": "markdown",
   "metadata": {},
   "source": [
    "## 5. Discussion: TODO"
   ]
  }
 ],
 "metadata": {
  "kernelspec": {
   "display_name": "Python 3",
   "language": "python",
   "name": "python3"
  },
  "language_info": {
   "codemirror_mode": {
    "name": "ipython",
    "version": 3
   },
   "file_extension": ".py",
   "mimetype": "text/x-python",
   "name": "python",
   "nbconvert_exporter": "python",
   "pygments_lexer": "ipython3",
   "version": "3.7.1"
  }
 },
 "nbformat": 4,
 "nbformat_minor": 2
}
