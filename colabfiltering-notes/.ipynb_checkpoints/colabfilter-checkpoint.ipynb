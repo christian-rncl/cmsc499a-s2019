{
 "cells": [
  {
   "cell_type": "markdown",
   "metadata": {},
   "source": [
    "# Collaborative Filtering / Low rank matrix factoriaztion\n",
    "## Christian Roncal 499A\n",
    "\n",
    "Demonstration/Study of low rank matrix factorization colab filtering on movielens dataset"
   ]
  },
  {
   "cell_type": "code",
   "execution_count": 1,
   "metadata": {},
   "outputs": [],
   "source": [
    "import pandas as pd\n",
    "import matplotlib.pyplot as pltf\n",
    "import numpy as np\n",
    "import os"
   ]
  },
  {
   "cell_type": "markdown",
   "metadata": {},
   "source": [
    "# 1 Load / Shape data -- skip\n",
    "\n",
    "Massage data to play with. Create a matrix with rows representing users and cols representing movies"
   ]
  },
  {
   "cell_type": "code",
   "execution_count": 2,
   "metadata": {},
   "outputs": [
    {
     "data": {
      "text/plain": [
       "['ratings.csv', 'README.txt', 'tags.csv', 'movies.csv', 'links.csv']"
      ]
     },
     "execution_count": 2,
     "metadata": {},
     "output_type": "execute_result"
    }
   ],
   "source": [
    "path = 'data/ml-latest-small/'\n",
    "os.listdir(path)"
   ]
  },
  {
   "cell_type": "markdown",
   "metadata": {},
   "source": [
    "We have multiple csv files. We're interested in predicting movies and user ratings.\n",
    "Just need ratings."
   ]
  },
  {
   "cell_type": "code",
   "execution_count": 3,
   "metadata": {},
   "outputs": [],
   "source": [
    "ratings_df = pd.read_csv(path+'/ratings.csv')"
   ]
  },
  {
   "cell_type": "code",
   "execution_count": 5,
   "metadata": {},
   "outputs": [
    {
     "data": {
      "text/html": [
       "<div>\n",
       "<style scoped>\n",
       "    .dataframe tbody tr th:only-of-type {\n",
       "        vertical-align: middle;\n",
       "    }\n",
       "\n",
       "    .dataframe tbody tr th {\n",
       "        vertical-align: top;\n",
       "    }\n",
       "\n",
       "    .dataframe thead th {\n",
       "        text-align: right;\n",
       "    }\n",
       "</style>\n",
       "<table border=\"1\" class=\"dataframe\">\n",
       "  <thead>\n",
       "    <tr style=\"text-align: right;\">\n",
       "      <th></th>\n",
       "      <th>userId</th>\n",
       "      <th>movieId</th>\n",
       "      <th>rating</th>\n",
       "      <th>timestamp</th>\n",
       "    </tr>\n",
       "  </thead>\n",
       "  <tbody>\n",
       "    <tr>\n",
       "      <th>0</th>\n",
       "      <td>1</td>\n",
       "      <td>1</td>\n",
       "      <td>4.0</td>\n",
       "      <td>964982703</td>\n",
       "    </tr>\n",
       "    <tr>\n",
       "      <th>1</th>\n",
       "      <td>1</td>\n",
       "      <td>3</td>\n",
       "      <td>4.0</td>\n",
       "      <td>964981247</td>\n",
       "    </tr>\n",
       "    <tr>\n",
       "      <th>2</th>\n",
       "      <td>1</td>\n",
       "      <td>6</td>\n",
       "      <td>4.0</td>\n",
       "      <td>964982224</td>\n",
       "    </tr>\n",
       "    <tr>\n",
       "      <th>3</th>\n",
       "      <td>1</td>\n",
       "      <td>47</td>\n",
       "      <td>5.0</td>\n",
       "      <td>964983815</td>\n",
       "    </tr>\n",
       "    <tr>\n",
       "      <th>4</th>\n",
       "      <td>1</td>\n",
       "      <td>50</td>\n",
       "      <td>5.0</td>\n",
       "      <td>964982931</td>\n",
       "    </tr>\n",
       "  </tbody>\n",
       "</table>\n",
       "</div>"
      ],
      "text/plain": [
       "   userId  movieId  rating  timestamp\n",
       "0       1        1     4.0  964982703\n",
       "1       1        3     4.0  964981247\n",
       "2       1        6     4.0  964982224\n",
       "3       1       47     5.0  964983815\n",
       "4       1       50     5.0  964982931"
      ]
     },
     "execution_count": 5,
     "metadata": {},
     "output_type": "execute_result"
    }
   ],
   "source": [
    "ratings_df.head()"
   ]
  },
  {
   "cell_type": "code",
   "execution_count": 4,
   "metadata": {},
   "outputs": [
    {
     "data": {
      "text/html": [
       "<div>\n",
       "<style scoped>\n",
       "    .dataframe tbody tr th:only-of-type {\n",
       "        vertical-align: middle;\n",
       "    }\n",
       "\n",
       "    .dataframe tbody tr th {\n",
       "        vertical-align: top;\n",
       "    }\n",
       "\n",
       "    .dataframe thead th {\n",
       "        text-align: right;\n",
       "    }\n",
       "</style>\n",
       "<table border=\"1\" class=\"dataframe\">\n",
       "  <thead>\n",
       "    <tr style=\"text-align: right;\">\n",
       "      <th>movieId</th>\n",
       "      <th>110</th>\n",
       "      <th>260</th>\n",
       "      <th>296</th>\n",
       "      <th>318</th>\n",
       "      <th>356</th>\n",
       "      <th>480</th>\n",
       "      <th>527</th>\n",
       "      <th>589</th>\n",
       "      <th>593</th>\n",
       "      <th>2571</th>\n",
       "    </tr>\n",
       "    <tr>\n",
       "      <th>userId</th>\n",
       "      <th></th>\n",
       "      <th></th>\n",
       "      <th></th>\n",
       "      <th></th>\n",
       "      <th></th>\n",
       "      <th></th>\n",
       "      <th></th>\n",
       "      <th></th>\n",
       "      <th></th>\n",
       "      <th></th>\n",
       "    </tr>\n",
       "  </thead>\n",
       "  <tbody>\n",
       "    <tr>\n",
       "      <th>68</th>\n",
       "      <td>2.5</td>\n",
       "      <td>5.0</td>\n",
       "      <td>2.0</td>\n",
       "      <td>3.0</td>\n",
       "      <td>3.5</td>\n",
       "      <td>3.5</td>\n",
       "      <td>4.0</td>\n",
       "      <td>3.5</td>\n",
       "      <td>3.5</td>\n",
       "      <td>4.5</td>\n",
       "    </tr>\n",
       "    <tr>\n",
       "      <th>274</th>\n",
       "      <td>4.5</td>\n",
       "      <td>3.0</td>\n",
       "      <td>5.0</td>\n",
       "      <td>4.5</td>\n",
       "      <td>4.5</td>\n",
       "      <td>3.5</td>\n",
       "      <td>4.0</td>\n",
       "      <td>4.5</td>\n",
       "      <td>4.0</td>\n",
       "      <td>4.0</td>\n",
       "    </tr>\n",
       "    <tr>\n",
       "      <th>288</th>\n",
       "      <td>5.0</td>\n",
       "      <td>5.0</td>\n",
       "      <td>5.0</td>\n",
       "      <td>5.0</td>\n",
       "      <td>5.0</td>\n",
       "      <td>2.0</td>\n",
       "      <td>5.0</td>\n",
       "      <td>4.0</td>\n",
       "      <td>5.0</td>\n",
       "      <td>3.0</td>\n",
       "    </tr>\n",
       "    <tr>\n",
       "      <th>380</th>\n",
       "      <td>4.0</td>\n",
       "      <td>5.0</td>\n",
       "      <td>5.0</td>\n",
       "      <td>3.0</td>\n",
       "      <td>5.0</td>\n",
       "      <td>5.0</td>\n",
       "      <td>NaN</td>\n",
       "      <td>5.0</td>\n",
       "      <td>5.0</td>\n",
       "      <td>4.5</td>\n",
       "    </tr>\n",
       "    <tr>\n",
       "      <th>414</th>\n",
       "      <td>5.0</td>\n",
       "      <td>5.0</td>\n",
       "      <td>5.0</td>\n",
       "      <td>5.0</td>\n",
       "      <td>5.0</td>\n",
       "      <td>4.0</td>\n",
       "      <td>4.0</td>\n",
       "      <td>5.0</td>\n",
       "      <td>4.0</td>\n",
       "      <td>5.0</td>\n",
       "    </tr>\n",
       "    <tr>\n",
       "      <th>448</th>\n",
       "      <td>NaN</td>\n",
       "      <td>5.0</td>\n",
       "      <td>5.0</td>\n",
       "      <td>NaN</td>\n",
       "      <td>3.0</td>\n",
       "      <td>3.0</td>\n",
       "      <td>NaN</td>\n",
       "      <td>3.0</td>\n",
       "      <td>5.0</td>\n",
       "      <td>2.0</td>\n",
       "    </tr>\n",
       "    <tr>\n",
       "      <th>474</th>\n",
       "      <td>3.0</td>\n",
       "      <td>4.0</td>\n",
       "      <td>4.0</td>\n",
       "      <td>5.0</td>\n",
       "      <td>3.0</td>\n",
       "      <td>4.5</td>\n",
       "      <td>5.0</td>\n",
       "      <td>4.0</td>\n",
       "      <td>4.5</td>\n",
       "      <td>4.5</td>\n",
       "    </tr>\n",
       "    <tr>\n",
       "      <th>599</th>\n",
       "      <td>3.5</td>\n",
       "      <td>5.0</td>\n",
       "      <td>5.0</td>\n",
       "      <td>4.0</td>\n",
       "      <td>3.5</td>\n",
       "      <td>4.0</td>\n",
       "      <td>NaN</td>\n",
       "      <td>4.5</td>\n",
       "      <td>3.0</td>\n",
       "      <td>5.0</td>\n",
       "    </tr>\n",
       "    <tr>\n",
       "      <th>606</th>\n",
       "      <td>3.5</td>\n",
       "      <td>4.5</td>\n",
       "      <td>5.0</td>\n",
       "      <td>3.5</td>\n",
       "      <td>4.0</td>\n",
       "      <td>2.5</td>\n",
       "      <td>5.0</td>\n",
       "      <td>3.5</td>\n",
       "      <td>4.5</td>\n",
       "      <td>5.0</td>\n",
       "    </tr>\n",
       "    <tr>\n",
       "      <th>610</th>\n",
       "      <td>4.5</td>\n",
       "      <td>5.0</td>\n",
       "      <td>5.0</td>\n",
       "      <td>3.0</td>\n",
       "      <td>3.0</td>\n",
       "      <td>5.0</td>\n",
       "      <td>3.5</td>\n",
       "      <td>5.0</td>\n",
       "      <td>4.5</td>\n",
       "      <td>5.0</td>\n",
       "    </tr>\n",
       "  </tbody>\n",
       "</table>\n",
       "</div>"
      ],
      "text/plain": [
       "movieId  110   260   296   318   356   480   527   589   593   2571\n",
       "userId                                                             \n",
       "68        2.5   5.0   2.0   3.0   3.5   3.5   4.0   3.5   3.5   4.5\n",
       "274       4.5   3.0   5.0   4.5   4.5   3.5   4.0   4.5   4.0   4.0\n",
       "288       5.0   5.0   5.0   5.0   5.0   2.0   5.0   4.0   5.0   3.0\n",
       "380       4.0   5.0   5.0   3.0   5.0   5.0   NaN   5.0   5.0   4.5\n",
       "414       5.0   5.0   5.0   5.0   5.0   4.0   4.0   5.0   4.0   5.0\n",
       "448       NaN   5.0   5.0   NaN   3.0   3.0   NaN   3.0   5.0   2.0\n",
       "474       3.0   4.0   4.0   5.0   3.0   4.5   5.0   4.0   4.5   4.5\n",
       "599       3.5   5.0   5.0   4.0   3.5   4.0   NaN   4.5   3.0   5.0\n",
       "606       3.5   4.5   5.0   3.5   4.0   2.5   5.0   3.5   4.5   5.0\n",
       "610       4.5   5.0   5.0   3.0   3.0   5.0   3.5   5.0   4.5   5.0"
      ]
     },
     "execution_count": 4,
     "metadata": {},
     "output_type": "execute_result"
    }
   ],
   "source": [
    "N = 10 #top N\n",
    "\n",
    "# stolen from: https://github.com/fastai/fastai/blob/master/courses/dl1/lesson5-movielens.ipynb\n",
    "g=ratings_df.groupby('userId')['rating'].count()\n",
    "topUsers=g.sort_values(ascending=False)[:N]\n",
    "\n",
    "g=ratings_df.groupby('movieId')['rating'].count()\n",
    "topMovies=g.sort_values(ascending=False)[:N]\n",
    "\n",
    "top_r = ratings_df.join(topUsers, rsuffix='_r', how='inner', on='userId')\n",
    "top_r = top_r.join(topMovies, rsuffix='_r', how='inner', on='movieId')\n",
    "\n",
    "crosstab = pd.crosstab(top_r.userId, top_r.movieId, top_r.rating, aggfunc=np.sum)\n",
    "crosstab"
   ]
  },
  {
   "cell_type": "markdown",
   "metadata": {},
   "source": [
    "Great, let's make it easier to work with by replacing the NaNs with 0s"
   ]
  },
  {
   "cell_type": "code",
   "execution_count": 5,
   "metadata": {},
   "outputs": [
    {
     "data": {
      "text/html": [
       "<div>\n",
       "<style scoped>\n",
       "    .dataframe tbody tr th:only-of-type {\n",
       "        vertical-align: middle;\n",
       "    }\n",
       "\n",
       "    .dataframe tbody tr th {\n",
       "        vertical-align: top;\n",
       "    }\n",
       "\n",
       "    .dataframe thead th {\n",
       "        text-align: right;\n",
       "    }\n",
       "</style>\n",
       "<table border=\"1\" class=\"dataframe\">\n",
       "  <thead>\n",
       "    <tr style=\"text-align: right;\">\n",
       "      <th>movieId</th>\n",
       "      <th>110</th>\n",
       "      <th>260</th>\n",
       "      <th>296</th>\n",
       "      <th>318</th>\n",
       "      <th>356</th>\n",
       "      <th>480</th>\n",
       "      <th>527</th>\n",
       "      <th>589</th>\n",
       "      <th>593</th>\n",
       "      <th>2571</th>\n",
       "    </tr>\n",
       "    <tr>\n",
       "      <th>userId</th>\n",
       "      <th></th>\n",
       "      <th></th>\n",
       "      <th></th>\n",
       "      <th></th>\n",
       "      <th></th>\n",
       "      <th></th>\n",
       "      <th></th>\n",
       "      <th></th>\n",
       "      <th></th>\n",
       "      <th></th>\n",
       "    </tr>\n",
       "  </thead>\n",
       "  <tbody>\n",
       "    <tr>\n",
       "      <th>68</th>\n",
       "      <td>2.5</td>\n",
       "      <td>5.0</td>\n",
       "      <td>2.0</td>\n",
       "      <td>3.0</td>\n",
       "      <td>3.5</td>\n",
       "      <td>3.5</td>\n",
       "      <td>4.0</td>\n",
       "      <td>3.5</td>\n",
       "      <td>3.5</td>\n",
       "      <td>4.5</td>\n",
       "    </tr>\n",
       "    <tr>\n",
       "      <th>274</th>\n",
       "      <td>4.5</td>\n",
       "      <td>3.0</td>\n",
       "      <td>5.0</td>\n",
       "      <td>4.5</td>\n",
       "      <td>4.5</td>\n",
       "      <td>3.5</td>\n",
       "      <td>4.0</td>\n",
       "      <td>4.5</td>\n",
       "      <td>4.0</td>\n",
       "      <td>4.0</td>\n",
       "    </tr>\n",
       "    <tr>\n",
       "      <th>288</th>\n",
       "      <td>5.0</td>\n",
       "      <td>5.0</td>\n",
       "      <td>5.0</td>\n",
       "      <td>5.0</td>\n",
       "      <td>5.0</td>\n",
       "      <td>2.0</td>\n",
       "      <td>5.0</td>\n",
       "      <td>4.0</td>\n",
       "      <td>5.0</td>\n",
       "      <td>3.0</td>\n",
       "    </tr>\n",
       "    <tr>\n",
       "      <th>380</th>\n",
       "      <td>4.0</td>\n",
       "      <td>5.0</td>\n",
       "      <td>5.0</td>\n",
       "      <td>3.0</td>\n",
       "      <td>5.0</td>\n",
       "      <td>5.0</td>\n",
       "      <td>0.0</td>\n",
       "      <td>5.0</td>\n",
       "      <td>5.0</td>\n",
       "      <td>4.5</td>\n",
       "    </tr>\n",
       "    <tr>\n",
       "      <th>414</th>\n",
       "      <td>5.0</td>\n",
       "      <td>5.0</td>\n",
       "      <td>5.0</td>\n",
       "      <td>5.0</td>\n",
       "      <td>5.0</td>\n",
       "      <td>4.0</td>\n",
       "      <td>4.0</td>\n",
       "      <td>5.0</td>\n",
       "      <td>4.0</td>\n",
       "      <td>5.0</td>\n",
       "    </tr>\n",
       "    <tr>\n",
       "      <th>448</th>\n",
       "      <td>0.0</td>\n",
       "      <td>5.0</td>\n",
       "      <td>5.0</td>\n",
       "      <td>0.0</td>\n",
       "      <td>3.0</td>\n",
       "      <td>3.0</td>\n",
       "      <td>0.0</td>\n",
       "      <td>3.0</td>\n",
       "      <td>5.0</td>\n",
       "      <td>2.0</td>\n",
       "    </tr>\n",
       "    <tr>\n",
       "      <th>474</th>\n",
       "      <td>3.0</td>\n",
       "      <td>4.0</td>\n",
       "      <td>4.0</td>\n",
       "      <td>5.0</td>\n",
       "      <td>3.0</td>\n",
       "      <td>4.5</td>\n",
       "      <td>5.0</td>\n",
       "      <td>4.0</td>\n",
       "      <td>4.5</td>\n",
       "      <td>4.5</td>\n",
       "    </tr>\n",
       "    <tr>\n",
       "      <th>599</th>\n",
       "      <td>3.5</td>\n",
       "      <td>5.0</td>\n",
       "      <td>5.0</td>\n",
       "      <td>4.0</td>\n",
       "      <td>3.5</td>\n",
       "      <td>4.0</td>\n",
       "      <td>0.0</td>\n",
       "      <td>4.5</td>\n",
       "      <td>3.0</td>\n",
       "      <td>5.0</td>\n",
       "    </tr>\n",
       "    <tr>\n",
       "      <th>606</th>\n",
       "      <td>3.5</td>\n",
       "      <td>4.5</td>\n",
       "      <td>5.0</td>\n",
       "      <td>3.5</td>\n",
       "      <td>4.0</td>\n",
       "      <td>2.5</td>\n",
       "      <td>5.0</td>\n",
       "      <td>3.5</td>\n",
       "      <td>4.5</td>\n",
       "      <td>5.0</td>\n",
       "    </tr>\n",
       "    <tr>\n",
       "      <th>610</th>\n",
       "      <td>4.5</td>\n",
       "      <td>5.0</td>\n",
       "      <td>5.0</td>\n",
       "      <td>3.0</td>\n",
       "      <td>3.0</td>\n",
       "      <td>5.0</td>\n",
       "      <td>3.5</td>\n",
       "      <td>5.0</td>\n",
       "      <td>4.5</td>\n",
       "      <td>5.0</td>\n",
       "    </tr>\n",
       "  </tbody>\n",
       "</table>\n",
       "</div>"
      ],
      "text/plain": [
       "movieId  110   260   296   318   356   480   527   589   593   2571\n",
       "userId                                                             \n",
       "68        2.5   5.0   2.0   3.0   3.5   3.5   4.0   3.5   3.5   4.5\n",
       "274       4.5   3.0   5.0   4.5   4.5   3.5   4.0   4.5   4.0   4.0\n",
       "288       5.0   5.0   5.0   5.0   5.0   2.0   5.0   4.0   5.0   3.0\n",
       "380       4.0   5.0   5.0   3.0   5.0   5.0   0.0   5.0   5.0   4.5\n",
       "414       5.0   5.0   5.0   5.0   5.0   4.0   4.0   5.0   4.0   5.0\n",
       "448       0.0   5.0   5.0   0.0   3.0   3.0   0.0   3.0   5.0   2.0\n",
       "474       3.0   4.0   4.0   5.0   3.0   4.5   5.0   4.0   4.5   4.5\n",
       "599       3.5   5.0   5.0   4.0   3.5   4.0   0.0   4.5   3.0   5.0\n",
       "606       3.5   4.5   5.0   3.5   4.0   2.5   5.0   3.5   4.5   5.0\n",
       "610       4.5   5.0   5.0   3.0   3.0   5.0   3.5   5.0   4.5   5.0"
      ]
     },
     "execution_count": 5,
     "metadata": {},
     "output_type": "execute_result"
    }
   ],
   "source": [
    "crosstab = crosstab.fillna(0)\n",
    "crosstab"
   ]
  },
  {
   "cell_type": "code",
   "execution_count": 6,
   "metadata": {},
   "outputs": [],
   "source": [
    "M = crosstab.values"
   ]
  },
  {
   "cell_type": "markdown",
   "metadata": {},
   "source": [
    "# 2 Collaborative Filtering through low rank matrix factorization"
   ]
  },
  {
   "cell_type": "markdown",
   "metadata": {},
   "source": [
    "## Collaborative Filtering Concept"
   ]
  },
  {
   "cell_type": "markdown",
   "metadata": {},
   "source": [
    "<mark>Collaborative filtering is an algorithm to learn 'latent' features in an interaction between two things.</mark> It's an algorithm that can discover a pattern or reasoning between interactions. In this toy example, it's the interaction between the top 30 'busiest' users and the top 30 movies from the downloaded dataset.\n",
    "\n",
    "<mark>Ultimately we want to use the learned latent features to predict interactions (nans in the array above or future/unseen interactions).</mark>"
   ]
  },
  {
   "cell_type": "markdown",
   "metadata": {},
   "source": [
    "## Low rank matrix factorization"
   ]
  },
  {
   "cell_type": "markdown",
   "metadata": {},
   "source": [
    "A common way to approach collaborative filtering is through low rank matrix factorization. <mark>Simply put, since we can represent interactions through a matrix, surely we can approximate the matrix by decomposing the matrix based on observed data (non-nans)</mark>:\n",
    "\n",
    "$$M \\approx R*C$$\n",
    "\n",
    "For our case, $M$ are the ratings we're trying to predict, $\\Theta$ are the latent features about the users, and $W$ are the latent features about the movies.\n",
    "\n",
    "It follows that the prediction for some unknown $M_{i,j}$ will be the dot product for the relevant feature vector in $R$ and the relevant feature vector in $C$:\n",
    "$$M_{i,j} = R_i * C_j$$"
   ]
  },
  {
   "cell_type": "markdown",
   "metadata": {},
   "source": [
    "## Optimization/learning"
   ]
  },
  {
   "cell_type": "markdown",
   "metadata": {},
   "source": [
    "# As always with anything ML, to learn $\\Theta$ and $W$ we guess and optimize:\n",
    "1. We initialize both matrices randomly/some fancy method\n",
    "1. Learn feature vectors $\\theta_i, w_j$ based on observed data\n",
    "1. Gradient Descent / Optimization algo!!!\n",
    "1. ???\n",
    "1. profit\n",
    "\n",
    "This means we need an optimization objective:\n",
    "$$L(\\Theta, G) = \\sum_{(i,j) \\in \\Omega} l(M_{i,j}, \\theta^T_i*g_j) + bias + \\text{regularization}$$\n",
    "\n",
    "Where $l$ is some loss function. The paper used l1 norm for the loss function, we can try experimenting with both, and maybe some built in pytorch loss functions. bias / regularization can be discussed later"
   ]
  },
  {
   "cell_type": "markdown",
   "metadata": {},
   "source": [
    "<center><img src='algo.png' width=500px/></center>"
   ]
  },
  {
   "cell_type": "code",
   "execution_count": 25,
   "metadata": {},
   "outputs": [],
   "source": [
    "class LowRankFactorization():\n",
    "    \n",
    "    def __init__(self, n_R, n_C, K, alpha, reg):\n",
    "        '''\n",
    "        n_R: number of rows\n",
    "        n_C: number of cols\n",
    "        K: latent factors dimensionality\n",
    "        reg: regularization strength\n",
    "        alpha: learning rate\n",
    "        '''\n",
    "        self.R = np.random.randn(n_R, K) / K\n",
    "        self.C = np.random.randn(n_C, K) / K\n",
    "        self.R_bias = np.zeros(n_R)\n",
    "        self.C_bias = np.zeros(n_C)\n",
    "        self.reg = reg\n",
    "        self.alpha = alpha\n",
    "        self.F = None\n",
    "    \n",
    "    def forward(self):\n",
    "        self.F = self.R.dot(self.C.T) + (self.R_bias[:,np.newaxis] + self.C_bias[np.newaxis:,])\n",
    "        return np.copy(self.F)\n",
    "    \n",
    "    def mse_loss(self, M):\n",
    "        Z = np.argwhere(M > 0)\n",
    "        loss = 0\n",
    "        \n",
    "        for i, j in Z:\n",
    "            loss += (M[i,j] - self.F[i,j])**2\n",
    "        return np.sqrt(loss)\n",
    "        \n",
    "    def backward(self, M):\n",
    "        Z = np.argwhere(M > 0)\n",
    "        \n",
    "        # sgd\n",
    "        for i, j in Z:\n",
    "            loss = M[i, j] - self.F[i, j]\n",
    "            self.R_bias[i] += self.alpha * (loss - self.reg * self.R_bias[i])\n",
    "            self.C_bias[j] += self.alpha * (loss - self.reg * self.C_bias[j])\n",
    "            \n",
    "            self.R[i, :] += self.alpha * (loss * self.C[j, :] - self.reg * self.R[i, :])\n",
    "            self.C[j, :] += self.alpha * (loss * self.R[i, :] - self.reg * self.C[j, :])\n",
    "        \n",
    "    "
   ]
  },
  {
   "cell_type": "markdown",
   "metadata": {},
   "source": [
    "### Test implementation by trying to overfit a small dataset"
   ]
  },
  {
   "cell_type": "code",
   "execution_count": 54,
   "metadata": {},
   "outputs": [
    {
     "name": "stdout",
     "output_type": "stream",
     "text": [
      "real: \n",
      "[[4 1 2 2 0 1 3 3 3 1]\n",
      " [0 4 1 3 3 4 0 0 0 3]\n",
      " [4 0 0 1 3 4 0 2 0 3]\n",
      " [1 2 0 0 4 0 2 3 3 1]\n",
      " [0 4 2 0 3 3 0 0 0 2]\n",
      " [2 0 4 0 2 1 3 0 2 3]\n",
      " [0 2 2 0 4 3 1 0 1 1]\n",
      " [4 3 3 3 3 0 4 0 3 1]\n",
      " [4 2 4 3 2 2 0 1 0 2]\n",
      " [0 3 0 1 4 4 0 4 0 2]]\n",
      "pred: \n",
      "[[ 4.034  1.384  1.973  1.975  3.426  0.981  3.154  3.035  2.843  0.612]\n",
      " [ 4.937  4.156  1.11   2.753  3.046  3.966 -1.029  2.09  -0.744  2.978]\n",
      " [ 3.953  4.261 -2.673  1.117  2.992  4.034 -3.939  2.039 -2.53   2.879]\n",
      " [ 1.053  2.082 -2.783  0.305  3.926 -0.275  1.996  2.995  3.032  0.936]\n",
      " [ 4.411  3.597  1.975  2.901  2.978  2.954  0.643  1.978  0.528  2.505]\n",
      " [ 1.984  4.191  3.942  3.997  1.905  1.136  3.088 -0.167  1.996  2.927]\n",
      " [ 6.276  1.847  1.927  2.138  3.808  3.15   1.038  3.9    1.077  1.124]\n",
      " [ 3.779  2.427  3.192  2.982  3.255  1.244  3.738  2.377  3.081  1.536]\n",
      " [ 4.153  2.449  3.921  3.141  1.981  1.848  1.908  0.986  0.904  1.522]\n",
      " [ 5.457  3.019 -1.847  1.025  4.09   3.97  -2.126  3.953 -0.806  1.97 ]]\n",
      "loss:  1.5617710171584132\n"
     ]
    }
   ],
   "source": [
    "R = np.random.randint(5, size=(10,10))\n",
    "model = LowRankFactorization(R.shape[0], R.shape[1], 3, .01, .001)\n",
    "epochs = 1000\n",
    "\n",
    "loss = []\n",
    "for e in range(epochs):\n",
    "    model.forward()\n",
    "    model.backward(R)\n",
    "    loss.append(np.around(model.mse_loss(R), decimals=3))\n",
    "                \n",
    "print(\"real: \")\n",
    "#print_matrix(R)\n",
    "print(R)\n",
    "print(\"pred: \")\n",
    "print(np.around(model.forward(), decimals=3))\n",
    "print(\"loss: \", model.mse_loss(R))"
   ]
  },
  {
   "cell_type": "code",
   "execution_count": 55,
   "metadata": {},
   "outputs": [
    {
     "data": {
      "text/plain": [
       "[<matplotlib.lines.Line2D at 0x7ff155993cf8>]"
      ]
     },
     "execution_count": 55,
     "metadata": {},
     "output_type": "execute_result"
    },
    {
     "data": {
      "image/png": "[encoded data removed]",
      "text/plain": [
       "<Figure size 432x288 with 1 Axes>"
      ]
     },
     "metadata": {
      "needs_background": "light"
     },
     "output_type": "display_data"
    }
   ],
   "source": [
    "plt.plot(loss)"
   ]
  },
  {
   "cell_type": "markdown",
   "metadata": {},
   "source": [
    "### Try to fit movielens dataset (top 10 viewers/movies)"
   ]
  },
  {
   "cell_type": "code",
   "execution_count": 46,
   "metadata": {},
   "outputs": [
    {
     "name": "stdout",
     "output_type": "stream",
     "text": [
      "real: \n",
      "[[2.5 5.  2.  3.  3.5 3.5 4.  3.5 3.5 4.5]\n",
      " [4.5 3.  5.  4.5 4.5 3.5 4.  4.5 4.  4. ]\n",
      " [5.  5.  5.  5.  5.  2.  5.  4.  5.  3. ]\n",
      " [4.  5.  5.  3.  5.  5.  0.  5.  5.  4.5]\n",
      " [5.  5.  5.  5.  5.  4.  4.  5.  4.  5. ]\n",
      " [0.  5.  5.  0.  3.  3.  0.  3.  5.  2. ]\n",
      " [3.  4.  4.  5.  3.  4.5 5.  4.  4.5 4.5]\n",
      " [3.5 5.  5.  4.  3.5 4.  0.  4.5 3.  5. ]\n",
      " [3.5 4.5 5.  3.5 4.  2.5 5.  3.5 4.5 5. ]\n",
      " [4.5 5.  5.  3.  3.  5.  3.5 5.  4.5 5. ]]\n",
      "pred: \n",
      "[[2.379 4.855 2.5   3.329 2.803 3.592 4.127 3.306 3.499 4.489]\n",
      " [4.67  3.654 5.191 4.454 4.398 3.116 3.71  4.46  3.779 4.06 ]\n",
      " [4.634 4.516 5.182 5.033 5.049 2.154 5.341 3.826 5.007 3.239]\n",
      " [4.085 5.238 5.552 3.249 4.107 4.761 4.616 4.843 4.975 4.591]\n",
      " [4.886 4.533 5.12  5.049 4.68  4.059 4.303 5.004 4.165 5.139]\n",
      " [2.616 4.884 4.748 1.708 3.276 2.872 4.846 3.02  5.168 2.23 ]\n",
      " [3.545 4.918 3.835 4.102 3.771 3.815 4.482 4.075 4.085 4.702]\n",
      " [3.855 4.382 4.346 3.798 3.657 4.289 3.657 4.561 3.632 4.967]\n",
      " [3.74  4.684 4.525 3.82  4.019 3.246 4.633 3.894 4.481 3.832]\n",
      " [3.866 4.843 5.055 3.073 3.62  5.141 3.801 4.972 4.168 5.106]]\n",
      "loss:  3.622482609279756\n"
     ]
    }
   ],
   "source": [
    "model = LowRankFactorization(M.shape[0], M.shape[1], 3, .01, .001)\n",
    "epochs = 150\n",
    "\n",
    "loss = []\n",
    "for e in range(epochs):\n",
    "    model.forward()\n",
    "    model.backward(M)\n",
    "    loss.append(np.around(model.mse_loss(M), decimals=3))\n",
    "\n",
    "print(\"real: \")\n",
    "#print_matrix(R)\n",
    "print(M)\n",
    "print(\"pred: \")\n",
    "print(np.around(model.forward(), decimals=3))\n",
    "print(\"loss: \", model.mse_loss(M))"
   ]
  },
  {
   "cell_type": "code",
   "execution_count": 42,
   "metadata": {},
   "outputs": [
    {
     "data": {
      "text/plain": [
       "[<matplotlib.lines.Line2D at 0x7ff15575dac8>]"
      ]
     },
     "execution_count": 42,
     "metadata": {},
     "output_type": "execute_result"
    },
    {
     "data": {
      "image/png": "[encoded data removed]",
      "text/plain": [
       "<Figure size 432x288 with 1 Axes>"
      ]
     },
     "metadata": {
      "needs_background": "light"
     },
     "output_type": "display_data"
    }
   ],
   "source": [
    "plt.plot(loss)"
   ]
  },
  {
   "cell_type": "markdown",
   "metadata": {},
   "source": [
    "# Sources\n",
    "http://nyc.lti.cs.cmu.edu/classes/11-741/Papers/gemulla-sigkdd11.pdf\n",
    "https://www.cs.cmu.edu/~mgormley/courses/10601-s17/slides/lecture25-mf.pdf"
   ]
  },
  {
   "cell_type": "markdown",
   "metadata": {},
   "source": [
    "# Alternating Least Squares"
   ]
  },
  {
   "cell_type": "code",
   "execution_count": 177,
   "metadata": {},
   "outputs": [],
   "source": [
    "import numpy as np\n",
    "from scipy.sparse import rand as sprand\n",
    "import torch\n",
    "from torch.autograd import Variable\n",
    "\n",
    "# Make up some random explicit feedback ratings\n",
    "# and convert to a numpy array\n",
    "n_users = 30\n",
    "n_items = 30\n",
    "ratings = sprand(n_users, n_items, \n",
    "                 density=0.01, format='csr')\n",
    "ratings.data = (np.random.randint(1, 5, \n",
    "                                  size=ratings.nnz)\n",
    "                          .astype(np.float64))\n",
    "ratings = ratings.toarray()\n",
    "\n",
    "ratings = np.random.randint(5, size=(5,5))"
   ]
  },
  {
   "cell_type": "code",
   "execution_count": 178,
   "metadata": {},
   "outputs": [
    {
     "data": {
      "text/plain": [
       "array([[0, 0, 2, 4, 0],\n",
       "       [2, 1, 1, 4, 4],\n",
       "       [0, 3, 4, 0, 4],\n",
       "       [2, 1, 4, 3, 3],\n",
       "       [2, 3, 2, 0, 4]])"
      ]
     },
     "execution_count": 178,
     "metadata": {},
     "output_type": "execute_result"
    }
   ],
   "source": [
    "ratings"
   ]
  },
  {
   "cell_type": "code",
   "execution_count": 188,
   "metadata": {},
   "outputs": [],
   "source": [
    "class MatrixFactorization(torch.nn.Module):\n",
    "    \n",
    "    def __init__(self, n_users, n_items, n_factors=20):\n",
    "        super().__init__()\n",
    "        self.user_factors = torch.nn.Embedding(n_users, \n",
    "                                               n_factors,\n",
    "                                               sparse=True)\n",
    "        self.item_factors = torch.nn.Embedding(n_items, \n",
    "                                               n_factors,\n",
    "                                               sparse=True)\n",
    "        \n",
    "    def forward(self, user, item):\n",
    "        return (self.user_factors(user) * self.item_factors(item)).sum(1)\n"
   ]
  },
  {
   "cell_type": "code",
   "execution_count": 180,
   "metadata": {},
   "outputs": [],
   "source": [
    "class BiasedMatrixFactorization(torch.nn.Module):\n",
    "    \n",
    "    def __init__(self, n_users, n_items, n_factors=20):\n",
    "        super().__init__()\n",
    "        self.user_factors = torch.nn.Embedding(n_users, \n",
    "                                               n_factors,\n",
    "                                               sparse=True)\n",
    "        self.item_factors = torch.nn.Embedding(n_items, \n",
    "                                               n_factors,\n",
    "                                               sparse=True)\n",
    "        self.user_biases = torch.nn.Embedding(n_users, \n",
    "                                              1,\n",
    "                                              sparse=True)\n",
    "        self.item_biases = torch.nn.Embedding(n_items,\n",
    "                                              1,\n",
    "                                              sparse=True)\n",
    "        \n",
    "    def forward(self, user, item):\n",
    "        pred = self.user_biases(user) + self.item_biases(item)\n",
    "        pred += (self.user_factors(user) * self.item_factors(item)).sum(1)\n",
    "        return pred"
   ]
  },
  {
   "cell_type": "code",
   "execution_count": 186,
   "metadata": {},
   "outputs": [],
   "source": [
    "test = torch.nn.Embedding(5, 5)"
   ]
  },
  {
   "cell_type": "code",
   "execution_count": 181,
   "metadata": {},
   "outputs": [],
   "source": [
    "class CustomLoss(torch.nn.Module):\n",
    "    def __init__(self):\n",
    "        super(CustomLoss, self).__init__()\n",
    "    \n",
    "    '''\n",
    "    takes nonzeros\n",
    "    '''\n",
    "    def forward(self, X, Y):\n",
    "        return (x - y)**2"
   ]
  },
  {
   "cell_type": "code",
   "execution_count": 193,
   "metadata": {},
   "outputs": [],
   "source": [
    " model = MatrixFactorization(n_users, n_items, n_factors=3)\n",
    "#model = BiasedMatrixFactorization(n_users, n_items, n_factors=3)\n",
    "loss_func = torch.nn.MSELoss()\n",
    "optimizer = torch.optim.SGD(model.parameters(), \n",
    "                            lr=1e-3) # learning rate\n",
    "epochs = 50"
   ]
  },
  {
   "cell_type": "code",
   "execution_count": 194,
   "metadata": {},
   "outputs": [],
   "source": [
    "# Sort our data\n",
    "rows, cols = ratings.nonzero()\n",
    "nonzero_shape = ratings.nonzer().shape\n",
    "\n",
    "for e in range(epochs):\n",
    "    gt = np.zeros()\n",
    "    pred = np.zeros\n",
    "    for row, col in zip(*(rows, cols)):\n",
    "        # Turn data into variables\n",
    "        rating = Variable(torch.FloatTensor([ratings[row, col]]))\n",
    "        row = Variable(torch.LongTensor([np.long(row)]))\n",
    "        col = Variable(torch.LongTensor([np.long(col)]))\n",
    "\n",
    "        # Predict and calculate loss\n",
    "        prediction = model(row, col)\n",
    "        loss = loss_func(prediction, rating)\n",
    "\n",
    "        # Backpropagate\n",
    "        loss.backward()\n",
    "\n",
    "        # Update the parameters\n",
    "        optimizer.step()"
   ]
  },
  {
   "cell_type": "code",
   "execution_count": 195,
   "metadata": {},
   "outputs": [
    {
     "data": {
      "text/plain": [
       "(array([0, 0, 1, 1, 1, 1, 1, 2, 2, 2, 3, 3, 3, 3, 3, 4, 4, 4, 4]),\n",
       " array([2, 3, 0, 1, 2, 3, 4, 1, 2, 4, 0, 1, 2, 3, 4, 0, 1, 2, 4]))"
      ]
     },
     "execution_count": 195,
     "metadata": {},
     "output_type": "execute_result"
    }
   ],
   "source": [
    "ratings.nonzero()"
   ]
  },
  {
   "cell_type": "code",
   "execution_count": 196,
   "metadata": {},
   "outputs": [
    {
     "name": "stdout",
     "output_type": "stream",
     "text": [
      "2 tensor(1.6375)\n",
      "4 tensor(-18.3524)\n",
      "2 tensor(29.9260)\n",
      "1 tensor(17.4291)\n",
      "1 tensor(27.9948)\n",
      "4 tensor(-160.5630)\n",
      "4 tensor(-32.1967)\n",
      "3 tensor(8.8649)\n",
      "4 tensor(3.2874)\n",
      "4 tensor(-1.5861)\n",
      "2 tensor(19.4142)\n",
      "1 tensor(-11.8924)\n",
      "4 tensor(-8.5185)\n",
      "3 tensor(44.9006)\n",
      "3 tensor(2.4343)\n",
      "2 tensor(-5.5661)\n",
      "3 tensor(3.1683)\n",
      "2 tensor(1.5059)\n",
      "4 tensor(3.6606)\n"
     ]
    }
   ],
   "source": [
    "rows, cols = ratings.nonzero()[0], ratings.nonzero()[1]\n",
    "\n",
    "for i in range(len(rows)):\n",
    "    row, col = rows[i], cols[i]\n",
    "    ri_tensor = torch.LongTensor([np.long(row)])\n",
    "    ci_tensor = torch.LongTensor([np.long(col)])\n",
    "    print(ratings[row][col], model(ri_tensor, ci_tensor).data[0])"
   ]
  },
  {
   "cell_type": "code",
   "execution_count": null,
   "metadata": {},
   "outputs": [],
   "source": []
  },
  {
   "cell_type": "code",
   "execution_count": null,
   "metadata": {},
   "outputs": [],
   "source": []
  }
 ],
 "metadata": {
  "kernelspec": {
   "display_name": "Python deeplearning",
   "language": "python",
   "name": "deeplearning"
  },
  "language_info": {
   "codemirror_mode": {
    "name": "ipython",
    "version": 3
   },
   "file_extension": ".py",
   "mimetype": "text/x-python",
   "name": "python",
   "nbconvert_exporter": "python",
   "pygments_lexer": "ipython3",
   "version": "3.6.8"
  }
 },
 "nbformat": 4,
 "nbformat_minor": 2
}
